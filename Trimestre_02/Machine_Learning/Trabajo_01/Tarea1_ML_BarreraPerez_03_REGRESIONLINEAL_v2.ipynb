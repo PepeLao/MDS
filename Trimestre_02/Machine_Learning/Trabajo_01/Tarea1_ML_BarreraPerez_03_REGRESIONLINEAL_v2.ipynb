{
 "cells": [
  {
   "cell_type": "markdown",
   "metadata": {},
   "source": [
    "# Machine Learning\n",
    "## Tarea 1 : Problema de Clasificación y de Regresión Lineal\n",
    "---\n",
    "__PROFESOR : Rodrigo Hernández__\n",
    "\n",
    "__ALUMNOS : Roy Barrera - José Pérez__"
   ]
  },
  {
   "cell_type": "markdown",
   "metadata": {},
   "source": [
    "---"
   ]
  },
  {
   "cell_type": "markdown",
   "metadata": {},
   "source": [
    "# Problema de modelo de regresión lineal"
   ]
  },
  {
   "cell_type": "markdown",
   "metadata": {},
   "source": [
    "---"
   ]
  },
  {
   "cell_type": "markdown",
   "metadata": {},
   "source": [
    "__1 CONTEXTO__ \n",
    "\n",
    "En la actualidad las empresas de Telecomunicaciones están inmersas en un mercado muy competitivo, donde continuamente surgen nuevas y mejores ofertas para atraer clientes de empresas de la competencia. \n",
    "Fidelizar a los clientes se ha convertido entonces en unos de los focos principales para las empresas de telecomunicaciones, en donde prestamos servicios de consultoría en la gerencia de TI.\n",
    "Dentro del ámbito de los clientes fidelizados de esta compañía de telecomunicaciones, uno de los indicadores claves es ofertar y mantener una relación costo-beneficio, lo más cercana a lo óptimo desde el punto de vista económico de la empresa. Esto se traduce en ofrecer servicios que se ajusten al presupuesto del cliente para el ítem \"Gasto mensual en Telecomunicaciones\".\n",
    "\n",
    "Dicho lo anterior, la pregunta de valor que se quiere responder es:\n",
    "\n",
    "__2 PREGUNTA DE VALOR__\n",
    "\n",
    "\n",
    "¿Podremos predecir correctamente el presupuesto mensual destinado para el ítem \"Gasto en Telecomunicaciones\"?\n",
    "\n",
    "Considerando la anterior pregunta de valor, es entonces que se usa el set de datos \"VII encuesta familiar de presupuesto\" elaborada por el INE, en pos de intentar modelar y predecir correctamente la pregunta que se hace.\n",
    "\n",
    "Ya se cuenta con un set de datos previamente trabajado. Se analizaron las variables candidatas a ser usadas, se realizó una limpieza de los datos, para asegurar el correcto funcionamiento de las operaciones a ser realizadas sobre ellos, y también se efectuaron transformaciones de los datos para tener otros puntos de vistas de los mismos. Siendo los mismos datos, su interpretación puede ser diferente, según la óptica con la cual se los vea.\n",
    "\n"
   ]
  },
  {
   "cell_type": "code",
   "execution_count": 1,
   "metadata": {},
   "outputs": [],
   "source": [
    "# Son importadas las librerías y módulos requeridos. \n",
    "\n",
    "# Manejo de Data Frame\n",
    "import pandas as pd\n",
    "\n",
    "# Manejo de vectores y matrices\n",
    "import numpy as np\n",
    "\n",
    "# Manejo de gráfica\n",
    "import matplotlib.pyplot as plt\n",
    "import seaborn as sns; sns.set()\n",
    "from pandas.plotting import scatter_matrix\n",
    "\n",
    "# Magic para graficar dentro del notebook\n",
    "%matplotlib inline\n",
    "\n",
    "# Manejo de estadísticos de base\n",
    "from scipy import stats\n",
    "\n",
    "# Manejo de particiones para muestras\n",
    "from sklearn.model_selection import train_test_split\n",
    "\n",
    "# Manejp de moodelo de regresión Lineal\n",
    "from sklearn.linear_model import LinearRegression\n",
    "from sklearn import model_selection\n",
    "from sklearn.feature_selection import SelectKBest, chi2\n",
    "from sklearn.linear_model import RANSACRegressor  \n",
    "from sklearn.linear_model import Ridge\n",
    "from sklearn.linear_model import Lasso\n",
    "from sklearn.linear_model import ElasticNet\n",
    "from sklearn.linear_model import LinearRegression\n",
    "from math import sqrt\n",
    "from sklearn.metrics import r2_score\n",
    "from sklearn.metrics import mean_squared_error\n",
    "import statsmodels.api as sm\n"
   ]
  },
  {
   "cell_type": "markdown",
   "metadata": {},
   "source": [
    "__3 DESCRIPCION DE LOS DATOS__\n",
    "\n",
    "Considerar que el set de datos a usar en principio es el mismo que el usado para el problema de Clasificadores. En ese sentido es que se realizó una tarea de Exploración de los datos, preseleccionando un set de datos que llamamos 'Gasto_x_Familia.csv'. Mayores detalles de esta tarea se pueden ver en el archivo Tarea1_ML_BarreraPerez_01_EXPLORACION_v2.pdf"
   ]
  },
  {
   "cell_type": "code",
   "execution_count": 2,
   "metadata": {},
   "outputs": [],
   "source": [
    "# Rescata el set de datos. Recordar que este set de datos esta previamente trabajado, incorporando aquellas variables\n",
    "# pre-candidatas a ser usadas.\n",
    "df_t01 = pd.read_csv('Gasto_x_Familia.csv', sep=';', decimal='.')"
   ]
  },
  {
   "cell_type": "markdown",
   "metadata": {},
   "source": [
    "__3.1 Resumen del tipo de datos utilizados__\n",
    "\n",
    "Mediante la función info(), se obtiene resumen de los datos usados."
   ]
  },
  {
   "cell_type": "code",
   "execution_count": 3,
   "metadata": {},
   "outputs": [
    {
     "name": "stdout",
     "output_type": "stream",
     "text": [
      "<class 'pandas.core.frame.DataFrame'>\n",
      "RangeIndex: 4941 entries, 0 to 4940\n",
      "Data columns (total 10 columns):\n",
      "Personas             4941 non-null int64\n",
      "Gastos               4941 non-null int64\n",
      "Ingresos             4941 non-null int64\n",
      "Categoria            4941 non-null object\n",
      "G1_Alimentacion      4941 non-null float64\n",
      "G2_Bebidas           4941 non-null float64\n",
      "G8_Comunicaciones    4941 non-null float64\n",
      "G9_Recreacion        4941 non-null float64\n",
      "G10_Educacion        4941 non-null float64\n",
      "G11_Restaurantes     4941 non-null float64\n",
      "dtypes: float64(6), int64(3), object(1)\n",
      "memory usage: 386.1+ KB\n"
     ]
    }
   ],
   "source": [
    "# Miramos las variables pre-candidatas a ser usadas, los nombres de las columnas y su tipo. También miramos la cantidad\n",
    "# de muestras del set de datos.\n",
    "df_t01.info()"
   ]
  },
  {
   "cell_type": "markdown",
   "metadata": {},
   "source": [
    "__3.2 Descripción del comportamiento univariado__\n",
    "\n",
    "Se usa la función describe(), para conocer el comportamiento univariado del set de datos."
   ]
  },
  {
   "cell_type": "code",
   "execution_count": 4,
   "metadata": {},
   "outputs": [
    {
     "data": {
      "text/html": [
       "<div>\n",
       "<style scoped>\n",
       "    .dataframe tbody tr th:only-of-type {\n",
       "        vertical-align: middle;\n",
       "    }\n",
       "\n",
       "    .dataframe tbody tr th {\n",
       "        vertical-align: top;\n",
       "    }\n",
       "\n",
       "    .dataframe thead th {\n",
       "        text-align: right;\n",
       "    }\n",
       "</style>\n",
       "<table border=\"1\" class=\"dataframe\">\n",
       "  <thead>\n",
       "    <tr style=\"text-align: right;\">\n",
       "      <th></th>\n",
       "      <th>Personas</th>\n",
       "      <th>Gastos</th>\n",
       "      <th>Ingresos</th>\n",
       "      <th>G1_Alimentacion</th>\n",
       "      <th>G2_Bebidas</th>\n",
       "      <th>G8_Comunicaciones</th>\n",
       "      <th>G9_Recreacion</th>\n",
       "      <th>G10_Educacion</th>\n",
       "      <th>G11_Restaurantes</th>\n",
       "    </tr>\n",
       "  </thead>\n",
       "  <tbody>\n",
       "    <tr>\n",
       "      <th>count</th>\n",
       "      <td>4941.000000</td>\n",
       "      <td>4.941000e+03</td>\n",
       "      <td>4.941000e+03</td>\n",
       "      <td>4.941000e+03</td>\n",
       "      <td>4941.000000</td>\n",
       "      <td>4941.000000</td>\n",
       "      <td>4.941000e+03</td>\n",
       "      <td>4.941000e+03</td>\n",
       "      <td>4.941000e+03</td>\n",
       "    </tr>\n",
       "    <tr>\n",
       "      <th>mean</th>\n",
       "      <td>3.970451</td>\n",
       "      <td>1.614312e+06</td>\n",
       "      <td>1.923799e+06</td>\n",
       "      <td>2.749368e+05</td>\n",
       "      <td>30510.643128</td>\n",
       "      <td>80189.430258</td>\n",
       "      <td>1.144853e+05</td>\n",
       "      <td>1.506017e+05</td>\n",
       "      <td>1.087676e+05</td>\n",
       "    </tr>\n",
       "    <tr>\n",
       "      <th>std</th>\n",
       "      <td>1.548781</td>\n",
       "      <td>1.308729e+06</td>\n",
       "      <td>2.069036e+06</td>\n",
       "      <td>1.785312e+05</td>\n",
       "      <td>42820.808602</td>\n",
       "      <td>60006.240471</td>\n",
       "      <td>1.764910e+05</td>\n",
       "      <td>2.194059e+05</td>\n",
       "      <td>1.499305e+05</td>\n",
       "    </tr>\n",
       "    <tr>\n",
       "      <th>min</th>\n",
       "      <td>1.000000</td>\n",
       "      <td>6.237700e+04</td>\n",
       "      <td>3.070000e+02</td>\n",
       "      <td>1.937500e+03</td>\n",
       "      <td>3.216987</td>\n",
       "      <td>3.684826</td>\n",
       "      <td>3.352893e+01</td>\n",
       "      <td>6.429251e+00</td>\n",
       "      <td>3.747312e+01</td>\n",
       "    </tr>\n",
       "    <tr>\n",
       "      <th>25%</th>\n",
       "      <td>3.000000</td>\n",
       "      <td>7.897710e+05</td>\n",
       "      <td>7.466670e+05</td>\n",
       "      <td>1.532214e+05</td>\n",
       "      <td>5000.000000</td>\n",
       "      <td>40113.968095</td>\n",
       "      <td>2.528150e+04</td>\n",
       "      <td>4.291667e+03</td>\n",
       "      <td>2.179672e+04</td>\n",
       "    </tr>\n",
       "    <tr>\n",
       "      <th>50%</th>\n",
       "      <td>4.000000</td>\n",
       "      <td>1.224790e+06</td>\n",
       "      <td>1.280000e+06</td>\n",
       "      <td>2.376860e+05</td>\n",
       "      <td>15684.408430</td>\n",
       "      <td>67458.153461</td>\n",
       "      <td>6.060895e+04</td>\n",
       "      <td>6.793332e+04</td>\n",
       "      <td>6.066429e+04</td>\n",
       "    </tr>\n",
       "    <tr>\n",
       "      <th>75%</th>\n",
       "      <td>5.000000</td>\n",
       "      <td>1.982535e+06</td>\n",
       "      <td>2.252900e+06</td>\n",
       "      <td>3.550237e+05</td>\n",
       "      <td>39679.998779</td>\n",
       "      <td>105031.643441</td>\n",
       "      <td>1.323217e+05</td>\n",
       "      <td>2.037500e+05</td>\n",
       "      <td>1.339603e+05</td>\n",
       "    </tr>\n",
       "    <tr>\n",
       "      <th>max</th>\n",
       "      <td>17.000000</td>\n",
       "      <td>1.897800e+07</td>\n",
       "      <td>3.026667e+07</td>\n",
       "      <td>2.407691e+06</td>\n",
       "      <td>517805.942127</td>\n",
       "      <td>770836.560757</td>\n",
       "      <td>2.391135e+06</td>\n",
       "      <td>2.397525e+06</td>\n",
       "      <td>2.536041e+06</td>\n",
       "    </tr>\n",
       "  </tbody>\n",
       "</table>\n",
       "</div>"
      ],
      "text/plain": [
       "          Personas        Gastos      Ingresos  G1_Alimentacion  \\\n",
       "count  4941.000000  4.941000e+03  4.941000e+03     4.941000e+03   \n",
       "mean      3.970451  1.614312e+06  1.923799e+06     2.749368e+05   \n",
       "std       1.548781  1.308729e+06  2.069036e+06     1.785312e+05   \n",
       "min       1.000000  6.237700e+04  3.070000e+02     1.937500e+03   \n",
       "25%       3.000000  7.897710e+05  7.466670e+05     1.532214e+05   \n",
       "50%       4.000000  1.224790e+06  1.280000e+06     2.376860e+05   \n",
       "75%       5.000000  1.982535e+06  2.252900e+06     3.550237e+05   \n",
       "max      17.000000  1.897800e+07  3.026667e+07     2.407691e+06   \n",
       "\n",
       "          G2_Bebidas  G8_Comunicaciones  G9_Recreacion  G10_Educacion  \\\n",
       "count    4941.000000        4941.000000   4.941000e+03   4.941000e+03   \n",
       "mean    30510.643128       80189.430258   1.144853e+05   1.506017e+05   \n",
       "std     42820.808602       60006.240471   1.764910e+05   2.194059e+05   \n",
       "min         3.216987           3.684826   3.352893e+01   6.429251e+00   \n",
       "25%      5000.000000       40113.968095   2.528150e+04   4.291667e+03   \n",
       "50%     15684.408430       67458.153461   6.060895e+04   6.793332e+04   \n",
       "75%     39679.998779      105031.643441   1.323217e+05   2.037500e+05   \n",
       "max    517805.942127      770836.560757   2.391135e+06   2.397525e+06   \n",
       "\n",
       "       G11_Restaurantes  \n",
       "count      4.941000e+03  \n",
       "mean       1.087676e+05  \n",
       "std        1.499305e+05  \n",
       "min        3.747312e+01  \n",
       "25%        2.179672e+04  \n",
       "50%        6.066429e+04  \n",
       "75%        1.339603e+05  \n",
       "max        2.536041e+06  "
      ]
     },
     "execution_count": 4,
     "metadata": {},
     "output_type": "execute_result"
    }
   ],
   "source": [
    "# Miramos los valores estadisticos de las variables del set de datos.\n",
    "df_t01.describe()"
   ]
  },
  {
   "cell_type": "code",
   "execution_count": 5,
   "metadata": {
    "scrolled": true
   },
   "outputs": [
    {
     "name": "stdout",
     "output_type": "stream",
     "text": [
      "0        75693.396226\n",
      "1       110929.322637\n",
      "2       145270.167519\n",
      "3        40113.968095\n",
      "4        75000.000000\n",
      "5        90000.000000\n",
      "6       125026.116203\n",
      "7       266450.549451\n",
      "8        75055.555556\n",
      "9       133214.125226\n",
      "10      130044.070517\n",
      "11       20990.000000\n",
      "12       70000.000000\n",
      "13         410.656003\n",
      "14       76000.000000\n",
      "15       89856.511527\n",
      "16      101208.834778\n",
      "17       75682.027621\n",
      "18       21925.536677\n",
      "19       31003.972937\n",
      "20       83000.000000\n",
      "21       20000.000000\n",
      "22      151735.241451\n",
      "23       18142.638417\n",
      "24       99016.051102\n",
      "25        3957.770398\n",
      "26       75000.000000\n",
      "27       55980.000000\n",
      "28       17942.363504\n",
      "29       90050.850596\n",
      "            ...      \n",
      "4911     69674.000303\n",
      "4912     38422.209715\n",
      "4913    167823.272245\n",
      "4914    180380.530486\n",
      "4915    100388.813604\n",
      "4916    142346.250000\n",
      "4917     58000.000000\n",
      "4918     34133.333496\n",
      "4919    101539.325843\n",
      "4920    139503.000000\n",
      "4921     52000.000000\n",
      "4922     75400.000000\n",
      "4923     70900.000000\n",
      "4924     68050.952537\n",
      "4925     48524.659312\n",
      "4926    129200.966794\n",
      "4927     20400.000000\n",
      "4928    279602.109120\n",
      "4929     42906.250000\n",
      "4930     93347.750380\n",
      "4931     15163.311474\n",
      "4932    270326.771334\n",
      "4933     98549.780808\n",
      "4934     95960.000000\n",
      "4935    116800.000000\n",
      "4936     43000.000000\n",
      "4937    121544.056491\n",
      "4938    101488.723600\n",
      "4939    159580.360060\n",
      "4940     70154.334767\n",
      "Name: G8_Comunicaciones, Length: 4941, dtype: float64\n"
     ]
    }
   ],
   "source": [
    "# Seleccionamos la variable objetivo a ser usada en el modelo de regresión lineal; la caracteristica G8_Comunicaciones,\n",
    "# que corresponde al gasto mensual en el item Comunicaciones. \n",
    "y = df_t01['G8_Comunicaciones']\n",
    "print(y)"
   ]
  },
  {
   "cell_type": "code",
   "execution_count": 6,
   "metadata": {},
   "outputs": [
    {
     "name": "stdout",
     "output_type": "stream",
     "text": [
      "      G1_Alimentacion     G2_Bebidas  G9_Recreacion  G10_Educacion  \\\n",
      "0       281100.250000   42993.125000   64276.382051   3.994667e+04   \n",
      "1       255973.527878  137113.429554  203061.496236   4.708044e+04   \n",
      "2       202343.931967     307.170378   50029.641672   9.870833e+04   \n",
      "3       113543.777348     663.321978    1037.017201   9.166667e+04   \n",
      "4        15000.000000   14100.000000  150000.000000   2.785000e+05   \n",
      "5       467673.750000   20324.375000  369996.812500   5.109167e+05   \n",
      "6       356125.170050     152.002639  418421.896134   2.171667e+05   \n",
      "7       171942.227133  128298.666504  434327.298385   2.540000e+05   \n",
      "8       184402.468414   27877.266357  119626.548559   2.500000e+04   \n",
      "9       471096.042965  103929.885301  108317.113875   2.691667e+05   \n",
      "10       65249.503246   19662.501109  220978.476957   3.537500e+05   \n",
      "11       29280.000000   43600.000000   36701.509434   4.129167e+05   \n",
      "12      221896.062500   16798.125000   20329.727210   3.291667e+04   \n",
      "13      251157.545137    2618.714965   28280.018517   6.250000e+02   \n",
      "14      258045.937500    5405.625000    2033.286517   5.416667e+03   \n",
      "15      356301.651517   31693.659688  142926.984341   2.936667e+05   \n",
      "16      251495.243785   50205.661273   96699.267425   4.472767e+04   \n",
      "17      133670.130009   29121.156326  112135.792695   8.893655e+03   \n",
      "18       38712.476580     768.341720  216149.717405   1.046369e+03   \n",
      "19      376816.818142   18155.172002   49465.988232   1.375000e+03   \n",
      "20      442021.998962   42780.000000   47900.000000   1.666667e+03   \n",
      "21       19000.000000   50200.000000    4978.021978   5.583333e+05   \n",
      "22      612049.684861   41857.073624  312370.055101   2.464333e+05   \n",
      "23       97298.889550    3127.650994   28889.673468   1.100000e+05   \n",
      "24      307121.077360   37911.355391   80755.186482   1.833333e+05   \n",
      "25      433760.141941    6042.368808   86836.268468   1.108333e+05   \n",
      "26      245014.000000   58116.000000   42203.333252   2.500000e+03   \n",
      "27      157025.196880    8390.805440   86752.411499   3.083333e+04   \n",
      "28      471032.761319   28065.022032   35074.436221   2.201208e+04   \n",
      "29      207543.426524     295.962810  195925.160794   4.208333e+05   \n",
      "...               ...            ...            ...            ...   \n",
      "4911    139219.114722   13578.242375    4299.033822   1.101667e+05   \n",
      "4912     54983.455735    2457.363024   14776.548459   2.800000e+04   \n",
      "4913    559696.267959    5236.836702  795474.135220   6.706918e+05   \n",
      "4914    248043.209766   19675.507997  313626.027361   2.387500e+05   \n",
      "4915    486186.030785    4020.744118   11656.013337   5.750000e+04   \n",
      "4916    524384.375000   26524.375000  854767.196676   1.163333e+06   \n",
      "4917    167520.000000   47600.000000   69538.461538   1.958333e+05   \n",
      "4918     85818.334900   27280.000000   47313.186935   7.181818e+04   \n",
      "4919    199121.272165   54443.258027  331153.112354   2.100000e+04   \n",
      "4920    371298.000061     800.000000   38634.782609   3.524167e+05   \n",
      "4921    151500.000000  100000.000000    2523.364486   4.000000e+04   \n",
      "4922    245627.078925   18118.984341   72776.711884   1.483333e+05   \n",
      "4923    188749.807976    6568.125000  170505.893692   1.100000e+04   \n",
      "4924     44858.467939     180.151276   61341.642969   3.705833e+05   \n",
      "4925    131550.366750    3053.644549  163089.273966   6.500000e+04   \n",
      "4926    182107.687968  131332.453259  170465.252203   2.765000e+05   \n",
      "4927    162236.000000   24258.000000    9130.434783   9.166667e+03   \n",
      "4928    395506.654986   73296.294685  778205.476835   1.152639e+03   \n",
      "4929    173481.812805   74981.250000    3750.000000   2.500000e+03   \n",
      "4930    727680.570790   15629.889073  420830.044515   2.504907e+04   \n",
      "4931     85043.580113   18269.178922   30672.870679   7.083333e+04   \n",
      "4932    108319.624444   23047.865882  613288.193510   1.725000e+05   \n",
      "4933     75857.589882     289.736384  109615.586649   7.458333e+04   \n",
      "4934    327823.845500   59496.000000   62788.473195   4.600000e+05   \n",
      "4935    319175.999756   25080.000000  154186.714763   3.366667e+05   \n",
      "4936    102140.634752     114.873039     179.588980   3.142825e+05   \n",
      "4937    290921.496978     426.612644   66212.552459   1.650906e+03   \n",
      "4938    551750.651978  111655.471204    9418.545479   1.097683e+05   \n",
      "4939    427930.341392    9170.961420   28475.215724   7.033333e+04   \n",
      "4940    279638.006943   24698.265808   51104.321166   4.645000e+05   \n",
      "\n",
      "      G11_Restaurantes  \n",
      "0         38146.916244  \n",
      "1        148733.787228  \n",
      "2         24680.730814  \n",
      "3         11831.470055  \n",
      "4         46260.869565  \n",
      "5        204212.500000  \n",
      "6        230408.018736  \n",
      "7        420299.254747  \n",
      "8         64004.667343  \n",
      "9        184004.261026  \n",
      "10       204501.519350  \n",
      "11        36000.000000  \n",
      "12        34855.625000  \n",
      "13        89651.998141  \n",
      "14        26306.122583  \n",
      "15       331145.576147  \n",
      "16        50487.371692  \n",
      "17        42055.800711  \n",
      "18       165761.884350  \n",
      "19        51635.797470  \n",
      "20        30800.000000  \n",
      "21        32200.000000  \n",
      "22       205627.778535  \n",
      "23        34623.705349  \n",
      "24       309943.224839  \n",
      "25        49753.741122  \n",
      "26        62822.639594  \n",
      "27        33045.661528  \n",
      "28        79104.488342  \n",
      "29        13136.093717  \n",
      "...                ...  \n",
      "4911       1828.330995  \n",
      "4912      12925.846512  \n",
      "4913     280819.203883  \n",
      "4914     332409.796321  \n",
      "4915     185955.564374  \n",
      "4916      77073.750000  \n",
      "4917      70730.329670  \n",
      "4918     148940.005249  \n",
      "4919     153805.751096  \n",
      "4920      77999.999512  \n",
      "4921      89600.000000  \n",
      "4922      56174.454450  \n",
      "4923      29470.738741  \n",
      "4924      83934.950727  \n",
      "4925      57044.308170  \n",
      "4926     252605.951768  \n",
      "4927      20060.000000  \n",
      "4928      44094.147164  \n",
      "4929      14918.750244  \n",
      "4930     435551.341031  \n",
      "4931      67141.132283  \n",
      "4932     120794.643638  \n",
      "4933      51447.337984  \n",
      "4934       5390.154500  \n",
      "4935     352406.527473  \n",
      "4936        351.806735  \n",
      "4937      15033.860229  \n",
      "4938      69919.646437  \n",
      "4939      33615.410051  \n",
      "4940     123651.002002  \n",
      "\n",
      "[4941 rows x 5 columns]\n"
     ]
    }
   ],
   "source": [
    "# Seleccionamos las variables predictoras:\n",
    "# G1_Alimentación Gasto mensual en alimentación.\n",
    "# G2_Bebidas  Gasto mensual en bebidas alcoholicas.\n",
    "# G9_Recreacion Gasto mensual en recreación.\n",
    "# G10_Educacion Gasto mensual en educación.\n",
    "# G11_Restaurantes Gasto mensual en Restaurantes y Hoteles.\n",
    "\n",
    "x = df_t01.drop([ 'Personas','Gastos', 'Ingresos', 'Categoria', 'G8_Comunicaciones'], axis=1)\n",
    "print(x)"
   ]
  },
  {
   "cell_type": "markdown",
   "metadata": {},
   "source": [
    "__4 Elaboración de gráfica__\n",
    "\n",
    "A continuación se codifica y muestran los graficos que describen las variables a ser usadas."
   ]
  },
  {
   "cell_type": "code",
   "execution_count": 7,
   "metadata": {},
   "outputs": [
    {
     "data": {
      "image/png": "[encoded data removed]",
      "text/plain": [
       "<Figure size 1080x288 with 2 Axes>"
      ]
     },
     "metadata": {
      "needs_background": "light"
     },
     "output_type": "display_data"
    }
   ],
   "source": [
    "f, [p1, p2] = plt.subplots(1,2)\n",
    "f.set_figwidth(15)\n",
    " \n",
    "# Represento los puntos para la variable X1 y para Y\n",
    "p1.scatter(x.G1_Alimentacion, y)\n",
    "p1.set_title(u'Representación de G8 en función de G1')\n",
    "p1.set_xlabel('G1')\n",
    "p1.set_ylabel('G8')\n",
    " \n",
    "p2.scatter(x.G2_Bebidas, y)\n",
    "p2.set_title(u'Representación de G8 en función de G2')\n",
    "p2.set_xlabel('G2')\n",
    "p2.set_ylabel('G8')\n",
    "\n",
    "plt.show()\n",
    "\n"
   ]
  },
  {
   "cell_type": "code",
   "execution_count": 8,
   "metadata": {},
   "outputs": [
    {
     "data": {
      "image/png": "[encoded data removed]",
      "text/plain": [
       "<Figure size 1080x288 with 2 Axes>"
      ]
     },
     "metadata": {
      "needs_background": "light"
     },
     "output_type": "display_data"
    }
   ],
   "source": [
    "f, [p1, p2] = plt.subplots(1,2)\n",
    "f.set_figwidth(15)\n",
    "\n",
    "# Represento los puntos para la variable X1 y para Y\n",
    "p1.scatter(x.G9_Recreacion, y)\n",
    "p1.set_title(u'Representación de G8 en función de G9')\n",
    "p1.set_xlabel('G9')\n",
    "p1.set_ylabel('G8')\n",
    " \n",
    "p2.scatter(x.G10_Educacion, y)\n",
    "p2.set_title(u'Representación de G8 en función de G10')\n",
    "p2.set_xlabel('G10')\n",
    "p2.set_ylabel('G8')\n",
    "\n",
    "plt.show()\n"
   ]
  },
  {
   "cell_type": "code",
   "execution_count": 9,
   "metadata": {},
   "outputs": [
    {
     "data": {
      "image/png": "[encoded data removed]",
      "text/plain": [
       "<Figure size 1080x288 with 2 Axes>"
      ]
     },
     "metadata": {
      "needs_background": "light"
     },
     "output_type": "display_data"
    }
   ],
   "source": [
    "f, [p1, p2] = plt.subplots(1,2)\n",
    "f.set_figwidth(15)\n",
    "\n",
    "# Represento los puntos para la variable X1 y para Y\n",
    "p1.scatter(x.G11_Restaurantes, y)\n",
    "p1.set_title(u'Representación de G8 en función de G11')\n",
    "p1.set_xlabel('G11')\n",
    "p1.set_ylabel('G8')\n",
    " \n",
    "p2.scatter(x.G1_Alimentacion, y)\n",
    "p2.set_title(u'Representación de G8 en función de G1')\n",
    "p2.set_xlabel('G1')\n",
    "p2.set_ylabel('G8')\n",
    "\n",
    "plt.show()\n"
   ]
  },
  {
   "cell_type": "markdown",
   "metadata": {},
   "source": [
    "__5\tEspecificación, implementación validación, comparación y decisión del modelo de regresión lineal óptimo.__\n",
    "\n",
    "A continuación se aborda la tarea que entrenar el modelo de regresión lineal y probar su validez."
   ]
  },
  {
   "cell_type": "markdown",
   "metadata": {},
   "source": [
    "__5.1 Separación del set de datos__\n",
    "\n",
    "Es separado el set de datos en 2 subconjuntos. El 70% de los datos se deja para el entrenamiento, y el 30% restante se usará para hacer la prueba."
   ]
  },
  {
   "cell_type": "code",
   "execution_count": 10,
   "metadata": {},
   "outputs": [
    {
     "name": "stdout",
     "output_type": "stream",
     "text": [
      "(3458, 5)\n",
      "(1483, 5)\n",
      "(3458,)\n",
      "(1483,)\n"
     ]
    }
   ],
   "source": [
    "# Realizamos la selección de dataset para entrenamiento y para prueba.\n",
    "# El 70% de los datos serán usados para entrenar y el 30% restante para probar.\n",
    "\n",
    "x_train, x_test, y_train, y_test = train_test_split(x, y, test_size=0.30, random_state=40)\n",
    "print(x_train.shape); print(x_test.shape)\n",
    "print(y_train.shape); print(y_test.shape)"
   ]
  },
  {
   "cell_type": "code",
   "execution_count": 11,
   "metadata": {},
   "outputs": [
    {
     "data": {
      "text/plain": [
       "sklearn.linear_model.base.LinearRegression"
      ]
     },
     "execution_count": 11,
     "metadata": {},
     "output_type": "execute_result"
    }
   ],
   "source": [
    "# Realizamos la instanciación del modelo de regresión lineal, con los datos seleccionados para el entrenamiento.\n",
    "\n",
    "model = LinearRegression(fit_intercept=True)\n",
    "model.fit(x_train, y_train)\n",
    "type(model)"
   ]
  },
  {
   "cell_type": "code",
   "execution_count": 12,
   "metadata": {},
   "outputs": [
    {
     "name": "stdout",
     "output_type": "stream",
     "text": [
      "Entrenamiento, Error cuadratico medio: 50812.62467905983\n",
      "Entrenamiento, R2: 0.2594766202385689\n",
      "Entrenamiento, R2 ajustado: 0.2586187883477361\n",
      "Testing: Error cuadratico medio 53685.01437433914\n",
      "Testing: R2 0.2535958133693763\n",
      "Testing: R2 ajustado 0.2515757749752474\n"
     ]
    }
   ],
   "source": [
    "# Ahora lo que hacemos es obtener el Error cuadratico medio, R2, y R2 ajustado del\n",
    "# entrenamiento y la evaluacion\n",
    "from sklearn.metrics import mean_squared_error\n",
    "from sklearn.metrics import r2_score\n",
    "\n",
    "pred_train= model.predict(x_train)\n",
    "print(\"Entrenamiento, Error cuadratico medio:\",np.sqrt(round(mean_squared_error(y_train,pred_train),3)))\n",
    "print(\"Entrenamiento, R2:\", r2_score(y_train, pred_train))\n",
    "adj = 1 - float(len(y_train)-1)/(len(y_train)-(len(model.coef_)-1)-1)*(1 - r2_score(y_train, pred_train))\n",
    "print(\"Entrenamiento, R2 ajustado:\", adj)\n",
    "\n",
    "pred_test= model.predict(x_test)\n",
    "print(\"Testing: Error cuadratico medio\", np.sqrt(round(mean_squared_error(y_test,pred_test), 3)))\n",
    "print(\"Testing: R2\", r2_score(y_test, pred_test))\n",
    "adj = 1 - float(len(y_test)-1)/(len(y_test)-(len(model.coef_)-1)-1)*(1 - r2_score(y_test, pred_test))\n",
    "print(\"Testing: R2 ajustado\", adj)"
   ]
  },
  {
   "cell_type": "markdown",
   "metadata": {},
   "source": [
    "### OBSERVACION :\n",
    "__5.2 Resultados para el modelo de regresión lineal__\n",
    "Vemos que el EMS es muy grande¡¡¡, y que el R2 junto con R2 ajustado indican que el entrenamiento y la prueba del \n",
    "modelo de regresión son de baja calidad. El modelo de regresión lineal no sirve para predecir la variable objetivo\n",
    "elegida, a partir de las variables predictoras seleccionadas.  \n",
    "\n",
    "Se observa que hay __UNDERFITTING__"
   ]
  },
  {
   "cell_type": "code",
   "execution_count": 13,
   "metadata": {},
   "outputs": [
    {
     "name": "stdout",
     "output_type": "stream",
     "text": [
      "     Caracteristica  Coefficiente lineal  pvalue\n",
      "0   G1_Alimentacion             0.062499     0.0\n",
      "1        G2_Bebidas             0.114281     0.0\n",
      "2     G9_Recreacion             0.049159     0.0\n",
      "3     G10_Educacion             0.047648     0.0\n",
      "4  G11_Restaurantes             0.069540     0.0\n"
     ]
    }
   ],
   "source": [
    "scores, pvalues = chi2(x_test.astype('int64'), y_test.astype('int64'))\n",
    "coef= pd.DataFrame({\"Caracteristica\":x.columns,\"Coefficiente lineal\":np.transpose(model.coef_),\"pvalue\": pvalues})\n",
    "print(coef)"
   ]
  },
  {
   "cell_type": "markdown",
   "metadata": {},
   "source": [
    "Se ve que ninguna de las caracteristicas se encuentra relacionada con la variable objetivo G8_Alimentación, pues en todos\n",
    "los casos el coeficiente lineal se encuentra entre -0.3 y 0.3\n",
    "Veamos si el modelo mejora quitando los outliers, para ello entonces usaremos RANSAC"
   ]
  },
  {
   "cell_type": "markdown",
   "metadata": {},
   "source": [
    "__5.3 Estrategia de regularización__\n",
    "\n",
    "Se implementan 4 estrategias de regularización para el modelo de regresión, a saber:\n",
    "\n",
    "a. Modelo de regresión lineal RANSAC\n",
    "\n",
    "b. Modelo de regresión lineal RIDGE\n",
    "\n",
    "c. Modelo de regresión lineal LASSO\n",
    "\n",
    "d. Modelo de regresión lineal ELASTICNET"
   ]
  },
  {
   "cell_type": "code",
   "execution_count": 14,
   "metadata": {},
   "outputs": [
    {
     "name": "stdout",
     "output_type": "stream",
     "text": [
      "Entrenamiento, Error cuadratico medio: 62784.935801241365\n",
      "Entrenamiento, R2: -0.13059334952084622\n",
      "Entrenamiento, R2 ajustado: -0.13190304352550397\n",
      "Testing: Error cuadratico medio 61763.11875231852\n",
      "Testing: R2 0.012069587984273378\n",
      "Testing: R2 ajustado 0.009395892687884433\n"
     ]
    }
   ],
   "source": [
    "# Instanciamos el modelo lineal Ransac\n",
    "ransac = RANSACRegressor()\n",
    "\n",
    "# Entrenamos el modelo lineal Ransac\n",
    "ransac.fit(x_train, y_train)\n",
    "inlier_mask = ransac.inlier_mask_\n",
    "outlier_mask = np.logical_not(inlier_mask)\n",
    "\n",
    "\n",
    "# Ahora lo que hacemos es obtener el Error cuadratico medio, R2, y R2 ajustado del\n",
    "# entrenamiento y la evaluacion\n",
    "pred_train= ransac.predict(x_train)\n",
    "print(\"Entrenamiento, Error cuadratico medio:\",np.sqrt(round(mean_squared_error(y_train,pred_train),3)))\n",
    "print(\"Entrenamiento, R2:\", r2_score(y_train, pred_train))\n",
    "adj = 1 - float(len(y_train)-1)/(len(y_train)-(len( ransac.estimator_.coef_)-1)-1)*(1 - r2_score(y_train, pred_train))\n",
    "print(\"Entrenamiento, R2 ajustado:\", adj)\n",
    "\n",
    "pred_test= ransac.predict(x_test)\n",
    "print(\"Testing: Error cuadratico medio\", np.sqrt(round(mean_squared_error(y_test,pred_test), 3)))\n",
    "print(\"Testing: R2\", r2_score(y_test, pred_test))\n",
    "adj = 1 - float(len(y_test)-1)/(len(y_test)-(len(ransac.estimator_.coef_)-1)-1)*(1 - r2_score(y_test, pred_test))\n",
    "print(\"Testing: R2 ajustado\", adj)"
   ]
  },
  {
   "cell_type": "markdown",
   "metadata": {},
   "source": [
    "### OBSERVACION\n",
    "\n",
    "Los valores lejos de mejorar, empeoraron. El EMS aumentó, y tanto el R2 y el R2 ajustado disminuyeron.\n",
    "\n",
    "Se observa que hay __UNDERFITTING__\n",
    "\n",
    "\n",
    "__¿Qué pasará con las correlación de las características?__"
   ]
  },
  {
   "cell_type": "code",
   "execution_count": 15,
   "metadata": {},
   "outputs": [
    {
     "name": "stdout",
     "output_type": "stream",
     "text": [
      "     Caracteristica  Coefficiente lineal  pvalue\n",
      "0   G1_Alimentacion            -0.024155     0.0\n",
      "1        G2_Bebidas            -0.416474     0.0\n",
      "2     G9_Recreacion             0.127737     0.0\n",
      "3     G10_Educacion             0.110495     0.0\n",
      "4  G11_Restaurantes             0.070668     0.0\n"
     ]
    }
   ],
   "source": [
    "scores, pvalues = chi2(x_test.astype('int64'), y_test.astype('int64'))\n",
    "coef= pd.DataFrame({\"Caracteristica\":x.columns,\"Coefficiente lineal\":np.transpose(ransac.estimator_.coef_),\"pvalue\": pvalues})\n",
    "print(coef)"
   ]
  },
  {
   "cell_type": "markdown",
   "metadata": {},
   "source": [
    "Aún cuando el coeficiente linael aumenta para las caracteristicas G1_Alimentacion y G2_Bebidas, se mantiene dentro del \n",
    "rango -0.3 y 0.3\n",
    "Veamos si mejora los resultados al usar el modelo lineal Ridge de penalización de los coeficientes."
   ]
  },
  {
   "cell_type": "code",
   "execution_count": 16,
   "metadata": {},
   "outputs": [
    {
     "name": "stdout",
     "output_type": "stream",
     "text": [
      "Ridge/Ent - MSE: 50812.62467906379\n",
      "Ridge/Ent -  R2: 0.2594766202385689\n",
      "Ridge/Ent - adjR2: 0.2586187883477361\n",
      "Ridge/Test - MSE: 53685.01437433809\n",
      "Ridge/Test -  R2: 0.2535958133693771\n",
      "Ridge/Test - adjR2: 0.2515757749752482\n"
     ]
    }
   ],
   "source": [
    "# Instanciamos el modelo Ridge, penalización de los coefientes. Usamos para ello alpha = 1\n",
    "ridge = Ridge(alpha=1)\n",
    "\n",
    "# Entrenamos el modelo Ridge\n",
    "ridge.fit(x_train, y_train)\n",
    "\n",
    "# Ahora lo que hacemos es obtener el Error cuadratico medio, R2, y R2 ajustado del\n",
    "# entrenamiento y la evaluacion\n",
    "pred_train_rr= ridge.predict(x_train)\n",
    "print(\"Ridge/Ent - MSE:\", np.sqrt(mean_squared_error(y_train,pred_train_rr)))\n",
    "print(\"Ridge/Ent -  R2:\", r2_score(y_train, pred_train_rr))\n",
    "adj = 1 - float(len(y_train)-1)/(len(y_train)-(len(ridge.coef_)-1)-1)*(1 - r2_score(y_train, pred_train_rr))\n",
    "print(\"Ridge/Ent - adjR2:\", adj)\n",
    "\n",
    "pred_test_rr= ridge.predict(x_test)\n",
    "print(\"Ridge/Test - MSE:\", np.sqrt(mean_squared_error(y_test,pred_test_rr)))\n",
    "print(\"Ridge/Test -  R2:\", r2_score(y_test, pred_test_rr))\n",
    "adj = 1 - float(len(y_test)-1)/(len(y_test)-(len(ridge.coef_)-1)-1)*(1 - r2_score(y_test, pred_test_rr))\n",
    "print(\"Ridge/Test - adjR2:\", adj)"
   ]
  },
  {
   "cell_type": "markdown",
   "metadata": {},
   "source": [
    "No se ve mejora usando el modelo Ridge.\n",
    "\n",
    "Se observa que hay __UNDERFITTING__\n",
    "\n",
    "__Veamos que pasa con las características.__"
   ]
  },
  {
   "cell_type": "code",
   "execution_count": 17,
   "metadata": {},
   "outputs": [
    {
     "name": "stdout",
     "output_type": "stream",
     "text": [
      "     Caracteristica  Coefficiente lineal  pvalue\n",
      "0   G1_Alimentacion             0.062499     0.0\n",
      "1        G2_Bebidas             0.114281     0.0\n",
      "2     G9_Recreacion             0.049159     0.0\n",
      "3     G10_Educacion             0.047648     0.0\n",
      "4  G11_Restaurantes             0.069540     0.0\n"
     ]
    }
   ],
   "source": [
    "scores, pvalues = chi2(x_test.astype('int64'), y_test.astype('int64'))\n",
    "coef= pd.DataFrame({\"Caracteristica\":x.columns,\"Coefficiente lineal\":np.transpose(ridge.coef_),\"pvalue\": pvalues})\n",
    "print(coef)"
   ]
  },
  {
   "cell_type": "markdown",
   "metadata": {},
   "source": [
    "Para el modelo lienal Ridge, el coeficiente linael esta dentro del rango -0.3 y 0.3, para todas las caracteristicas.\n",
    "Ahora usaremos el modelo lineal Lasso."
   ]
  },
  {
   "cell_type": "code",
   "execution_count": 18,
   "metadata": {},
   "outputs": [
    {
     "name": "stdout",
     "output_type": "stream",
     "text": [
      "LASSO/Ent - MSE: 50812.62467906379\n",
      "LASSO/Ent -  R2: 0.2594766202385689\n",
      "LASSO/Ent - adjR2: 0.2586187883477361\n",
      "LASSO/Test - MSE: 53685.01437419751\n",
      "LASSO/Test -  R2: 0.2535958133732862\n",
      "LASSO/Test - adjR2: 0.25157577497916794\n"
     ]
    }
   ],
   "source": [
    "# Instanciación del modelo linael LASSO, con alpha = 0.1 y tol = 0000.1\n",
    "\n",
    "lasso = Lasso(alpha=0.1, tol=00000.1)\n",
    "lasso.fit(x_train, y_train)\n",
    "\n",
    "# Ahora lo que hacemos es obtener el Error cuadratico medio, R2, y R2 ajustado del\n",
    "# entrenamiento y la evaluacion\n",
    "pred_train_lasso= lasso.predict(x_train)\n",
    "print(\"LASSO/Ent - MSE:\", np.sqrt(mean_squared_error(y_train,pred_train_lasso)))\n",
    "print(\"LASSO/Ent -  R2:\", r2_score(y_train, pred_train_rr))\n",
    "adj = 1 - float(len(y_train)-1)/(len(y_train)-(len(lasso.coef_)-1)-1)*(1 - r2_score(y_train, pred_train_lasso))\n",
    "print(\"LASSO/Ent - adjR2:\", adj)\n",
    "\n",
    "pred_test_lasso= lasso.predict(x_test)\n",
    "print(\"LASSO/Test - MSE:\", np.sqrt(mean_squared_error(y_test,pred_test_lasso)))\n",
    "print(\"LASSO/Test -  R2:\", r2_score(y_test, pred_test_lasso))\n",
    "adj = 1 - float(len(y_test)-1)/(len(y_test)-(len(lasso.coef_)-1)-1)*(1 - r2_score(y_test, pred_test_lasso))\n",
    "print(\"LASSO/Test - adjR2:\", adj)"
   ]
  },
  {
   "cell_type": "markdown",
   "metadata": {},
   "source": [
    "Para el modelo lineal Lasso, continuan valores similares a los ya obtenidos del EMS, y del R2 y R2 ajustado.\n",
    "\n",
    "Se observa que hay __UNDERFITTING__\n",
    "\n",
    "__Veremos que pasa con el coeficiente lineal para las caracteristicas.__"
   ]
  },
  {
   "cell_type": "code",
   "execution_count": 19,
   "metadata": {},
   "outputs": [
    {
     "name": "stdout",
     "output_type": "stream",
     "text": [
      "     Caracteristica  Coefficiente lineal  pvalue\n",
      "0   G1_Alimentacion             0.062499     0.0\n",
      "1        G2_Bebidas             0.114281     0.0\n",
      "2     G9_Recreacion             0.049159     0.0\n",
      "3     G10_Educacion             0.047648     0.0\n",
      "4  G11_Restaurantes             0.069540     0.0\n"
     ]
    }
   ],
   "source": [
    "scores, pvalues = chi2(x_test.astype('int64'), y_test.astype('int64'))\n",
    "coef= pd.DataFrame({\"Caracteristica\":x.columns,\"Coefficiente lineal\":np.transpose(lasso.coef_),\"pvalue\": pvalues})\n",
    "print(coef)"
   ]
  },
  {
   "cell_type": "markdown",
   "metadata": {},
   "source": [
    "Para el modelo lienal Lasso, el coeficiente linael esta dentro del rango -0.3 y 0.3, para todas las caracteristicas.\n",
    "Ahora usaremos el modelo lineal ElasticNet."
   ]
  },
  {
   "cell_type": "code",
   "execution_count": 20,
   "metadata": {},
   "outputs": [
    {
     "name": "stdout",
     "output_type": "stream",
     "text": [
      "E.NET/Ent - MSE: 50812.62467906378\n",
      "E.NET/Ent -  R2: 0.2594766202385691\n",
      "E.NET/Ent - adjR2: 0.25861878834773633\n",
      "E.NET/Test - MSE: 53685.01437419773\n",
      "E.NET/Test -  R2: 0.2535958133732802\n",
      "E.NET/Test - adjR2: 0.25157577497916195\n"
     ]
    }
   ],
   "source": [
    "# Instanciación del modelo linael ElasticNet, l1_ratio=0.05, alpha = 0.9 y tol = 00.1\n",
    "\n",
    "enet = ElasticNet(l1_ratio=0.05, alpha=0.9, tol=00.1)\n",
    "enet.fit(x_train, y_train) \n",
    "\n",
    "# Ahora lo que hacemos es obtener el Error cuadratico medio, R2, y R2 ajustado del\n",
    "# entrenamiento y la evaluacion\n",
    "pred_train_net= enet.predict(x_train)\n",
    "print(\"E.NET/Ent - MSE:\", np.sqrt(mean_squared_error(y_train,pred_train_net)))\n",
    "print(\"E.NET/Ent -  R2:\", r2_score(y_train, pred_train_net))\n",
    "adj = 1 - float(len(y_train)-1)/(len(y_train)-(len(enet.coef_)-1)-1)*(1 - r2_score(y_train, pred_train_net))\n",
    "print(\"E.NET/Ent - adjR2:\", adj)\n",
    "\n",
    "pred_test_net= enet.predict(x_test)\n",
    "print(\"E.NET/Test - MSE:\", np.sqrt(mean_squared_error(y_test,pred_test_net)))\n",
    "print(\"E.NET/Test -  R2:\", r2_score(y_test, pred_test_net))\n",
    "adj = 1 - float(len(y_test)-1)/(len(y_test)-(len(enet.coef_)-1)-1)*(1 - r2_score(y_test, pred_test_net))\n",
    "print(\"E.NET/Test - adjR2:\", adj)"
   ]
  },
  {
   "cell_type": "markdown",
   "metadata": {},
   "source": [
    "Para el modelo lineal ElasticNet, el valor del EMS continua siendo muy grande, y los valores del R2 y R2 ajustado, ambos muy pequeños.\n",
    "\n",
    "Se observa que hay __UNDERFITTING__\n",
    "\n",
    "__Por último, veamos que con el coeficiente lineal para las caracteristicas.__"
   ]
  },
  {
   "cell_type": "code",
   "execution_count": 21,
   "metadata": {},
   "outputs": [
    {
     "name": "stdout",
     "output_type": "stream",
     "text": [
      "     Caracteristica  Coefficiente lineal  pvalue\n",
      "0   G1_Alimentacion             0.062499     0.0\n",
      "1        G2_Bebidas             0.114281     0.0\n",
      "2     G9_Recreacion             0.049159     0.0\n",
      "3     G10_Educacion             0.047648     0.0\n",
      "4  G11_Restaurantes             0.069540     0.0\n"
     ]
    }
   ],
   "source": [
    "scores, pvalues = chi2(x_test.astype('int64'), y_test.astype('int64'))\n",
    "coef= pd.DataFrame({\"Caracteristica\":x.columns,\"Coefficiente lineal\":np.transpose(enet.coef_),\"pvalue\": pvalues})\n",
    "print(coef)"
   ]
  },
  {
   "cell_type": "markdown",
   "metadata": {},
   "source": [
    "Era de esperar el resultado obtenido, el coeficiente lineal esta dentro del rango -0.3 y 0.3"
   ]
  },
  {
   "cell_type": "markdown",
   "metadata": {},
   "source": [
    "---"
   ]
  },
  {
   "cell_type": "markdown",
   "metadata": {},
   "source": [
    "## 5.4 CONCLUSION\n",
    "\n",
    "Todos los modelos probados se comportaron igualmente mal, para las variables elegidas. Ninguno de los modelos de regresión lineal se muestra con mejor calidad de predicción que otro. Por lo tanto, no se puede elegir ninguno de los modelos como el mejor de todos ellos.\n",
    "\n",
    "\n",
    "\n",
    "Considerar que para todod los modelos probados se observa que hay __UNDERFITTING__ \n",
    "\n",
    "La explicación de esto creemos que tiene que ver con la elección de las variables, y que simplemente el modelo de regresión lineal no es el adecuado para este set de datos.  \n",
    "\n",
    "Por lo tanto __no podemos dar respuesta__ a la pregunta de valor que nos hicimos en un principio. No podemos responder cual es el gasto mensual que se realiza en el item telecomunicación.\n",
    "\n",
    "---\n"
   ]
  },
  {
   "cell_type": "markdown",
   "metadata": {},
   "source": [
    "### 6. ¿Y si tenemos usando esta vez otra mirada con el mismo set de datos, para intentar responder a la pregunta de valor hecha?\n",
    "\n",
    "Usemos los montos en gastos mensuales, como porvcentajes del gasto total mensual, y veamos que pasa.\n"
   ]
  },
  {
   "cell_type": "code",
   "execution_count": 22,
   "metadata": {},
   "outputs": [],
   "source": [
    "# Convirtamos las variables en % y veamos que pasa entonces.\n",
    "\n",
    "# Generamos las nuevas columnas\n",
    "# _%G1_GT  % de gastos mensuales en alimentación\n",
    "# _%G2_GT  % de gastos mensuales en Bebidas\n",
    "# _%G8_GT  % de gastos mensuales en Comunicaciones\n",
    "# _%G9_GT  % de gastos mensuales en Recreacion\n",
    "# _%G10_GT % de gastos mensuales en Educacion\n",
    "# _%G11_GT % de gastos mensuales en Educacion\n",
    "# _%GOT_GT % de gastos mensuales en Restaurantes\n",
    "\n",
    "df_t02 = df_t01.copy()\n",
    "df_t02['_%G8_GT'] =  (df_t01.G8_Comunicaciones  / df_t01.Gastos)*100\n",
    "df_t02['_%G1_GT'] =  (df_t01.G1_Alimentacion    / df_t01.Gastos)*100\n",
    "df_t02['_%G2_GT'] =  (df_t01.G2_Bebidas         / df_t01.Gastos)*100\n",
    "df_t02['_%G9_GT'] =  (df_t01.G9_Recreacion      / df_t01.Gastos)*100\n",
    "df_t02['_%G10_GT'] = (df_t01.G10_Educacion      / df_t01.Gastos)*100\n",
    "df_t02['_%G11_GT'] = (df_t01.G11_Restaurantes   / df_t01.Gastos)*100\n",
    "df_t02['_%GOT_GT'] = 100 - (df_t02['_%G8_GT'] + \n",
    "                            df_t02['_%G1_GT'] +\n",
    "                            df_t02['_%G2_GT'] +\n",
    "                            df_t02['_%G9_GT'] +\n",
    "                            df_t02['_%G10_GT'] +\n",
    "                            df_t02['_%G11_GT'] )\n"
   ]
  },
  {
   "cell_type": "markdown",
   "metadata": {},
   "source": [
    "__6.2 Resumen del tipo de datos utilizados__\n",
    "\n",
    "Mediante la función info(), se obtiene resumen de los datos usados."
   ]
  },
  {
   "cell_type": "code",
   "execution_count": 23,
   "metadata": {},
   "outputs": [
    {
     "name": "stdout",
     "output_type": "stream",
     "text": [
      "<class 'pandas.core.frame.DataFrame'>\n",
      "RangeIndex: 4941 entries, 0 to 4940\n",
      "Data columns (total 17 columns):\n",
      "Personas             4941 non-null int64\n",
      "Gastos               4941 non-null int64\n",
      "Ingresos             4941 non-null int64\n",
      "Categoria            4941 non-null object\n",
      "G1_Alimentacion      4941 non-null float64\n",
      "G2_Bebidas           4941 non-null float64\n",
      "G8_Comunicaciones    4941 non-null float64\n",
      "G9_Recreacion        4941 non-null float64\n",
      "G10_Educacion        4941 non-null float64\n",
      "G11_Restaurantes     4941 non-null float64\n",
      "_%G8_GT              4941 non-null float64\n",
      "_%G1_GT              4941 non-null float64\n",
      "_%G2_GT              4941 non-null float64\n",
      "_%G9_GT              4941 non-null float64\n",
      "_%G10_GT             4941 non-null float64\n",
      "_%G11_GT             4941 non-null float64\n",
      "_%GOT_GT             4941 non-null float64\n",
      "dtypes: float64(13), int64(3), object(1)\n",
      "memory usage: 656.3+ KB\n"
     ]
    }
   ],
   "source": [
    "# Miramos las variables caracteristicas del nuevo DataFrame df_02\n",
    "df_t02.info()"
   ]
  },
  {
   "cell_type": "markdown",
   "metadata": {},
   "source": [
    "__6.3 Descripción del comportamiento univariado__\n",
    "\n",
    "Se usa la función describe(), para conocer el comportamiento univariado del set de datos."
   ]
  },
  {
   "cell_type": "code",
   "execution_count": 24,
   "metadata": {},
   "outputs": [
    {
     "data": {
      "text/html": [
       "<div>\n",
       "<style scoped>\n",
       "    .dataframe tbody tr th:only-of-type {\n",
       "        vertical-align: middle;\n",
       "    }\n",
       "\n",
       "    .dataframe tbody tr th {\n",
       "        vertical-align: top;\n",
       "    }\n",
       "\n",
       "    .dataframe thead th {\n",
       "        text-align: right;\n",
       "    }\n",
       "</style>\n",
       "<table border=\"1\" class=\"dataframe\">\n",
       "  <thead>\n",
       "    <tr style=\"text-align: right;\">\n",
       "      <th></th>\n",
       "      <th>Personas</th>\n",
       "      <th>Gastos</th>\n",
       "      <th>Ingresos</th>\n",
       "      <th>G1_Alimentacion</th>\n",
       "      <th>G2_Bebidas</th>\n",
       "      <th>G8_Comunicaciones</th>\n",
       "      <th>G9_Recreacion</th>\n",
       "      <th>G10_Educacion</th>\n",
       "      <th>G11_Restaurantes</th>\n",
       "      <th>_%G8_GT</th>\n",
       "      <th>_%G1_GT</th>\n",
       "      <th>_%G2_GT</th>\n",
       "      <th>_%G9_GT</th>\n",
       "      <th>_%G10_GT</th>\n",
       "      <th>_%G11_GT</th>\n",
       "      <th>_%GOT_GT</th>\n",
       "    </tr>\n",
       "  </thead>\n",
       "  <tbody>\n",
       "    <tr>\n",
       "      <th>count</th>\n",
       "      <td>4941.000000</td>\n",
       "      <td>4.941000e+03</td>\n",
       "      <td>4.941000e+03</td>\n",
       "      <td>4.941000e+03</td>\n",
       "      <td>4941.000000</td>\n",
       "      <td>4941.000000</td>\n",
       "      <td>4.941000e+03</td>\n",
       "      <td>4.941000e+03</td>\n",
       "      <td>4.941000e+03</td>\n",
       "      <td>4941.000000</td>\n",
       "      <td>4941.000000</td>\n",
       "      <td>4941.000000</td>\n",
       "      <td>4941.000000</td>\n",
       "      <td>4941.000000</td>\n",
       "      <td>4941.000000</td>\n",
       "      <td>4941.000000</td>\n",
       "    </tr>\n",
       "    <tr>\n",
       "      <th>mean</th>\n",
       "      <td>3.970451</td>\n",
       "      <td>1.614312e+06</td>\n",
       "      <td>1.923799e+06</td>\n",
       "      <td>2.749368e+05</td>\n",
       "      <td>30510.643128</td>\n",
       "      <td>80189.430258</td>\n",
       "      <td>1.144853e+05</td>\n",
       "      <td>1.506017e+05</td>\n",
       "      <td>1.087676e+05</td>\n",
       "      <td>5.793423</td>\n",
       "      <td>21.326564</td>\n",
       "      <td>2.356555</td>\n",
       "      <td>6.375270</td>\n",
       "      <td>8.392659</td>\n",
       "      <td>6.174524</td>\n",
       "      <td>49.581005</td>\n",
       "    </tr>\n",
       "    <tr>\n",
       "      <th>std</th>\n",
       "      <td>1.548781</td>\n",
       "      <td>1.308729e+06</td>\n",
       "      <td>2.069036e+06</td>\n",
       "      <td>1.785312e+05</td>\n",
       "      <td>42820.808602</td>\n",
       "      <td>60006.240471</td>\n",
       "      <td>1.764910e+05</td>\n",
       "      <td>2.194059e+05</td>\n",
       "      <td>1.499305e+05</td>\n",
       "      <td>3.839690</td>\n",
       "      <td>12.037762</td>\n",
       "      <td>3.272680</td>\n",
       "      <td>5.687122</td>\n",
       "      <td>9.493106</td>\n",
       "      <td>5.437497</td>\n",
       "      <td>13.708821</td>\n",
       "    </tr>\n",
       "    <tr>\n",
       "      <th>min</th>\n",
       "      <td>1.000000</td>\n",
       "      <td>6.237700e+04</td>\n",
       "      <td>3.070000e+02</td>\n",
       "      <td>1.937500e+03</td>\n",
       "      <td>3.216987</td>\n",
       "      <td>3.684826</td>\n",
       "      <td>3.352893e+01</td>\n",
       "      <td>6.429251e+00</td>\n",
       "      <td>3.747312e+01</td>\n",
       "      <td>0.001507</td>\n",
       "      <td>0.063078</td>\n",
       "      <td>0.000301</td>\n",
       "      <td>0.008176</td>\n",
       "      <td>0.000837</td>\n",
       "      <td>0.005253</td>\n",
       "      <td>7.681137</td>\n",
       "    </tr>\n",
       "    <tr>\n",
       "      <th>25%</th>\n",
       "      <td>3.000000</td>\n",
       "      <td>7.897710e+05</td>\n",
       "      <td>7.466670e+05</td>\n",
       "      <td>1.532214e+05</td>\n",
       "      <td>5000.000000</td>\n",
       "      <td>40113.968095</td>\n",
       "      <td>2.528150e+04</td>\n",
       "      <td>4.291667e+03</td>\n",
       "      <td>2.179672e+04</td>\n",
       "      <td>3.229965</td>\n",
       "      <td>12.336312</td>\n",
       "      <td>0.375935</td>\n",
       "      <td>2.456282</td>\n",
       "      <td>0.532337</td>\n",
       "      <td>2.216873</td>\n",
       "      <td>39.959031</td>\n",
       "    </tr>\n",
       "    <tr>\n",
       "      <th>50%</th>\n",
       "      <td>4.000000</td>\n",
       "      <td>1.224790e+06</td>\n",
       "      <td>1.280000e+06</td>\n",
       "      <td>2.376860e+05</td>\n",
       "      <td>15684.408430</td>\n",
       "      <td>67458.153461</td>\n",
       "      <td>6.060895e+04</td>\n",
       "      <td>6.793332e+04</td>\n",
       "      <td>6.066429e+04</td>\n",
       "      <td>5.053408</td>\n",
       "      <td>19.302612</td>\n",
       "      <td>1.198236</td>\n",
       "      <td>4.942657</td>\n",
       "      <td>5.276871</td>\n",
       "      <td>4.852689</td>\n",
       "      <td>49.133633</td>\n",
       "    </tr>\n",
       "    <tr>\n",
       "      <th>75%</th>\n",
       "      <td>5.000000</td>\n",
       "      <td>1.982535e+06</td>\n",
       "      <td>2.252900e+06</td>\n",
       "      <td>3.550237e+05</td>\n",
       "      <td>39679.998779</td>\n",
       "      <td>105031.643441</td>\n",
       "      <td>1.323217e+05</td>\n",
       "      <td>2.037500e+05</td>\n",
       "      <td>1.339603e+05</td>\n",
       "      <td>7.385294</td>\n",
       "      <td>28.861153</td>\n",
       "      <td>3.090697</td>\n",
       "      <td>8.555584</td>\n",
       "      <td>13.051314</td>\n",
       "      <td>8.607685</td>\n",
       "      <td>59.298742</td>\n",
       "    </tr>\n",
       "    <tr>\n",
       "      <th>max</th>\n",
       "      <td>17.000000</td>\n",
       "      <td>1.897800e+07</td>\n",
       "      <td>3.026667e+07</td>\n",
       "      <td>2.407691e+06</td>\n",
       "      <td>517805.942127</td>\n",
       "      <td>770836.560757</td>\n",
       "      <td>2.391135e+06</td>\n",
       "      <td>2.397525e+06</td>\n",
       "      <td>2.536041e+06</td>\n",
       "      <td>39.225413</td>\n",
       "      <td>76.672655</td>\n",
       "      <td>34.425186</td>\n",
       "      <td>58.588825</td>\n",
       "      <td>67.697063</td>\n",
       "      <td>45.940924</td>\n",
       "      <td>94.156628</td>\n",
       "    </tr>\n",
       "  </tbody>\n",
       "</table>\n",
       "</div>"
      ],
      "text/plain": [
       "          Personas        Gastos      Ingresos  G1_Alimentacion  \\\n",
       "count  4941.000000  4.941000e+03  4.941000e+03     4.941000e+03   \n",
       "mean      3.970451  1.614312e+06  1.923799e+06     2.749368e+05   \n",
       "std       1.548781  1.308729e+06  2.069036e+06     1.785312e+05   \n",
       "min       1.000000  6.237700e+04  3.070000e+02     1.937500e+03   \n",
       "25%       3.000000  7.897710e+05  7.466670e+05     1.532214e+05   \n",
       "50%       4.000000  1.224790e+06  1.280000e+06     2.376860e+05   \n",
       "75%       5.000000  1.982535e+06  2.252900e+06     3.550237e+05   \n",
       "max      17.000000  1.897800e+07  3.026667e+07     2.407691e+06   \n",
       "\n",
       "          G2_Bebidas  G8_Comunicaciones  G9_Recreacion  G10_Educacion  \\\n",
       "count    4941.000000        4941.000000   4.941000e+03   4.941000e+03   \n",
       "mean    30510.643128       80189.430258   1.144853e+05   1.506017e+05   \n",
       "std     42820.808602       60006.240471   1.764910e+05   2.194059e+05   \n",
       "min         3.216987           3.684826   3.352893e+01   6.429251e+00   \n",
       "25%      5000.000000       40113.968095   2.528150e+04   4.291667e+03   \n",
       "50%     15684.408430       67458.153461   6.060895e+04   6.793332e+04   \n",
       "75%     39679.998779      105031.643441   1.323217e+05   2.037500e+05   \n",
       "max    517805.942127      770836.560757   2.391135e+06   2.397525e+06   \n",
       "\n",
       "       G11_Restaurantes      _%G8_GT      _%G1_GT      _%G2_GT      _%G9_GT  \\\n",
       "count      4.941000e+03  4941.000000  4941.000000  4941.000000  4941.000000   \n",
       "mean       1.087676e+05     5.793423    21.326564     2.356555     6.375270   \n",
       "std        1.499305e+05     3.839690    12.037762     3.272680     5.687122   \n",
       "min        3.747312e+01     0.001507     0.063078     0.000301     0.008176   \n",
       "25%        2.179672e+04     3.229965    12.336312     0.375935     2.456282   \n",
       "50%        6.066429e+04     5.053408    19.302612     1.198236     4.942657   \n",
       "75%        1.339603e+05     7.385294    28.861153     3.090697     8.555584   \n",
       "max        2.536041e+06    39.225413    76.672655    34.425186    58.588825   \n",
       "\n",
       "          _%G10_GT     _%G11_GT     _%GOT_GT  \n",
       "count  4941.000000  4941.000000  4941.000000  \n",
       "mean      8.392659     6.174524    49.581005  \n",
       "std       9.493106     5.437497    13.708821  \n",
       "min       0.000837     0.005253     7.681137  \n",
       "25%       0.532337     2.216873    39.959031  \n",
       "50%       5.276871     4.852689    49.133633  \n",
       "75%      13.051314     8.607685    59.298742  \n",
       "max      67.697063    45.940924    94.156628  "
      ]
     },
     "execution_count": 24,
     "metadata": {},
     "output_type": "execute_result"
    }
   ],
   "source": [
    "# Miramos los valores estadisticos de las variables del set de datos\n",
    "df_t02.describe()"
   ]
  },
  {
   "cell_type": "code",
   "execution_count": 25,
   "metadata": {
    "scrolled": true
   },
   "outputs": [
    {
     "name": "stdout",
     "output_type": "stream",
     "text": [
      "0        5.453835\n",
      "1        5.897553\n",
      "2       10.380333\n",
      "3       11.780417\n",
      "4        6.642206\n",
      "5        3.727153\n",
      "6        5.512008\n",
      "7        8.091939\n",
      "8        6.882932\n",
      "9        5.557216\n",
      "10       6.635392\n",
      "11       1.062097\n",
      "12       5.777127\n",
      "13       0.044212\n",
      "14      13.330410\n",
      "15       3.120926\n",
      "16      10.318041\n",
      "17      11.564537\n",
      "18       1.904700\n",
      "19       1.421903\n",
      "20       6.960302\n",
      "21       1.657808\n",
      "22       4.278132\n",
      "23       4.871684\n",
      "24       5.764472\n",
      "25       0.393088\n",
      "26       6.745017\n",
      "27       4.644163\n",
      "28       0.871028\n",
      "29       4.998612\n",
      "          ...    \n",
      "4911    12.067269\n",
      "4912    11.231740\n",
      "4913     4.582046\n",
      "4914     5.667679\n",
      "4915     6.901154\n",
      "4916     3.225860\n",
      "4917     5.506524\n",
      "4918     4.107867\n",
      "4919     4.874518\n",
      "4920    10.926492\n",
      "4921     5.698449\n",
      "4922     9.039629\n",
      "4923     5.726031\n",
      "4924     3.138125\n",
      "4925     4.178024\n",
      "4926     5.358012\n",
      "4927     5.169976\n",
      "4928     8.937915\n",
      "4929     6.512877\n",
      "4930     2.462406\n",
      "4931     2.155965\n",
      "4932     7.447995\n",
      "4933    10.917176\n",
      "4934     5.966756\n",
      "4935     4.028595\n",
      "4936     6.020883\n",
      "4937     4.861049\n",
      "4938     5.815403\n",
      "4939     6.997386\n",
      "4940     5.371728\n",
      "Name: _%G8_GT, Length: 4941, dtype: float64\n"
     ]
    }
   ],
   "source": [
    "# Seleccionamos la variable objetivo  _%G8_GT\n",
    "y = df_t02['_%G8_GT']\n",
    "print(y)"
   ]
  },
  {
   "cell_type": "code",
   "execution_count": 26,
   "metadata": {
    "scrolled": true
   },
   "outputs": [
    {
     "name": "stdout",
     "output_type": "stream",
     "text": [
      "        _%G1_GT    _%G2_GT    _%G9_GT   _%G10_GT   _%G11_GT   _%GOT_GT\n",
      "0     20.253741   3.097726   4.631220   2.878224   2.748549  60.936705\n",
      "1     13.608823   7.289630  10.795757   2.503030   7.907426  51.997779\n",
      "2     14.458560   0.021949   3.574886   7.053240   1.763571  62.747461\n",
      "3     33.344819   0.194800   0.304545  26.920087   3.474591  23.980740\n",
      "4      1.328441   1.248735  13.284411  24.664724   4.096989  48.734494\n",
      "5     19.367682   0.841689  15.322606  21.158493   8.457013  31.125364\n",
      "6     15.700437   0.006701  18.446904   9.574194  10.157964  40.601791\n",
      "7      5.221779   3.896351  13.190252   7.713823  12.764229  49.121626\n",
      "8     16.910537   2.556471  10.970293   2.292613   5.869516  54.517638\n",
      "9     19.652437   4.335582   4.518602  11.228668   7.675998  47.031498\n",
      "10     3.329303   1.003263  11.275246  18.049805  10.434523  49.272468\n",
      "11     1.481572   2.206166   1.857102  20.893642   1.821605  70.677815\n",
      "12    18.313167   1.386356   1.677820   2.716625   2.876648  67.252258\n",
      "13    27.040293   0.281938   3.044702   0.067289   9.652174  59.869391\n",
      "14    45.261291   0.948147   0.356639   0.950084   4.614097  34.539331\n",
      "15    12.375186   1.100795   4.964187  10.199727  11.501457  56.737723\n",
      "16    25.639443   5.118368   9.858299   4.559897   5.147088  39.358865\n",
      "17    20.425366   4.449837  17.134827   1.358988   6.426306  38.640139\n",
      "18     3.363004   0.066747  18.777210   0.090899  14.399952  61.397488\n",
      "19    17.281552   0.832632   2.268606   0.063060   2.368118  75.764129\n",
      "20    37.067549   3.587491   4.016849   0.139765   2.582859  45.645185\n",
      "21     1.574918   4.161099   0.412630  46.280486   2.669072  43.243987\n",
      "22    17.256566   1.180148   8.807185   6.948118   5.797617  55.732235\n",
      "23    26.126820   0.839841   7.757491  29.537338   9.297201  21.569625\n",
      "24    17.879838   2.207106   4.701369  10.673218  18.044136  40.729860\n",
      "25    43.081338   0.600132   8.624634  11.008038   4.941574  31.351195\n",
      "26    22.034981   5.226579   3.795496   0.224834   5.649863  56.323231\n",
      "27    13.026985   0.696111   7.197077   2.557968   2.741505  69.136192\n",
      "28    22.866711   1.362442   1.702720   1.068596   3.840199  68.288303\n",
      "29    11.520481   0.016429  10.875565  23.359942   0.729168  48.499802\n",
      "...         ...        ...        ...        ...        ...        ...\n",
      "4911  24.112216   2.351699   0.744576  19.080444   0.316660  41.327135\n",
      "4912  16.072992   0.718347   4.319542   8.185076   3.778537  55.693766\n",
      "4913  15.281279   0.142980  21.718677  18.311770   7.667153  32.296094\n",
      "4914   7.793687   0.618218   9.854344   7.501688  10.444543  58.119841\n",
      "4915  33.422497   0.276403   0.801284   3.952795  12.783377  41.862490\n",
      "4916  11.883632   0.601097  19.370788  26.363533   1.746650  36.808441\n",
      "4917  15.904361   4.519148   6.601987  18.592431   6.715143  42.160407\n",
      "4918  10.328036   3.283084   5.694031   8.643150  17.924581  50.019251\n",
      "4919   9.559057   2.613614  15.897405   1.008130   7.383631  58.663646\n",
      "4920  29.081701   0.062660   3.026047  27.602831   6.109305  23.190964\n",
      "4921  16.602212  10.958556   0.276524   4.383422   9.818866  52.261970\n",
      "4922  29.447981   2.172267   8.725126  17.783532   6.734698  26.096767\n",
      "4923  15.243825   0.530455  13.770409   0.888383   2.380118  61.460779\n",
      "4924   2.068618   0.008308   2.828729  17.089205   3.870605  70.996411\n",
      "4925  11.326625   0.262922  14.042158   5.596568   4.911575  59.682128\n",
      "4926   7.552074   5.446406   7.069258  11.466558  10.475663  52.632029\n",
      "4927  41.115498   6.147709   2.313928   2.323110   5.083809  37.845970\n",
      "4928  12.642983   2.343030  24.876544   0.036846   1.409538  49.753144\n",
      "4929  26.333361  11.381645   0.569225   0.379483   2.264565  52.558844\n",
      "4930  19.195371   0.412298  11.101009   0.660765  11.489340  54.678811\n",
      "4931  12.091751   2.597567   4.361161  10.071295   9.546327  59.175935\n",
      "4932   2.984403   0.635011  16.897207   4.752689   3.328113  63.954582\n",
      "4933   8.403374   0.032096  12.143027   8.262214   5.699248  54.542866\n",
      "4934  20.383962   3.699439   3.904163  28.602625   0.335158  37.107897\n",
      "4935  11.008825   0.865044   5.318115  11.612102  12.154992  55.012327\n",
      "4936  14.301786   0.016085   0.025146  44.006001   0.049260  35.580840\n",
      "4937  11.635152   0.017062   2.648113   0.066027   0.601266  80.171331\n",
      "4938  31.615850   6.397967   0.539692   6.289831   4.006464  45.334793\n",
      "4939  18.764175   0.402134   1.248600   3.084023   1.473991  68.029690\n",
      "4940  21.411923   1.891150   3.913065  35.566833   9.467975  22.377325\n",
      "\n",
      "[4941 rows x 6 columns]\n"
     ]
    }
   ],
   "source": [
    "# Seleccionamos las variables predictoras\n",
    "\n",
    "x = df_t02.drop(['_%G8_GT','G8_Comunicaciones','G1_Alimentacion','G2_Bebidas','G9_Recreacion',\n",
    "                 'G10_Educacion','G11_Restaurantes','Gastos', 'Ingresos', 'Personas','Categoria'], axis=1)\n",
    "print(x)"
   ]
  },
  {
   "cell_type": "markdown",
   "metadata": {},
   "source": [
    "__7 Elaboración de gráfica__\n",
    "\n",
    "A continuación se codifica y muestran los gráficos que describen las variables a ser usadas."
   ]
  },
  {
   "cell_type": "code",
   "execution_count": 28,
   "metadata": {},
   "outputs": [
    {
     "data": {
      "image/png": "[encoded data removed]",
      "text/plain": [
       "<Figure size 1080x288 with 2 Axes>"
      ]
     },
     "metadata": {
      "needs_background": "light"
     },
     "output_type": "display_data"
    }
   ],
   "source": [
    "f, [p1, p2] = plt.subplots(1,2)\n",
    "f.set_figwidth(15)\n",
    " \n",
    "# Represento los puntos para la variable X1 y para Y\n",
    "p1.scatter(x['_%G1_GT'], y)\n",
    "p1.set_title(u'Representación de G8 en función de G1')\n",
    "p1.set_xlabel('G1')\n",
    "p1.set_ylabel('G8')\n",
    " \n",
    "p2.scatter(x['_%G2_GT'], y)\n",
    "p2.set_title(u'Representación de G8 en función de G2')\n",
    "p2.set_xlabel('G2')\n",
    "p2.set_ylabel('G8')\n",
    "\n",
    "plt.show()\n",
    "\n"
   ]
  },
  {
   "cell_type": "code",
   "execution_count": 29,
   "metadata": {},
   "outputs": [
    {
     "data": {
      "image/png": "[encoded data removed]",
      "text/plain": [
       "<Figure size 1080x288 with 2 Axes>"
      ]
     },
     "metadata": {
      "needs_background": "light"
     },
     "output_type": "display_data"
    }
   ],
   "source": [
    "f, [p1, p2] = plt.subplots(1,2)\n",
    "f.set_figwidth(15)\n",
    "\n",
    "# Represento los puntos para la variable X1 y para Y\n",
    "p1.scatter(x['_%G9_GT'], y)\n",
    "p1.set_title(u'Representación de G8 en función de G9')\n",
    "p1.set_xlabel('G9')\n",
    "p1.set_ylabel('G8')\n",
    " \n",
    "p2.scatter(x['_%G10_GT'], y)\n",
    "p2.set_title(u'Representación de G8 en función de G10')\n",
    "p2.set_xlabel('G10')\n",
    "p2.set_ylabel('G8')\n",
    "\n",
    "plt.show()\n"
   ]
  },
  {
   "cell_type": "code",
   "execution_count": 30,
   "metadata": {},
   "outputs": [
    {
     "data": {
      "image/png": "[encoded data removed]",
      "text/plain": [
       "<Figure size 1080x288 with 2 Axes>"
      ]
     },
     "metadata": {
      "needs_background": "light"
     },
     "output_type": "display_data"
    }
   ],
   "source": [
    "f, [p1, p2] = plt.subplots(1,2)\n",
    "f.set_figwidth(15)\n",
    "\n",
    "# Represento los puntos para la variable X1 y para Y\n",
    "p1.scatter(x['_%G11_GT'], y)\n",
    "p1.set_title(u'Representación de G8 en función de G11')\n",
    "p1.set_xlabel('G11')\n",
    "p1.set_ylabel('G8')\n",
    " \n",
    "p2.scatter(x['_%G1_GT'], y)\n",
    "p2.set_title(u'Representación de G8 en función de G1')\n",
    "p2.set_xlabel('G1')\n",
    "p2.set_ylabel('G8')\n",
    "\n",
    "plt.show()\n"
   ]
  },
  {
   "cell_type": "markdown",
   "metadata": {},
   "source": [
    "__8 Especificación, implementación validación, comparación y decisión del modelo de regresión lineal óptimo__\n",
    "\n",
    "A continuación se aborda la tarea que entrenar el modelo de regresión lineal y probar su validez.\n",
    "\n",
    "__8.1 Separación del set de datos__\n",
    "\n",
    "Es separado el set de datos en 2 subconjuntos. El 70% de los datos se deja para el entrenamiento, y el 30% restante se usará para hacer la prueba."
   ]
  },
  {
   "cell_type": "code",
   "execution_count": 31,
   "metadata": {},
   "outputs": [
    {
     "name": "stdout",
     "output_type": "stream",
     "text": [
      "(3458, 6)\n",
      "(1483, 6)\n",
      "(3458,)\n",
      "(1483,)\n"
     ]
    }
   ],
   "source": [
    "# Realizamos la selección de dataset para entrenamiento y para prueba.\n",
    "# El 70% de los datos serán usados para entrenar y el 30% restante para probar.\n",
    "\n",
    "x_train, x_test, y_train, y_test = train_test_split(x, y, test_size=0.30, random_state=40)\n",
    "print(x_train.shape); print(x_test.shape)\n",
    "print(y_train.shape); print(y_test.shape)"
   ]
  },
  {
   "cell_type": "code",
   "execution_count": 32,
   "metadata": {},
   "outputs": [
    {
     "data": {
      "text/plain": [
       "sklearn.linear_model.base.LinearRegression"
      ]
     },
     "execution_count": 32,
     "metadata": {},
     "output_type": "execute_result"
    }
   ],
   "source": [
    "# Realizamos la instanciación del modelo de regresión lineal con los datos seleccionados para el entrenamiento\n",
    "\n",
    "model = LinearRegression(fit_intercept=True)\n",
    "model.fit(x_train, y_train)\n",
    "type(model)"
   ]
  },
  {
   "cell_type": "code",
   "execution_count": 33,
   "metadata": {},
   "outputs": [
    {
     "name": "stdout",
     "output_type": "stream",
     "text": [
      "Entrenamiento, Error cuadratico medio: 0.0\n",
      "Entrenamiento, R2: 1.0\n",
      "Entrenamiento, R2 ajustado: 1.0\n",
      "Testing: Error cuadratico medio 0.0\n",
      "Testing: R2 1.0\n",
      "Testing: R2 ajustado 1.0\n"
     ]
    }
   ],
   "source": [
    "# Ahora lo que hacemos es obtener el Error cuadratico medio, R2, y R2 ajustado del\n",
    "# entrenamiento y la evaluacion\n",
    "from sklearn.metrics import mean_squared_error\n",
    "from sklearn.metrics import r2_score\n",
    "\n",
    "pred_train= model.predict(x_train)\n",
    "print(\"Entrenamiento, Error cuadratico medio:\",np.sqrt(round(mean_squared_error(y_train,pred_train),3)))\n",
    "print(\"Entrenamiento, R2:\", r2_score(y_train, pred_train))\n",
    "adj = 1 - float(len(y_train)-1)/(len(y_train)-(len(model.coef_)-1)-1)*(1 - r2_score(y_train, pred_train))\n",
    "print(\"Entrenamiento, R2 ajustado:\", adj)\n",
    "\n",
    "pred_test= model.predict(x_test)\n",
    "print(\"Testing: Error cuadratico medio\", np.sqrt(round(mean_squared_error(y_test,pred_test), 3)))\n",
    "print(\"Testing: R2\", r2_score(y_test, pred_test))\n",
    "adj = 1 - float(len(y_test)-1)/(len(y_test)-(len(model.coef_)-1)-1)*(1 - r2_score(y_test, pred_test))\n",
    "print(\"Testing: R2 ajustado\", adj)"
   ]
  },
  {
   "cell_type": "markdown",
   "metadata": {},
   "source": [
    "### OBSERVACION\n",
    "\n",
    "__8.3 Resultados para el modelo de regresión lineal__\n",
    "\n",
    "¿Quá ha pasado?\n",
    "\n",
    "Los valores resultados son muy buenos. Se observa que hay __Overfitting__.\n"
   ]
  },
  {
   "cell_type": "code",
   "execution_count": 34,
   "metadata": {},
   "outputs": [
    {
     "name": "stdout",
     "output_type": "stream",
     "text": [
      "  Caracteristica  Coefficiente lineal        pvalue\n",
      "0        _%G1_GT                 -1.0  4.276137e-93\n",
      "1        _%G2_GT                 -1.0  2.059595e-30\n",
      "2        _%G9_GT                 -1.0  2.330459e-15\n",
      "3       _%G10_GT                 -1.0  1.567974e-85\n",
      "4       _%G11_GT                 -1.0  2.671526e-35\n",
      "5       _%GOT_GT                 -1.0  2.606520e-40\n"
     ]
    }
   ],
   "source": [
    "scores, pvalues = chi2(x_test.astype('int64'), y_test.astype('int64'))\n",
    "coef= pd.DataFrame({\"Caracteristica\":x.columns,\"Coefficiente lineal\":np.transpose(model.coef_),\"pvalue\": pvalues})\n",
    "print(coef)"
   ]
  },
  {
   "cell_type": "markdown",
   "metadata": {},
   "source": [
    "El resultado es inesperado por lo logrado. Todas las caracteristicas se encuentran negativamente correlacionadas con la variable objetivo."
   ]
  },
  {
   "cell_type": "markdown",
   "metadata": {},
   "source": [
    "__8.4 Estrategia de regularización__\n",
    "\n",
    "Dado el resultado anterior, ¿realmente se deben aplicar estrategias de regularización?\n",
    "\n",
    "Igualmente veremos el comportamiento de los 4 modelo de regresión, usados en el ejercicio anterior como estrategias de regularización:\n",
    "\n",
    "a. Modelo de regresión lineal RANSAC\n",
    "\n",
    "b. Modelo de regresión lineal RIDGE\n",
    "\n",
    "c. Modelo de regresión lineal LASSO\n",
    "\n",
    "d. Modelo de regresión lineal ELASTICNET"
   ]
  },
  {
   "cell_type": "code",
   "execution_count": 35,
   "metadata": {},
   "outputs": [
    {
     "name": "stdout",
     "output_type": "stream",
     "text": [
      "Entrenamiento, Error cuadratico medio: 0.0\n",
      "Entrenamiento, R2: 1.0\n",
      "Entrenamiento, R2 ajustado: 1.0\n",
      "Testing: Error cuadratico medio 0.0\n",
      "Testing: R2 1.0\n",
      "Testing: R2 ajustado 1.0\n"
     ]
    }
   ],
   "source": [
    "# Realizamos la instanciación del modelo de RANSAC con los datos seleccionados para el entrenamiento\n",
    "\n",
    "# ransac = linear_model.RANSACRegressor()\n",
    "ransac = RANSACRegressor()\n",
    "ransac.fit(x_train, y_train)\n",
    "\n",
    "\n",
    "# Ahora lo que hacemos es obtener el Error cuadratico medio, R2, y R2 ajustado del\n",
    "# entrenamiento y la evaluacion\n",
    "\n",
    "pred_train= ransac.predict(x_train)\n",
    "print(\"Entrenamiento, Error cuadratico medio:\",np.sqrt(round(mean_squared_error(y_train,pred_train),3)))\n",
    "print(\"Entrenamiento, R2:\", r2_score(y_train, pred_train))\n",
    "adj = 1 - float(len(y_train)-1)/(len(y_train)-(len( ransac.estimator_.coef_)-1)-1)*(1 - r2_score(y_train, pred_train))\n",
    "print(\"Entrenamiento, R2 ajustado:\", adj)\n",
    "\n",
    "pred_test= ransac.predict(x_test)\n",
    "print(\"Testing: Error cuadratico medio\", np.sqrt(round(mean_squared_error(y_test,pred_test), 3)))\n",
    "print(\"Testing: R2\", r2_score(y_test, pred_test))\n",
    "adj = 1 - float(len(y_test)-1)/(len(y_test)-(len(ransac.estimator_.coef_)-1)-1)*(1 - r2_score(y_test, pred_test))\n",
    "print(\"Testing: R2 ajustado\", adj)\n"
   ]
  },
  {
   "cell_type": "markdown",
   "metadata": {},
   "source": [
    "El modelo lineal RANSAC también presenta __Overfitting__."
   ]
  },
  {
   "cell_type": "code",
   "execution_count": 36,
   "metadata": {},
   "outputs": [
    {
     "name": "stdout",
     "output_type": "stream",
     "text": [
      "  Caracteristica  Coefficiente lineal        pvalue\n",
      "0        _%G1_GT                 -1.0  4.276137e-93\n",
      "1        _%G2_GT                 -1.0  2.059595e-30\n",
      "2        _%G9_GT                 -1.0  2.330459e-15\n",
      "3       _%G10_GT                 -1.0  1.567974e-85\n",
      "4       _%G11_GT                 -1.0  2.671526e-35\n",
      "5       _%GOT_GT                 -1.0  2.606520e-40\n"
     ]
    }
   ],
   "source": [
    "scores, pvalues = chi2(x_test.astype('int64'), y_test.astype('int64'))\n",
    "coef= pd.DataFrame({\"Caracteristica\":x.columns,\"Coefficiente lineal\":np.transpose(ransac.estimator_.coef_),\"pvalue\": pvalues})\n",
    "print(coef)"
   ]
  },
  {
   "cell_type": "markdown",
   "metadata": {},
   "source": [
    "Al igual que el modelo de regresión lineal, las caracteristicas se encuentran perfectamente y negativamente realiacionadas con la variable objetivo."
   ]
  },
  {
   "cell_type": "code",
   "execution_count": 37,
   "metadata": {},
   "outputs": [
    {
     "name": "stdout",
     "output_type": "stream",
     "text": [
      "Ridge/Ent - MSE: 0.0004822161004836005\n",
      "Ridge/Ent -  R2: 0.9999999830950669\n",
      "Ridge/Ent - adjR2: 0.9999999830705811\n",
      "Ridge/Test - MSE: 0.0005328487573586576\n",
      "Ridge/Test -  R2: 0.9999999833185453\n",
      "Ridge/Test - adjR2: 0.9999999832620746\n"
     ]
    }
   ],
   "source": [
    "# Realizamos la instanciación del modelo de Rigde con los datos seleccionados para el entrenamiento\n",
    "ridge = Ridge(alpha=1)\n",
    "\n",
    "\n",
    "# Ahora lo que hacemos es obtener el Error cuadratico medio, R2, y R2 ajustado del\n",
    "# entrenamiento y la evaluacion\n",
    "ridge.fit(x_train, y_train) \n",
    "pred_train_rr= ridge.predict(x_train)\n",
    "print(\"Ridge/Ent - MSE:\", np.sqrt(mean_squared_error(y_train,pred_train_rr)))\n",
    "print(\"Ridge/Ent -  R2:\", r2_score(y_train, pred_train_rr))\n",
    "adj = 1 - float(len(y_train)-1)/(len(y_train)-(len(ridge.coef_)-1)-1)*(1 - r2_score(y_train, pred_train_rr))\n",
    "print(\"Ridge/Ent - adjR2:\", adj)\n",
    "\n",
    "pred_test_rr= ridge.predict(x_test)\n",
    "print(\"Ridge/Test - MSE:\", np.sqrt(mean_squared_error(y_test,pred_test_rr)))\n",
    "print(\"Ridge/Test -  R2:\", r2_score(y_test, pred_test_rr))\n",
    "adj = 1 - float(len(y_test)-1)/(len(y_test)-(len(ridge.coef_)-1)-1)*(1 - r2_score(y_test, pred_test_rr))\n",
    "print(\"Ridge/Test - adjR2:\", adj)"
   ]
  },
  {
   "cell_type": "markdown",
   "metadata": {},
   "source": [
    "Para este modelo lineal Ridge, el MSE es casi cero, y el R2 y R2 ajustado es casi 1. \n",
    "\n",
    "Podriamos seguir pensado que al igual que los casos anteriores aqui ocurre __Overfitting__."
   ]
  },
  {
   "cell_type": "code",
   "execution_count": 38,
   "metadata": {},
   "outputs": [
    {
     "name": "stdout",
     "output_type": "stream",
     "text": [
      "  Caracteristica  Coefficiente lineal        pvalue\n",
      "0        _%G1_GT            -0.999870  4.276137e-93\n",
      "1        _%G2_GT            -0.999844  2.059595e-30\n",
      "2        _%G9_GT            -0.999870  2.330459e-15\n",
      "3       _%G10_GT            -0.999869  1.567974e-85\n",
      "4       _%G11_GT            -0.999869  2.671526e-35\n",
      "5       _%GOT_GT            -0.999874  2.606520e-40\n"
     ]
    }
   ],
   "source": [
    "scores, pvalues = chi2(x_test.astype('int64'), y_test.astype('int64'))\n",
    "coef= pd.DataFrame({\"Caracteristica\":x.columns,\"Coefficiente lineal\":np.transpose(ridge.coef_),\"pvalue\": pvalues})\n",
    "print(coef)"
   ]
  },
  {
   "cell_type": "markdown",
   "metadata": {},
   "source": [
    "Si bien coefientes obtenidos son mayores a -1.0, son muy cercanos a -1.0, para todas las caracteristicas."
   ]
  },
  {
   "cell_type": "code",
   "execution_count": 39,
   "metadata": {},
   "outputs": [
    {
     "name": "stdout",
     "output_type": "stream",
     "text": [
      "LASSO/Ent - MSE: 1.5082925924051114\n",
      "LASSO/Ent -  R2: 0.9999999830950669\n",
      "LASSO/Ent - adjR2: 0.8343734968422714\n",
      "LASSO/Test - MSE: 1.6832495877062426\n",
      "LASSO/Test -  R2: 0.8335349607138309\n",
      "LASSO/Test - adjR2: 0.8329714365456313\n"
     ]
    }
   ],
   "source": [
    "# Realizamos la instanciación del modelo Lasso con los datos seleccionados para el entrenamiento\n",
    "lasso = Lasso(alpha=0.1, tol=00000.1)\n",
    "lasso.fit(x_train, y_train)\n",
    "\n",
    "# Ahora lo que hacemos es obtener el Error cuadratico medio, R2, y R2 ajustado del\n",
    "# entrenamiento y la evaluacion\n",
    "pred_train_lasso= lasso.predict(x_train)\n",
    "print(\"LASSO/Ent - MSE:\", np.sqrt(mean_squared_error(y_train,pred_train_lasso)))\n",
    "print(\"LASSO/Ent -  R2:\", r2_score(y_train, pred_train_rr))\n",
    "adj = 1 - float(len(y_train)-1)/(len(y_train)-(len(lasso.coef_)-1)-1)*(1 - r2_score(y_train, pred_train_lasso))\n",
    "print(\"LASSO/Ent - adjR2:\", adj)\n",
    "\n",
    "pred_test_lasso= lasso.predict(x_test)\n",
    "print(\"LASSO/Test - MSE:\", np.sqrt(mean_squared_error(y_test,pred_test_lasso)))\n",
    "print(\"LASSO/Test -  R2:\", r2_score(y_test, pred_test_lasso))\n",
    "adj = 1 - float(len(y_test)-1)/(len(y_test)-(len(lasso.coef_)-1)-1)*(1 - r2_score(y_test, pred_test_lasso))\n",
    "print(\"LASSO/Test - adjR2:\", adj)"
   ]
  },
  {
   "cell_type": "markdown",
   "metadata": {},
   "source": [
    "Para el modelo lineal Lasso, se ve que el MSE es 1.5, es decir cercano a 0. Adicionalmente los valores R2 y R2ajustado son cercanos a 1, pero se podría decir que __no hay Overfitting__."
   ]
  },
  {
   "cell_type": "code",
   "execution_count": 40,
   "metadata": {},
   "outputs": [
    {
     "name": "stdout",
     "output_type": "stream",
     "text": [
      "  Caracteristica  Coefficiente lineal        pvalue\n",
      "0        _%G1_GT            -0.576186  4.276137e-93\n",
      "1        _%G2_GT            -0.557581  2.059595e-30\n",
      "2        _%G9_GT            -0.599255  2.330459e-15\n",
      "3       _%G10_GT            -0.584139  1.567974e-85\n",
      "4       _%G11_GT            -0.597948  2.671526e-35\n",
      "5       _%GOT_GT            -0.604757  2.606520e-40\n"
     ]
    }
   ],
   "source": [
    "scores, pvalues = chi2(x_test.astype('int64'), y_test.astype('int64'))\n",
    "coef= pd.DataFrame({\"Caracteristica\":x.columns,\"Coefficiente lineal\":np.transpose(lasso.coef_),\"pvalue\": pvalues})\n",
    "print(coef)"
   ]
  },
  {
   "cell_type": "markdown",
   "metadata": {},
   "source": [
    "Para este modelo lineal Lasso, se ve que la correlación negativa baja a la mitad, varia entre -0.60 y -0.55 "
   ]
  },
  {
   "cell_type": "code",
   "execution_count": 41,
   "metadata": {},
   "outputs": [
    {
     "name": "stdout",
     "output_type": "stream",
     "text": [
      "E.NET/Ent - MSE: 1.1394887038313541\n",
      "E.NET/Ent -  R2: 0.9056047605517733\n",
      "E.NET/Ent - adjR2: 0.9054680351180419\n",
      "E.NET/Test - MSE: 1.26194937340965\n",
      "E.NET/Test -  R2: 0.9064357654996693\n",
      "E.NET/Test - adjR2: 0.9061190280775288\n"
     ]
    }
   ],
   "source": [
    "# Realizamos la instanciación del modelo ElasticNet con los datos seleccionados para el entrenamiento\n",
    "enet = ElasticNet(l1_ratio=0.05, alpha=0.9, tol=00.1)\n",
    "enet.fit(x_train, y_train) \n",
    "\n",
    "# Ahora lo que hacemos es obtener el Error cuadratico medio, R2, y R2 ajustado del\n",
    "# entrenamiento y la evaluacion\n",
    "pred_train_net= enet.predict(x_train)\n",
    "print(\"E.NET/Ent - MSE:\", np.sqrt(mean_squared_error(y_train,pred_train_net)))\n",
    "print(\"E.NET/Ent -  R2:\", r2_score(y_train, pred_train_net))\n",
    "adj = 1 - float(len(y_train)-1)/(len(y_train)-(len(enet.coef_)-1)-1)*(1 - r2_score(y_train, pred_train_net))\n",
    "print(\"E.NET/Ent - adjR2:\", adj)\n",
    "\n",
    "pred_test_net= enet.predict(x_test)\n",
    "print(\"E.NET/Test - MSE:\", np.sqrt(mean_squared_error(y_test,pred_test_net)))\n",
    "print(\"E.NET/Test -  R2:\", r2_score(y_test, pred_test_net))\n",
    "adj = 1 - float(len(y_test)-1)/(len(y_test)-(len(enet.coef_)-1)-1)*(1 - r2_score(y_test, pred_test_net))\n",
    "print(\"E.NET/Test - adjR2:\", adj)"
   ]
  },
  {
   "cell_type": "markdown",
   "metadata": {},
   "source": [
    "Se ve que para el modelo ElasticNet, el MSE es cercano a 0, y tanto R2 como R2 ajustado tienen un valor 0.9, es decir cercano a 1. No se podría decir que __ocurre Overfitting__."
   ]
  },
  {
   "cell_type": "code",
   "execution_count": 42,
   "metadata": {},
   "outputs": [
    {
     "name": "stdout",
     "output_type": "stream",
     "text": [
      "  Caracteristica  Coefficiente lineal        pvalue\n",
      "0        _%G1_GT            -0.690824  4.276137e-93\n",
      "1        _%G2_GT            -0.637649  2.059595e-30\n",
      "2        _%G9_GT            -0.691412  2.330459e-15\n",
      "3       _%G10_GT            -0.689566  1.567974e-85\n",
      "4       _%G11_GT            -0.689094  2.671526e-35\n",
      "5       _%GOT_GT            -0.701601  2.606520e-40\n"
     ]
    }
   ],
   "source": [
    "scores, pvalues = chi2(x_test.astype('int64'), y_test.astype('int64'))\n",
    "coef= pd.DataFrame({\"Caracteristica\":x.columns,\"Coefficiente lineal\":np.transpose(enet.coef_),\"pvalue\": pvalues})\n",
    "print(coef)"
   ]
  },
  {
   "cell_type": "markdown",
   "metadata": {},
   "source": [
    "Se tiene que el coeficiente lineal para todas las caracteristicas es menoor a -0.63"
   ]
  },
  {
   "cell_type": "markdown",
   "metadata": {},
   "source": [
    "---\n",
    "\n",
    "# 9 CONCLUSION\n",
    "\n",
    "__¿Porqué ocurre que para todos los modelos de regresión lineal probados en este segundo ejercicio, sus resultados son muy buenos, incluso ocurre Overfitting?__\n",
    "\n",
    "---\n",
    "\n",
    "Realmente es muy extraño lo ocurrido en este segundo ejercicio, usando las variables en %. \n",
    "Y resulta aun más intrigante, considenrando los resultados obtenidos para el primer ejercicio realizado.\n",
    "\n",
    "Después de darle vueltas un buen rato, hemos concluido que esto se debe básicamente a la completitud de la información que hemos entregado como variables a los modelos de regresión en el ejercicio 2. \n",
    "Para entregar un mayor detalle de lo antes mencionado, las variables predictoras junto con la variable objetivo, suman el total de los Gastos, es decir se informa al modelo de regresión lineal el 100% de los gastos.\n",
    "\n",
    "Cabe entonces hacer una nueva pregunta; ¿tiene sentido hacer un modelo de regresión lineal, dado que se cuenta con el 100% de los gastos? La respuesta es, probablemente no tiene sentido. Pero creemos que como ejercicio académico, aporta valor en términos del aprendizaje, comprensión y aplicación que se hace de modelos de regresión lineal para entrenamiento supervisado en el ámbito del Machine Learning.\n"
   ]
  },
  {
   "cell_type": "markdown",
   "metadata": {},
   "source": [
    "---"
   ]
  }
 ],
 "metadata": {
  "kernelspec": {
   "display_name": "Python 3",
   "language": "python",
   "name": "python3"
  },
  "language_info": {
   "codemirror_mode": {
    "name": "ipython",
    "version": 3
   },
   "file_extension": ".py",
   "mimetype": "text/x-python",
   "name": "python",
   "nbconvert_exporter": "python",
   "pygments_lexer": "ipython3",
   "version": "3.7.3"
  }
 },
 "nbformat": 4,
 "nbformat_minor": 2
}
