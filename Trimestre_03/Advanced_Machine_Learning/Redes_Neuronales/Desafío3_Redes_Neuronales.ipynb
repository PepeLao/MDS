{
  "nbformat": 4,
  "nbformat_minor": 0,
  "metadata": {
    "kernelspec": {
      "display_name": "Python 3",
      "language": "python",
      "name": "python3"
    },
    "language_info": {
      "codemirror_mode": {
        "name": "ipython",
        "version": 3
      },
      "file_extension": ".py",
      "mimetype": "text/x-python",
      "name": "python",
      "nbconvert_exporter": "python",
      "pygments_lexer": "ipython3",
      "version": "3.7.3"
    },
    "colab": {
      "name": "Desafío3_Redes_Neuronales.ipynb",
      "provenance": [],
      "collapsed_sections": []
    }
  },
  "cells": [
    {
      "cell_type": "markdown",
      "metadata": {
        "id": "_7UlCY0bfqvO",
        "colab_type": "text"
      },
      "source": [
        "# Machine Learning Avanzado MDS19 UDD\n",
        "\n",
        "\n",
        "## Desafío 3: Redes Neuronales.\n",
        "\n",
        "\n",
        "\n",
        "\n",
        "\n",
        "\n",
        "#### Profesores   : José García, Francisco Altimiras.\n",
        "#### Alumnos      : Roy Barrera, José Pérez.\n"
      ]
    },
    {
      "cell_type": "markdown",
      "metadata": {
        "id": "UnobEIc2fqvP",
        "colab_type": "text"
      },
      "source": [
        "### Resumen\n",
        "\n",
        "Para responder al desafío 3 de este curso, que dice relación con las Redes Neuronales, hemos decidido implementar modelos predictivos basados en Redes Neuronales, para complementar un trabajo previo realizado en el curso de \"Taller de proyecto aplicado\" de este mismo Magister.\n",
        "Basicamente el trabajo realizado previamente buscaba predecir el estado de funcionamiento de Bombas de agua en Tanzania. A los modelos predictivos implementados, se agregan ahora modelos predictivos basados en Redes Neuronales, usando para ello en un caso Keras y en el otro caso sklearn.\n",
        "\n",
        "\n",
        "Dicho lo anterior, se aborda este desafío 3.\n",
        "\n",
        "El objetivo perseguido es mediante modelos predictivos, conocer el estado funcional de Bombas de agua en Tanzania. \n",
        "\n",
        "Son 3 los estados que puede tener una Bomba de agua:\n",
        "\n",
        "* Functional: La Bomba de agua se encuentra operativa.\n",
        "\n",
        "* Functional needs repair: La Bomba de agua esta opertaiva, pero necesita repaciones.\n",
        "\n",
        "* Non functional: La Bomba de agua no esta operativa.\n",
        "\n",
        "Para ello se cuenta con un dataset de 59400 muestras y 41 variables(incluyendo la variable objetivo)\n",
        "\n",
        "\n",
        "El desarrollo de este trabajo consta de 3 puntos:\n",
        "\n",
        "1) __Exploración y manipulación del DataSet__\n",
        "\n",
        "2) __Modelamiento__\n",
        "\n",
        "3) __Conclusión__\n"
      ]
    },
    {
      "cell_type": "markdown",
      "metadata": {
        "id": "xLI0bsJnfqvQ",
        "colab_type": "text"
      },
      "source": [
        "# <a> ÍNDICE</a>\n",
        "\n",
        "- <a href='#1'>1. Exploración y manipulación del DataSet</a>\n",
        "- <a href='#2'>2. Modelamiento</a>\n",
        "    - <a href='#2.1'>2.1. Regresión Logística</a>\n",
        "    - <a href='#2.2'>2.2. Regresión Logística usando SMOTE</a>\n",
        "    - <a href='#2.3'>2.3. LightGBMClassifier</a>\n",
        "    - <a href='#2.4'>2.4. XGBClassifier</a>\n",
        "    - <a href='#2.5'>2.5. BalancedBaggingClassifier</a>\n",
        "    - <a href='#2.6'>2.6. Red Neuronal usando Keras</a>\n",
        "    - <a href='#2.7'>2.7. Red Neuronal MLPClassifier de sklearn</a>\n",
        "- <a href='#3'>3. Rendimiento de los modelos</a>\n",
        "    - <a href='#3.1'>3.1. Comparación de métricas</a>\n",
        "    - <a href='#3.2'>3.2. Matrices de confusión de los modelos</a>\n",
        "- <a href='#4'>4. Conclusión</a>    "
      ]
    },
    {
      "cell_type": "markdown",
      "metadata": {
        "id": "ElfV98CSfqvR",
        "colab_type": "text"
      },
      "source": [
        "# <a id='1'>1. Exploración y manipulación del DataSet</a>\n",
        "En principio este trabajo se desarrolló sobre Jupyter-Notebook, y al incorporar los modelos predictivos usando Redes Neuronales, debido al necesidad de más recurso de memoria y procesamiento, es que retomamos su desarrollo en la plataforma Google-Colab."
      ]
    },
    {
      "cell_type": "code",
      "metadata": {
        "id": "821NKCXQhTpJ",
        "colab_type": "code",
        "outputId": "e536cf1b-6644-45bb-919b-94357a4bbbdd",
        "colab": {
          "base_uri": "https://localhost:8080/",
          "height": 54
        }
      },
      "source": [
        "# Dado que se esta trabajando con Google Colab, lo primero que hacemos  es\n",
        "# montar Google-Drive, en donde está el DataSet a ser procesado.\n",
        "from google.colab import drive\n",
        "drive.mount('/content/drive')"
      ],
      "execution_count": 0,
      "outputs": [
        {
          "output_type": "stream",
          "text": [
            "Drive already mounted at /content/drive; to attempt to forcibly remount, call drive.mount(\"/content/drive\", force_remount=True).\n"
          ],
          "name": "stdout"
        }
      ]
    },
    {
      "cell_type": "code",
      "metadata": {
        "id": "CSS6S8ahfqvS",
        "colab_type": "code",
        "colab": {}
      },
      "source": [
        "# Se importa la libreria pandas para la lectura del dataset.\n",
        "import pandas as pd"
      ],
      "execution_count": 0,
      "outputs": []
    },
    {
      "cell_type": "code",
      "metadata": {
        "id": "tH5kzeppfqvX",
        "colab_type": "code",
        "outputId": "d0c05835-3d09-44c1-8546-dda0e99f237b",
        "colab": {
          "base_uri": "https://localhost:8080/",
          "height": 1000
        }
      },
      "source": [
        "# Se leen los dataset a ser procesados.\n",
        "\n",
        "# Se importa la libreria os\n",
        "import os\n",
        "# path es la ruta donde estan los dataset\n",
        "path = '/content/drive/My Drive/Colab Notebooks/03_Advanced_Machine_Learning/'\n",
        "\n",
        "# El Dataset 03_dataset_training.csv con el universo de variables recolectadas\n",
        "# (no considera la variable objetivo)\n",
        "df_01=pd.read_csv(os.path.join(path, '03_dataset_training.csv'), sep=',')\n",
        "\n",
        "# El Dataset 04_salidas_del_training.csv contiene la variable objetivo\n",
        "df_02=pd.read_csv(os.path.join(path, '04_salidas_del_training.csv'), sep=',')\n",
        "\n",
        "# Se define la función ve_df(), para mirar un dataframe.\n",
        "def ve_df(df):\n",
        "    print (\"# Muestras       : {:>7}\".format(df.shape[0]))\n",
        "    print (\"# Variables      : {:>7}\".format(df.shape[1]), \"\\n\")\n",
        "    print (\"Variables        : \\n\" ,df.columns.tolist())\n",
        "    print (\"\\n# Muestras  con  nulos    : {:>6}\".format(df.isnull().sum().values.sum()))\n",
        "    print (\"\\nValores únicos x variable :  \")\n",
        "    print (df.nunique())\n",
        "\n",
        "# Se miran ambos dataset leídos.\n",
        "ve_df(df_01)\n",
        "ve_df(df_02)\n"
      ],
      "execution_count": 0,
      "outputs": [
        {
          "output_type": "stream",
          "text": [
            "# Muestras       :   59400\n",
            "# Variables      :      40 \n",
            "\n",
            "Variables        : \n",
            " ['id', 'amount_tsh', 'date_recorded', 'funder', 'gps_height', 'installer', 'longitude', 'latitude', 'wpt_name', 'num_private', 'basin', 'subvillage', 'region', 'region_code', 'district_code', 'lga', 'ward', 'population', 'public_meeting', 'recorded_by', 'scheme_management', 'scheme_name', 'permit', 'construction_year', 'extraction_type', 'extraction_type_group', 'extraction_type_class', 'management', 'management_group', 'payment', 'payment_type', 'water_quality', 'quality_group', 'quantity', 'quantity_group', 'source', 'source_type', 'source_class', 'waterpoint_type', 'waterpoint_type_group']\n",
            "\n",
            "# Muestras  con  nulos    :  46094\n",
            "\n",
            "Valores únicos x variable :  \n",
            "id                       59400\n",
            "amount_tsh                  98\n",
            "date_recorded              356\n",
            "funder                    1897\n",
            "gps_height                2428\n",
            "installer                 2145\n",
            "longitude                57516\n",
            "latitude                 57517\n",
            "wpt_name                 37400\n",
            "num_private                 65\n",
            "basin                        9\n",
            "subvillage               19287\n",
            "region                      21\n",
            "region_code                 27\n",
            "district_code               20\n",
            "lga                        125\n",
            "ward                      2092\n",
            "population                1049\n",
            "public_meeting               2\n",
            "recorded_by                  1\n",
            "scheme_management           12\n",
            "scheme_name               2696\n",
            "permit                       2\n",
            "construction_year           55\n",
            "extraction_type             18\n",
            "extraction_type_group       13\n",
            "extraction_type_class        7\n",
            "management                  12\n",
            "management_group             5\n",
            "payment                      7\n",
            "payment_type                 7\n",
            "water_quality                8\n",
            "quality_group                6\n",
            "quantity                     5\n",
            "quantity_group               5\n",
            "source                      10\n",
            "source_type                  7\n",
            "source_class                 3\n",
            "waterpoint_type              7\n",
            "waterpoint_type_group        6\n",
            "dtype: int64\n",
            "# Muestras       :   59400\n",
            "# Variables      :       2 \n",
            "\n",
            "Variables        : \n",
            " ['id', 'status_group']\n",
            "\n",
            "# Muestras  con  nulos    :      0\n",
            "\n",
            "Valores únicos x variable :  \n",
            "id              59400\n",
            "status_group        3\n",
            "dtype: int64\n"
          ],
          "name": "stdout"
        }
      ]
    },
    {
      "cell_type": "code",
      "metadata": {
        "id": "3-R1ZsLjfqvb",
        "colab_type": "code",
        "outputId": "f079db67-03dc-4944-f47d-a6498756654f",
        "colab": {
          "base_uri": "https://localhost:8080/",
          "height": 34
        }
      },
      "source": [
        "# Se identifican todas las variables con muestras que contengan valores nulos.\n",
        "def var_null(df):\n",
        "    lvar_null = [i for i in df.columns if df[i].isnull().sum() > 0]\n",
        "    return lvar_null\n",
        "\n",
        "# Se reemplazan los valores nulos\n",
        "def reemplaza_null(df, lvar, valor):\n",
        "    for var in lvar:\n",
        "        df[var].fillna(valor, inplace = True)\n",
        "\n",
        "print(var_null(df_01))\n",
        "reemplaza_null(df_01, var_null(df_01), 'No_informado')\n"
      ],
      "execution_count": 0,
      "outputs": [
        {
          "output_type": "stream",
          "text": [
            "['funder', 'installer', 'subvillage', 'public_meeting', 'scheme_management', 'scheme_name', 'permit']\n"
          ],
          "name": "stdout"
        }
      ]
    },
    {
      "cell_type": "code",
      "metadata": {
        "id": "BrC47JzJfqvf",
        "colab_type": "code",
        "outputId": "7086f919-3a2f-4a46-fbba-418f8f6bf875",
        "colab": {
          "base_uri": "https://localhost:8080/",
          "height": 370
        }
      },
      "source": [
        "# Se define la función obj_2_cat(), que convierte las variables tipo objeto \n",
        "# de un dataframe, en categóricas.\n",
        "def obj_2_cat(df,cat_codes=True):\n",
        "    # Se identifican las variables tipo object\n",
        "    l_v_obj = []\n",
        "    l_v_obj = list(df.select_dtypes(['O']).columns)\n",
        "\n",
        "    if len(l_v_obj) > 0:\n",
        "        # Conversión de variables tipo object a tipo category\n",
        "        df[l_v_obj] = df[l_v_obj].astype(\"category\")\n",
        "\n",
        "        # Se reemplazan los textos de las variables categóricas, por su valor de categoría.\n",
        "        if cat_codes == True:\n",
        "            for var in l_v_obj:\n",
        "                df[var]  = df[var].cat.codes\n",
        "\n",
        "obj_2_cat(df_01)\n",
        "obj_2_cat(df_02,cat_codes=False)\n",
        "print(df_01.describe())\n",
        "print(df_02.info())"
      ],
      "execution_count": 0,
      "outputs": [
        {
          "output_type": "stream",
          "text": [
            "                 id     amount_tsh  ...  waterpoint_type  waterpoint_type_group\n",
            "count  59400.000000   59400.000000  ...     59400.000000           59400.000000\n",
            "mean   37115.131768     317.650385  ...         2.574091               2.056212\n",
            "std    21453.128371    2997.574558  ...         1.781438               1.378937\n",
            "min        0.000000       0.000000  ...         0.000000               0.000000\n",
            "25%    18519.750000       0.000000  ...         1.000000               1.000000\n",
            "50%    37061.500000       0.000000  ...         2.000000               1.000000\n",
            "75%    55656.500000      20.000000  ...         4.000000               3.000000\n",
            "max    74247.000000  350000.000000  ...         6.000000               5.000000\n",
            "\n",
            "[8 rows x 40 columns]\n",
            "<class 'pandas.core.frame.DataFrame'>\n",
            "RangeIndex: 59400 entries, 0 to 59399\n",
            "Data columns (total 2 columns):\n",
            " #   Column        Non-Null Count  Dtype   \n",
            "---  ------        --------------  -----   \n",
            " 0   id            59400 non-null  int64   \n",
            " 1   status_group  59400 non-null  category\n",
            "dtypes: category(1), int64(1)\n",
            "memory usage: 522.3 KB\n",
            "None\n"
          ],
          "name": "stdout"
        }
      ]
    },
    {
      "cell_type": "code",
      "metadata": {
        "id": "An07Vfmvfqvj",
        "colab_type": "code",
        "outputId": "ba3dfdc1-4938-4448-ab98-5eb0b2afae6d",
        "colab": {
          "base_uri": "https://localhost:8080/",
          "height": 692
        }
      },
      "source": [
        "# Se eligen 16 variables predictoras.\n",
        "lvar_pred = ['amount_tsh','funder','region_code','district_code',\n",
        "             'public_meeting','scheme_management','construction_year',\n",
        "             'extraction_type','extraction_type_group','extraction_type_class',\n",
        "             'management_group','water_quality','quality_group','quantity',\n",
        "             'source_class','waterpoint_type']\n",
        "\n",
        "# Se identifica la variable objetivo.\n",
        "var_objet = ['status_group']\n",
        "\n",
        "# El dataset df_03 contiene las 16 variables predictoras elegidas.\n",
        "df_03 = df_01[lvar_pred]\n",
        "# El dataset df_04 contiene la variable objetivo.\n",
        "df_04 = df_02[var_objet]\n",
        "\n",
        "# Son mirados ambos dataset\n",
        "ve_df(df_03)\n",
        "print('\\n')\n",
        "ve_df(df_04)\n"
      ],
      "execution_count": 0,
      "outputs": [
        {
          "output_type": "stream",
          "text": [
            "# Muestras       :   59400\n",
            "# Variables      :      16 \n",
            "\n",
            "Variables        : \n",
            " ['amount_tsh', 'funder', 'region_code', 'district_code', 'public_meeting', 'scheme_management', 'construction_year', 'extraction_type', 'extraction_type_group', 'extraction_type_class', 'management_group', 'water_quality', 'quality_group', 'quantity', 'source_class', 'waterpoint_type']\n",
            "\n",
            "# Muestras  con  nulos    :      0\n",
            "\n",
            "Valores únicos x variable :  \n",
            "amount_tsh                 98\n",
            "funder                   1898\n",
            "region_code                27\n",
            "district_code              20\n",
            "public_meeting              3\n",
            "scheme_management          13\n",
            "construction_year          55\n",
            "extraction_type            18\n",
            "extraction_type_group      13\n",
            "extraction_type_class       7\n",
            "management_group            5\n",
            "water_quality               8\n",
            "quality_group               6\n",
            "quantity                    5\n",
            "source_class                3\n",
            "waterpoint_type             7\n",
            "dtype: int64\n",
            "\n",
            "\n",
            "# Muestras       :   59400\n",
            "# Variables      :       1 \n",
            "\n",
            "Variables        : \n",
            " ['status_group']\n",
            "\n",
            "# Muestras  con  nulos    :      0\n",
            "\n",
            "Valores únicos x variable :  \n",
            "status_group    3\n",
            "dtype: int64\n"
          ],
          "name": "stdout"
        }
      ]
    },
    {
      "cell_type": "code",
      "metadata": {
        "id": "afOdZIU_wNzJ",
        "colab_type": "code",
        "outputId": "2e71ce92-5757-4486-f4a6-d9a3f2ca9bcc",
        "colab": {
          "base_uri": "https://localhost:8080/",
          "height": 286
        }
      },
      "source": [
        "# Se miran los dataset\n",
        "print(df_03.describe())\n",
        "print(df_04.describe())"
      ],
      "execution_count": 0,
      "outputs": [
        {
          "output_type": "stream",
          "text": [
            "          amount_tsh        funder  ...  source_class  waterpoint_type\n",
            "count   59400.000000  59400.000000  ...  59400.000000     59400.000000\n",
            "mean      317.650385    853.604983  ...      0.233737         2.574091\n",
            "std      2997.574558    561.879176  ...      0.434129         1.781438\n",
            "min         0.000000      0.000000  ...      0.000000         0.000000\n",
            "25%         0.000000    446.000000  ...      0.000000         1.000000\n",
            "50%         0.000000    657.500000  ...      0.000000         2.000000\n",
            "75%        20.000000   1319.000000  ...      0.000000         4.000000\n",
            "max    350000.000000   1897.000000  ...      2.000000         6.000000\n",
            "\n",
            "[8 rows x 16 columns]\n",
            "       status_group\n",
            "count         59400\n",
            "unique            3\n",
            "top      functional\n",
            "freq          32259\n"
          ],
          "name": "stdout"
        }
      ]
    },
    {
      "cell_type": "code",
      "metadata": {
        "id": "rpqP95l_fqvn",
        "colab_type": "code",
        "outputId": "fb1d697e-3efc-48a4-e54f-110c4c9d64a9",
        "colab": {
          "base_uri": "https://localhost:8080/",
          "height": 790
        }
      },
      "source": [
        "# Matriz de correlación del dataset df_03 \n",
        "\n",
        "# Se importan librerías a ser usadas.\n",
        "import numpy as np \n",
        "\n",
        "import matplotlib.pyplot as plt\n",
        "from PIL import  Image\n",
        "%matplotlib inline\n",
        "\n",
        "import itertools\n",
        "\n",
        "import seaborn as sns\n",
        "import plotly.offline as py\n",
        "#py.init_notebook_mode(connected=True)\n",
        "import plotly.graph_objs as go\n",
        "import plotly.tools as tls\n",
        "import plotly.figure_factory as ff\n",
        "\n",
        "import warnings\n",
        "warnings.filterwarnings(\"ignore\")\n",
        "\n",
        "correlation = df_03.corr()\n",
        "#tick labels\n",
        "matrix_cols = correlation.columns.tolist()\n",
        "#convert to array\n",
        "corr_array  = np.array(correlation)\n",
        "\n",
        "#Plotting\n",
        "trace = go.Heatmap(z = corr_array,\n",
        "                   x = matrix_cols,\n",
        "                   y = matrix_cols,\n",
        "                   colorscale = \"Viridis\",\n",
        "                   colorbar   = dict(title = \"Coficiente Pearson de Correlacion\",\n",
        "                                     titleside = \"right\"\n",
        "                                    ) ,\n",
        "                  )\n",
        "\n",
        "layout = go.Layout(dict(title = \"Matriz de correlación de variables\",\n",
        "                        autosize = False,\n",
        "                        height  = 720,\n",
        "                        width   = 800,\n",
        "                        margin  = dict(r = 0 ,l = 210,\n",
        "                                       t = 25,b = 210,\n",
        "                                      ),\n",
        "                        yaxis   = dict(tickfont = dict(size = 9)),\n",
        "                        xaxis   = dict(tickfont = dict(size = 9))\n",
        "                       )\n",
        "                  )\n",
        "\n",
        "data = [trace]\n",
        "fig = go.Figure(data=data,layout=layout)\n",
        "#py.iplot(fig)\n",
        "fig.show()"
      ],
      "execution_count": 0,
      "outputs": [
        {
          "output_type": "stream",
          "text": [
            "/usr/local/lib/python3.6/dist-packages/statsmodels/tools/_testing.py:19: FutureWarning: pandas.util.testing is deprecated. Use the functions in the public API at pandas.testing instead.\n",
            "  import pandas.util.testing as tm\n"
          ],
          "name": "stderr"
        },
        {
          "output_type": "display_data",
          "data": {
            "text/html": [
              "<html>\n",
              "<head><meta charset=\"utf-8\" /></head>\n",
              "<body>\n",
              "    <div>\n",
              "            <script src=\"https://cdnjs.cloudflare.com/ajax/libs/mathjax/2.7.5/MathJax.js?config=TeX-AMS-MML_SVG\"></script><script type=\"text/javascript\">if (window.MathJax) {MathJax.Hub.Config({SVG: {font: \"STIX-Web\"}});}</script>\n",
              "                <script type=\"text/javascript\">window.PlotlyConfig = {MathJaxConfig: 'local'};</script>\n",
              "        <script src=\"https://cdn.plot.ly/plotly-latest.min.js\"></script>    \n",
              "            <div id=\"a9b6b7e5-b26e-4421-87d3-c4266133ef4a\" class=\"plotly-graph-div\" style=\"height:720px; width:800px;\"></div>\n",
              "            <script type=\"text/javascript\">\n",
              "                \n",
              "                    window.PLOTLYENV=window.PLOTLYENV || {};\n",
              "                    \n",
              "                if (document.getElementById(\"a9b6b7e5-b26e-4421-87d3-c4266133ef4a\")) {\n",
              "                    Plotly.newPlot(\n",
              "                        'a9b6b7e5-b26e-4421-87d3-c4266133ef4a',\n",
              "                        [{\"colorbar\": {\"title\": {\"side\": \"right\", \"text\": \"Coficiente Pearson de Correlacion\"}}, \"colorscale\": [[0.0, \"#440154\"], [0.1111111111111111, \"#482878\"], [0.2222222222222222, \"#3e4989\"], [0.3333333333333333, \"#31688e\"], [0.4444444444444444, \"#26828e\"], [0.5555555555555556, \"#1f9e89\"], [0.6666666666666666, \"#35b779\"], [0.7777777777777778, \"#6ece58\"], [0.8888888888888888, \"#b5de2b\"], [1.0, \"#fde725\"]], \"type\": \"heatmap\", \"x\": [\"amount_tsh\", \"funder\", \"region_code\", \"district_code\", \"public_meeting\", \"scheme_management\", \"construction_year\", \"extraction_type\", \"extraction_type_group\", \"extraction_type_class\", \"management_group\", \"water_quality\", \"quality_group\", \"quantity\", \"source_class\", \"waterpoint_type\"], \"y\": [\"amount_tsh\", \"funder\", \"region_code\", \"district_code\", \"public_meeting\", \"scheme_management\", \"construction_year\", \"extraction_type\", \"extraction_type_group\", \"extraction_type_class\", \"management_group\", \"water_quality\", \"quality_group\", \"quantity\", \"source_class\", \"waterpoint_type\"], \"z\": [[1.0, 0.0037388788673059165, -0.026812994577949167, -0.023599405413481243, -0.0003411618731167381, 0.010560297283560073, 0.06791521104168805, -0.025091280000574225, -0.01773819526868787, -0.013212971004728536, -0.0018363819178060636, 0.012624354024780847, -0.023994921088926327, -0.014526328481436215, 0.03492239000514304, -0.04382071521630337], [0.0037388788673059165, 1.0, -0.01660523605798351, -0.018539274820028363, -0.046631286818393916, 0.00732305425681203, -0.09554234867738783, -0.021744940077501766, -0.009485323490464869, 0.025476983873472914, -0.027981347921553292, -0.03564876113285878, 0.023494424243219732, 0.04170937503563919, 0.040512569040986074, 0.05266978929569757], [-0.026812994577949167, -0.01660523605798351, 1.0, 0.6786023067888902, 0.01875732479887966, -0.09921156364578956, 0.031724056815404494, 0.10147182519288127, 0.0976874785707377, 0.1494796715451134, 0.033028310497819645, -0.06350818128166245, 0.08458312583164848, -0.06681182130014919, -0.07622676784994735, 0.18462159130663436], [-0.023599405413481243, -0.018539274820028363, 0.6786023067888902, 1.0, -0.004100615198999975, -0.01846631097414241, 0.048315185322544855, 0.02674560119568145, 0.018556527011935272, 0.06714291997048197, 0.01561653878820749, -0.06122277414794255, 0.03793877983138447, -0.02780344273332048, -0.047690866390614386, 0.08120046625131945], [-0.0003411618731167381, -0.046631286818393916, 0.01875732479887966, -0.004100615198999975, 1.0, -0.01559739006352188, 0.03266784939094599, 0.017615925761051997, -0.0021299548465370296, -0.006063339753761201, 0.08674553648026725, 0.03207865111290963, 0.07469036519745152, -0.028307263136440358, -0.07190390820805277, -0.023052629198992543], [0.010560297283560073, 0.00732305425681203, -0.09921156364578956, -0.01846631097414241, -0.01559739006352188, 1.0, -0.02000545799279722, -0.10299224809818441, -0.11414004100277032, -0.10538655802979287, 0.31014900370770687, 0.06802962529132267, -0.0869967780263637, -0.129732936632669, 0.008024884690184577, -0.14269983304204378], [0.06791521104168805, -0.09554234867738783, 0.031724056815404494, 0.048315185322544855, 0.03266784939094599, -0.02000545799279722, 1.0, -0.06143383163669114, -0.056985637512989386, 0.010065653376343964, -0.07437987831777954, 0.05088391861311186, -0.008011710283821827, -0.008483965862860293, 0.09642742293636171, -0.19450563869473006], [-0.025091280000574225, -0.021744940077501766, 0.10147182519288127, 0.02674560119568145, 0.017615925761051997, -0.10299224809818441, -0.06143383163669114, 1.0, 0.9495235109875688, 0.6950515295523549, -0.037539704348146345, -0.10922509549321066, 0.15802282552864833, 0.0010823152962976116, -0.22979484604314113, 0.3447847842999491], [-0.01773819526868787, -0.009485323490464869, 0.0976874785707377, 0.018556527011935272, -0.0021299548465370296, -0.11414004100277032, -0.056985637512989386, 0.9495235109875688, 1.0, 0.7843003787437748, -0.07353688175371997, -0.11020250838885498, 0.15743893084359953, -0.011712261841561884, -0.1751479394732306, 0.32020244222427807], [-0.013212971004728536, 0.025476983873472914, 0.1494796715451134, 0.06714291997048197, -0.006063339753761201, -0.10538655802979287, 0.010065653376343964, 0.6950515295523549, 0.7843003787437748, 1.0, -0.1528069729027154, -0.11543259883873112, 0.19641039872218805, -0.04720837495352112, -0.09000893669849314, 0.2065426333767932], [-0.0018363819178060636, -0.027981347921553292, 0.033028310497819645, 0.01561653878820749, 0.08674553648026725, 0.31014900370770687, -0.07437987831777954, -0.037539704348146345, -0.07353688175371997, -0.1528069729027154, 1.0, -5.819797421095251e-05, -0.015640174657528292, -0.06383984659811325, -0.10370185206003224, 0.08800958123952594], [0.012624354024780847, -0.03564876113285878, -0.06350818128166245, -0.06122277414794255, 0.03207865111290963, 0.06802962529132267, 0.05088391861311186, -0.10922509549321066, -0.11020250838885498, -0.11543259883873112, -5.819797421095251e-05, 1.0, -0.1453331963454709, -0.031868563363299456, 0.08383375340315007, -0.16209619470824743], [-0.023994921088926327, 0.023494424243219732, 0.08458312583164848, 0.03793877983138447, 0.07469036519745152, -0.0869967780263637, -0.008011710283821827, 0.15802282552864833, 0.15743893084359953, 0.19641039872218805, -0.015640174657528292, -0.1453331963454709, 1.0, 0.011645543540549952, -0.12560209528056215, 0.19988282151156728], [-0.014526328481436215, 0.04170937503563919, -0.06681182130014919, -0.02780344273332048, -0.028307263136440358, -0.129732936632669, -0.008483965862860293, 0.0010823152962976116, -0.011712261841561884, -0.04720837495352112, -0.06383984659811325, -0.031868563363299456, 0.011645543540549952, 1.0, 0.11730023869780327, 0.006435571912650307], [0.03492239000514304, 0.040512569040986074, -0.07622676784994735, -0.047690866390614386, -0.07190390820805277, 0.008024884690184577, 0.09642742293636171, -0.22979484604314113, -0.1751479394732306, -0.09000893669849314, -0.10370185206003224, 0.08383375340315007, -0.12560209528056215, 0.11730023869780327, 1.0, -0.3397147982270826], [-0.04382071521630337, 0.05266978929569757, 0.18462159130663436, 0.08120046625131945, -0.023052629198992543, -0.14269983304204378, -0.19450563869473006, 0.3447847842999491, 0.32020244222427807, 0.2065426333767932, 0.08800958123952594, -0.16209619470824743, 0.19988282151156728, 0.006435571912650307, -0.3397147982270826, 1.0]]}],\n",
              "                        {\"autosize\": false, \"height\": 720, \"margin\": {\"b\": 210, \"l\": 210, \"r\": 0, \"t\": 25}, \"template\": {\"data\": {\"bar\": [{\"error_x\": {\"color\": \"#2a3f5f\"}, \"error_y\": {\"color\": \"#2a3f5f\"}, \"marker\": {\"line\": {\"color\": \"#E5ECF6\", \"width\": 0.5}}, \"type\": \"bar\"}], \"barpolar\": [{\"marker\": {\"line\": {\"color\": \"#E5ECF6\", \"width\": 0.5}}, \"type\": \"barpolar\"}], \"carpet\": [{\"aaxis\": {\"endlinecolor\": \"#2a3f5f\", \"gridcolor\": \"white\", \"linecolor\": \"white\", \"minorgridcolor\": \"white\", \"startlinecolor\": \"#2a3f5f\"}, \"baxis\": {\"endlinecolor\": \"#2a3f5f\", \"gridcolor\": \"white\", \"linecolor\": \"white\", \"minorgridcolor\": \"white\", \"startlinecolor\": \"#2a3f5f\"}, \"type\": \"carpet\"}], \"choropleth\": [{\"colorbar\": {\"outlinewidth\": 0, \"ticks\": \"\"}, \"type\": \"choropleth\"}], \"contour\": [{\"colorbar\": {\"outlinewidth\": 0, \"ticks\": \"\"}, \"colorscale\": [[0.0, \"#0d0887\"], [0.1111111111111111, \"#46039f\"], [0.2222222222222222, \"#7201a8\"], [0.3333333333333333, \"#9c179e\"], [0.4444444444444444, \"#bd3786\"], [0.5555555555555556, \"#d8576b\"], [0.6666666666666666, \"#ed7953\"], [0.7777777777777778, \"#fb9f3a\"], [0.8888888888888888, \"#fdca26\"], [1.0, \"#f0f921\"]], \"type\": \"contour\"}], \"contourcarpet\": [{\"colorbar\": {\"outlinewidth\": 0, \"ticks\": \"\"}, \"type\": \"contourcarpet\"}], \"heatmap\": [{\"colorbar\": {\"outlinewidth\": 0, \"ticks\": \"\"}, \"colorscale\": [[0.0, \"#0d0887\"], [0.1111111111111111, \"#46039f\"], [0.2222222222222222, \"#7201a8\"], [0.3333333333333333, \"#9c179e\"], [0.4444444444444444, \"#bd3786\"], [0.5555555555555556, \"#d8576b\"], [0.6666666666666666, \"#ed7953\"], [0.7777777777777778, \"#fb9f3a\"], [0.8888888888888888, \"#fdca26\"], [1.0, \"#f0f921\"]], \"type\": \"heatmap\"}], \"heatmapgl\": [{\"colorbar\": {\"outlinewidth\": 0, \"ticks\": \"\"}, \"colorscale\": [[0.0, \"#0d0887\"], [0.1111111111111111, \"#46039f\"], [0.2222222222222222, \"#7201a8\"], [0.3333333333333333, \"#9c179e\"], [0.4444444444444444, \"#bd3786\"], [0.5555555555555556, \"#d8576b\"], [0.6666666666666666, \"#ed7953\"], [0.7777777777777778, \"#fb9f3a\"], [0.8888888888888888, \"#fdca26\"], [1.0, \"#f0f921\"]], \"type\": \"heatmapgl\"}], \"histogram\": [{\"marker\": {\"colorbar\": {\"outlinewidth\": 0, \"ticks\": \"\"}}, \"type\": \"histogram\"}], \"histogram2d\": [{\"colorbar\": {\"outlinewidth\": 0, \"ticks\": \"\"}, \"colorscale\": [[0.0, \"#0d0887\"], [0.1111111111111111, \"#46039f\"], [0.2222222222222222, \"#7201a8\"], [0.3333333333333333, \"#9c179e\"], [0.4444444444444444, \"#bd3786\"], [0.5555555555555556, \"#d8576b\"], [0.6666666666666666, \"#ed7953\"], [0.7777777777777778, \"#fb9f3a\"], [0.8888888888888888, \"#fdca26\"], [1.0, \"#f0f921\"]], \"type\": \"histogram2d\"}], \"histogram2dcontour\": [{\"colorbar\": {\"outlinewidth\": 0, \"ticks\": \"\"}, \"colorscale\": [[0.0, \"#0d0887\"], [0.1111111111111111, \"#46039f\"], [0.2222222222222222, \"#7201a8\"], [0.3333333333333333, \"#9c179e\"], [0.4444444444444444, \"#bd3786\"], [0.5555555555555556, \"#d8576b\"], [0.6666666666666666, \"#ed7953\"], [0.7777777777777778, \"#fb9f3a\"], [0.8888888888888888, \"#fdca26\"], [1.0, \"#f0f921\"]], \"type\": \"histogram2dcontour\"}], \"mesh3d\": [{\"colorbar\": {\"outlinewidth\": 0, \"ticks\": \"\"}, \"type\": \"mesh3d\"}], \"parcoords\": [{\"line\": {\"colorbar\": {\"outlinewidth\": 0, \"ticks\": \"\"}}, \"type\": \"parcoords\"}], \"pie\": [{\"automargin\": true, \"type\": \"pie\"}], \"scatter\": [{\"marker\": {\"colorbar\": {\"outlinewidth\": 0, \"ticks\": \"\"}}, \"type\": \"scatter\"}], \"scatter3d\": [{\"line\": {\"colorbar\": {\"outlinewidth\": 0, \"ticks\": \"\"}}, \"marker\": {\"colorbar\": {\"outlinewidth\": 0, \"ticks\": \"\"}}, \"type\": \"scatter3d\"}], \"scattercarpet\": [{\"marker\": {\"colorbar\": {\"outlinewidth\": 0, \"ticks\": \"\"}}, \"type\": \"scattercarpet\"}], \"scattergeo\": [{\"marker\": {\"colorbar\": {\"outlinewidth\": 0, \"ticks\": \"\"}}, \"type\": \"scattergeo\"}], \"scattergl\": [{\"marker\": {\"colorbar\": {\"outlinewidth\": 0, \"ticks\": \"\"}}, \"type\": \"scattergl\"}], \"scattermapbox\": [{\"marker\": {\"colorbar\": {\"outlinewidth\": 0, \"ticks\": \"\"}}, \"type\": \"scattermapbox\"}], \"scatterpolar\": [{\"marker\": {\"colorbar\": {\"outlinewidth\": 0, \"ticks\": \"\"}}, \"type\": \"scatterpolar\"}], \"scatterpolargl\": [{\"marker\": {\"colorbar\": {\"outlinewidth\": 0, \"ticks\": \"\"}}, \"type\": \"scatterpolargl\"}], \"scatterternary\": [{\"marker\": {\"colorbar\": {\"outlinewidth\": 0, \"ticks\": \"\"}}, \"type\": \"scatterternary\"}], \"surface\": [{\"colorbar\": {\"outlinewidth\": 0, \"ticks\": \"\"}, \"colorscale\": [[0.0, \"#0d0887\"], [0.1111111111111111, \"#46039f\"], [0.2222222222222222, \"#7201a8\"], [0.3333333333333333, \"#9c179e\"], [0.4444444444444444, \"#bd3786\"], [0.5555555555555556, \"#d8576b\"], [0.6666666666666666, \"#ed7953\"], [0.7777777777777778, \"#fb9f3a\"], [0.8888888888888888, \"#fdca26\"], [1.0, \"#f0f921\"]], \"type\": \"surface\"}], \"table\": [{\"cells\": {\"fill\": {\"color\": \"#EBF0F8\"}, \"line\": {\"color\": \"white\"}}, \"header\": {\"fill\": {\"color\": \"#C8D4E3\"}, \"line\": {\"color\": \"white\"}}, \"type\": \"table\"}]}, \"layout\": {\"annotationdefaults\": {\"arrowcolor\": \"#2a3f5f\", \"arrowhead\": 0, \"arrowwidth\": 1}, \"coloraxis\": {\"colorbar\": {\"outlinewidth\": 0, \"ticks\": \"\"}}, \"colorscale\": {\"diverging\": [[0, \"#8e0152\"], [0.1, \"#c51b7d\"], [0.2, \"#de77ae\"], [0.3, \"#f1b6da\"], [0.4, \"#fde0ef\"], [0.5, \"#f7f7f7\"], [0.6, \"#e6f5d0\"], [0.7, \"#b8e186\"], [0.8, \"#7fbc41\"], [0.9, \"#4d9221\"], [1, \"#276419\"]], \"sequential\": [[0.0, \"#0d0887\"], [0.1111111111111111, \"#46039f\"], [0.2222222222222222, \"#7201a8\"], [0.3333333333333333, \"#9c179e\"], [0.4444444444444444, \"#bd3786\"], [0.5555555555555556, \"#d8576b\"], [0.6666666666666666, \"#ed7953\"], [0.7777777777777778, \"#fb9f3a\"], [0.8888888888888888, \"#fdca26\"], [1.0, \"#f0f921\"]], \"sequentialminus\": [[0.0, \"#0d0887\"], [0.1111111111111111, \"#46039f\"], [0.2222222222222222, \"#7201a8\"], [0.3333333333333333, \"#9c179e\"], [0.4444444444444444, \"#bd3786\"], [0.5555555555555556, \"#d8576b\"], [0.6666666666666666, \"#ed7953\"], [0.7777777777777778, \"#fb9f3a\"], [0.8888888888888888, \"#fdca26\"], [1.0, \"#f0f921\"]]}, \"colorway\": [\"#636efa\", \"#EF553B\", \"#00cc96\", \"#ab63fa\", \"#FFA15A\", \"#19d3f3\", \"#FF6692\", \"#B6E880\", \"#FF97FF\", \"#FECB52\"], \"font\": {\"color\": \"#2a3f5f\"}, \"geo\": {\"bgcolor\": \"white\", \"lakecolor\": \"white\", \"landcolor\": \"#E5ECF6\", \"showlakes\": true, \"showland\": true, \"subunitcolor\": \"white\"}, \"hoverlabel\": {\"align\": \"left\"}, \"hovermode\": \"closest\", \"mapbox\": {\"style\": \"light\"}, \"paper_bgcolor\": \"white\", \"plot_bgcolor\": \"#E5ECF6\", \"polar\": {\"angularaxis\": {\"gridcolor\": \"white\", \"linecolor\": \"white\", \"ticks\": \"\"}, \"bgcolor\": \"#E5ECF6\", \"radialaxis\": {\"gridcolor\": \"white\", \"linecolor\": \"white\", \"ticks\": \"\"}}, \"scene\": {\"xaxis\": {\"backgroundcolor\": \"#E5ECF6\", \"gridcolor\": \"white\", \"gridwidth\": 2, \"linecolor\": \"white\", \"showbackground\": true, \"ticks\": \"\", \"zerolinecolor\": \"white\"}, \"yaxis\": {\"backgroundcolor\": \"#E5ECF6\", \"gridcolor\": \"white\", \"gridwidth\": 2, \"linecolor\": \"white\", \"showbackground\": true, \"ticks\": \"\", \"zerolinecolor\": \"white\"}, \"zaxis\": {\"backgroundcolor\": \"#E5ECF6\", \"gridcolor\": \"white\", \"gridwidth\": 2, \"linecolor\": \"white\", \"showbackground\": true, \"ticks\": \"\", \"zerolinecolor\": \"white\"}}, \"shapedefaults\": {\"line\": {\"color\": \"#2a3f5f\"}}, \"ternary\": {\"aaxis\": {\"gridcolor\": \"white\", \"linecolor\": \"white\", \"ticks\": \"\"}, \"baxis\": {\"gridcolor\": \"white\", \"linecolor\": \"white\", \"ticks\": \"\"}, \"bgcolor\": \"#E5ECF6\", \"caxis\": {\"gridcolor\": \"white\", \"linecolor\": \"white\", \"ticks\": \"\"}}, \"title\": {\"x\": 0.05}, \"xaxis\": {\"automargin\": true, \"gridcolor\": \"white\", \"linecolor\": \"white\", \"ticks\": \"\", \"title\": {\"standoff\": 15}, \"zerolinecolor\": \"white\", \"zerolinewidth\": 2}, \"yaxis\": {\"automargin\": true, \"gridcolor\": \"white\", \"linecolor\": \"white\", \"ticks\": \"\", \"title\": {\"standoff\": 15}, \"zerolinecolor\": \"white\", \"zerolinewidth\": 2}}}, \"title\": {\"text\": \"Matriz de correlaci\\u00f3n de variables\"}, \"width\": 800, \"xaxis\": {\"tickfont\": {\"size\": 9}}, \"yaxis\": {\"tickfont\": {\"size\": 9}}},\n",
              "                        {\"responsive\": true}\n",
              "                    ).then(function(){\n",
              "                            \n",
              "var gd = document.getElementById('a9b6b7e5-b26e-4421-87d3-c4266133ef4a');\n",
              "var x = new MutationObserver(function (mutations, observer) {{\n",
              "        var display = window.getComputedStyle(gd).display;\n",
              "        if (!display || display === 'none') {{\n",
              "            console.log([gd, 'removed!']);\n",
              "            Plotly.purge(gd);\n",
              "            observer.disconnect();\n",
              "        }}\n",
              "}});\n",
              "\n",
              "// Listen for the removal of the full notebook cells\n",
              "var notebookContainer = gd.closest('#notebook-container');\n",
              "if (notebookContainer) {{\n",
              "    x.observe(notebookContainer, {childList: true});\n",
              "}}\n",
              "\n",
              "// Listen for the clearing of the current output cell\n",
              "var outputEl = gd.closest('.output');\n",
              "if (outputEl) {{\n",
              "    x.observe(outputEl, {childList: true});\n",
              "}}\n",
              "\n",
              "                        })\n",
              "                };\n",
              "                \n",
              "            </script>\n",
              "        </div>\n",
              "</body>\n",
              "</html>"
            ]
          },
          "metadata": {
            "tags": []
          }
        }
      ]
    },
    {
      "cell_type": "markdown",
      "metadata": {
        "id": "wXKCGxbJfqvr",
        "colab_type": "text"
      },
      "source": [
        "# <a id='2'>2. Modelamiento</a>"
      ]
    },
    {
      "cell_type": "markdown",
      "metadata": {
        "id": "wZnCDUw-fqvs",
        "colab_type": "text"
      },
      "source": [
        "## <a id='2.1'>2.1. Regresión Logística</a>"
      ]
    },
    {
      "cell_type": "code",
      "metadata": {
        "id": "zVNsUhISfqvs",
        "colab_type": "code",
        "outputId": "1e7df1e2-9237-47ec-cefa-82d9845e3afc",
        "colab": {
          "base_uri": "https://localhost:8080/",
          "height": 319
        }
      },
      "source": [
        "# Modelamiento predicctivo del estado de las Bombas de agua, usando Regresión Logística.\n",
        "\n",
        "# Se importan las librerias requeridas.\n",
        "from sklearn.model_selection import train_test_split\n",
        "from sklearn.linear_model import LogisticRegression\n",
        "from sklearn.metrics import confusion_matrix,accuracy_score,classification_report\n",
        "\n",
        "# Se realiza la división de las muestras en entrenamiento y prueba.\n",
        "train_X,test_X,train_Y,test_Y = train_test_split(df_03,df_04,test_size = .25 ,random_state = 123)\n",
        "\n",
        "# Se instancia el modelo.\n",
        "logit  = LogisticRegression(C=1.0, class_weight='balanced', dual=False, fit_intercept=True,\n",
        "          intercept_scaling=1, max_iter=150, multi_class='auto', n_jobs=1,\n",
        "          penalty='l2', random_state=None, solver='liblinear', tol=0.0001,\n",
        "          verbose=0, warm_start=False)\n",
        "# Modelo\n",
        "logit.fit(train_X,train_Y)\n",
        "predictions   = logit.predict(test_X)\n",
        "probabilities = logit.predict_proba(test_X)\n",
        "    \n",
        "print (logit)\n",
        "print (\"\\n Classification report : \\n\",classification_report(test_Y,predictions))\n",
        "print (\"Accuracy   Score : \",accuracy_score(test_Y,predictions))\n"
      ],
      "execution_count": 0,
      "outputs": [
        {
          "output_type": "stream",
          "text": [
            "LogisticRegression(C=1.0, class_weight='balanced', dual=False,\n",
            "                   fit_intercept=True, intercept_scaling=1, l1_ratio=None,\n",
            "                   max_iter=150, multi_class='auto', n_jobs=1, penalty='l2',\n",
            "                   random_state=None, solver='liblinear', tol=0.0001, verbose=0,\n",
            "                   warm_start=False)\n",
            "\n",
            " Classification report : \n",
            "                          precision    recall  f1-score   support\n",
            "\n",
            "             functional       0.64      0.70      0.67      7963\n",
            "functional needs repair       0.18      0.13      0.15      1076\n",
            "         non functional       0.59      0.54      0.56      5811\n",
            "\n",
            "               accuracy                           0.60     14850\n",
            "              macro avg       0.47      0.46      0.46     14850\n",
            "           weighted avg       0.59      0.60      0.59     14850\n",
            "\n",
            "Accuracy   Score :  0.5974410774410774\n"
          ],
          "name": "stdout"
        }
      ]
    },
    {
      "cell_type": "markdown",
      "metadata": {
        "id": "S9s-16WGfqvw",
        "colab_type": "text"
      },
      "source": [
        "## <a id='2.2'>2.2. Regresión Logística usando SMOTE</a>"
      ]
    },
    {
      "cell_type": "code",
      "metadata": {
        "id": "YVdkRGYRfqvw",
        "colab_type": "code",
        "outputId": "0de11188-ca55-42c7-e75f-7cb7ae52d0d4",
        "colab": {
          "base_uri": "https://localhost:8080/",
          "height": 319
        }
      },
      "source": [
        "# Es importada libreria requerida.\n",
        "from imblearn.over_sampling import SMOTE\n",
        "\n",
        "# Separación de variables predictoras de variable objetivo.\n",
        "smote_X = df_03.copy()\n",
        "smote_Y = df_04.copy()\n",
        "\n",
        "\n",
        "# Split de datos de entrenamiento y de prueba\n",
        "smote_train_X,smote_test_X,smote_train_Y,smote_test_Y = train_test_split(smote_X,smote_Y,\n",
        "                                                                         test_size = .25 ,\n",
        "                                                                         random_state = 333)\n",
        "\n",
        "# Oversampling de la clase minoritaría usando SMOTE\n",
        "os = SMOTE(random_state = 333)\n",
        "os_smote_X,os_smote_Y = os.fit_sample(smote_train_X,smote_train_Y)\n",
        "os_smote_X = pd.DataFrame(data = os_smote_X,columns=lvar_pred)\n",
        "os_smote_Y = pd.DataFrame(data = os_smote_Y,columns=var_objet)\n",
        "\n",
        "\n",
        "\n",
        "# Instanciación de la Regresión Logística\n",
        "logit_smote = LogisticRegression(C=1.0, class_weight=None, dual=False, fit_intercept=True,\n",
        "          intercept_scaling=1, max_iter=200, multi_class='ovr', n_jobs=1,\n",
        "          penalty='l2', random_state=333, solver='liblinear', tol=0.0001,\n",
        "          verbose=0, warm_start=False)\n",
        "\n",
        "# Modelo\n",
        "logit_smote.fit(os_smote_X,os_smote_Y)\n",
        "predictions   = logit_smote.predict(smote_test_X)\n",
        "probabilities = logit_smote.predict_proba(smote_test_X)\n",
        "    \n",
        "print (logit)\n",
        "print (\"\\n Classification report : \\n\",classification_report(smote_test_Y,predictions))\n",
        "print (\"Accuracy   Score : \",accuracy_score(smote_test_Y,predictions))\n"
      ],
      "execution_count": 0,
      "outputs": [
        {
          "output_type": "stream",
          "text": [
            "LogisticRegression(C=1.0, class_weight='balanced', dual=False,\n",
            "                   fit_intercept=True, intercept_scaling=1, l1_ratio=None,\n",
            "                   max_iter=150, multi_class='auto', n_jobs=1, penalty='l2',\n",
            "                   random_state=None, solver='liblinear', tol=0.0001, verbose=0,\n",
            "                   warm_start=False)\n",
            "\n",
            " Classification report : \n",
            "                          precision    recall  f1-score   support\n",
            "\n",
            "             functional       0.68      0.39      0.49      8075\n",
            "functional needs repair       0.13      0.55      0.21      1073\n",
            "         non functional       0.56      0.56      0.56      5702\n",
            "\n",
            "               accuracy                           0.47     14850\n",
            "              macro avg       0.46      0.50      0.42     14850\n",
            "           weighted avg       0.59      0.47      0.50     14850\n",
            "\n",
            "Accuracy   Score :  0.4663973063973064\n"
          ],
          "name": "stdout"
        }
      ]
    },
    {
      "cell_type": "markdown",
      "metadata": {
        "id": "UfBwftt6fqv0",
        "colab_type": "text"
      },
      "source": [
        "## <a id='2.3'>2.3. XGBClassifier</a>"
      ]
    },
    {
      "cell_type": "code",
      "metadata": {
        "id": "cXA3bAZcfqv1",
        "colab_type": "code",
        "outputId": "509852b8-9202-43b8-b9d9-acbb277ccda3",
        "colab": {
          "base_uri": "https://localhost:8080/",
          "height": 353
        }
      },
      "source": [
        "# XGBClassifier\n",
        "# Se importa la libreria a ser usada.\n",
        "from xgboost import XGBClassifier\n",
        "\n",
        "\n",
        "xgc = XGBClassifier(base_score=0.5, booster='gbtree', colsample_bylevel=1,\n",
        "                    colsample_bytree=1, gamma=0, learning_rate=0.9, max_delta_step=0,\n",
        "                    max_depth = 7, min_child_weight=1, missing=None, n_estimators=100,\n",
        "                    n_jobs=1, nthread=None, objective='binary:logistic', random_state=333,\n",
        "                    reg_alpha=0, reg_lambda=1, scale_pos_weight=1, seed=None,\n",
        "                    silent=True, subsample=1)\n",
        "\n",
        "# Modelo\n",
        "xgc.fit(os_smote_X,os_smote_Y)\n",
        "predictions   = xgc.predict(test_X)\n",
        "probabilities = xgc.predict_proba(test_X)\n",
        "    \n",
        "print (xgc)\n",
        "print (\"\\n Classification report : \\n\",classification_report(test_Y,predictions))\n",
        "print (\"Accuracy   Score : \",accuracy_score(test_Y,predictions))\n"
      ],
      "execution_count": 0,
      "outputs": [
        {
          "output_type": "stream",
          "text": [
            "XGBClassifier(base_score=0.5, booster='gbtree', colsample_bylevel=1,\n",
            "              colsample_bynode=1, colsample_bytree=1, gamma=0,\n",
            "              learning_rate=0.9, max_delta_step=0, max_depth=7,\n",
            "              min_child_weight=1, missing=None, n_estimators=100, n_jobs=1,\n",
            "              nthread=None, objective='multi:softprob', random_state=333,\n",
            "              reg_alpha=0, reg_lambda=1, scale_pos_weight=1, seed=None,\n",
            "              silent=True, subsample=1, verbosity=1)\n",
            "\n",
            " Classification report : \n",
            "                          precision    recall  f1-score   support\n",
            "\n",
            "             functional       0.86      0.86      0.86      7963\n",
            "functional needs repair       0.43      0.66      0.52      1076\n",
            "         non functional       0.88      0.81      0.84      5811\n",
            "\n",
            "               accuracy                           0.82     14850\n",
            "              macro avg       0.73      0.77      0.74     14850\n",
            "           weighted avg       0.84      0.82      0.83     14850\n",
            "\n",
            "Accuracy   Score :  0.8220875420875421\n"
          ],
          "name": "stdout"
        }
      ]
    },
    {
      "cell_type": "markdown",
      "metadata": {
        "id": "lfyo3kgMfqv9",
        "colab_type": "text"
      },
      "source": [
        "## <a id='2.4'>2.4. LGBMClassifier</a>"
      ]
    },
    {
      "cell_type": "code",
      "metadata": {
        "id": "Dmgqprkefqv-",
        "colab_type": "code",
        "outputId": "87197af9-018b-4012-c944-35222f49bea5",
        "colab": {
          "base_uri": "https://localhost:8080/",
          "height": 336
        }
      },
      "source": [
        "# LightGBMClassifie\n",
        "\n",
        "# Se importa la libreria requerida\n",
        "from lightgbm import LGBMClassifier\n",
        "\n",
        "# Se instancia el modelo.\n",
        "lgbm_c = LGBMClassifier(boosting_type='gbdt', class_weight=None, colsample_bytree=1.0,\n",
        "                        learning_rate=0.5, max_depth=7, min_child_samples=20,\n",
        "                        min_child_weight=0.001, min_split_gain=0.0, n_estimators=100,\n",
        "                        n_jobs=-1, num_leaves=500, objective='binary', random_state=None,\n",
        "                        reg_alpha=0.0, reg_lambda=0.0, silent=True, subsample=1.0,\n",
        "                        subsample_for_bin=200000, subsample_freq=0)\n",
        "\n",
        "# Modelo\n",
        "lgbm_c.fit(os_smote_X,os_smote_Y)\n",
        "predictions   = lgbm_c.predict(test_X)\n",
        "probabilities = lgbm_c.predict_proba(test_X)\n",
        "    \n",
        "print (lgbm_c)\n",
        "print (\"\\n Classification report : \\n\",classification_report(test_Y,predictions))\n",
        "print (\"Accuracy   Score : \",accuracy_score(test_Y,predictions))"
      ],
      "execution_count": 0,
      "outputs": [
        {
          "output_type": "stream",
          "text": [
            "LGBMClassifier(boosting_type='gbdt', class_weight=None, colsample_bytree=1.0,\n",
            "               importance_type='split', learning_rate=0.5, max_depth=7,\n",
            "               min_child_samples=20, min_child_weight=0.001, min_split_gain=0.0,\n",
            "               n_estimators=100, n_jobs=-1, num_leaves=500, objective='binary',\n",
            "               random_state=None, reg_alpha=0.0, reg_lambda=0.0, silent=True,\n",
            "               subsample=1.0, subsample_for_bin=200000, subsample_freq=0)\n",
            "\n",
            " Classification report : \n",
            "                          precision    recall  f1-score   support\n",
            "\n",
            "             functional       0.84      0.85      0.85      7963\n",
            "functional needs repair       0.42      0.63      0.50      1076\n",
            "         non functional       0.88      0.78      0.82      5811\n",
            "\n",
            "               accuracy                           0.81     14850\n",
            "              macro avg       0.71      0.75      0.73     14850\n",
            "           weighted avg       0.82      0.81      0.81     14850\n",
            "\n",
            "Accuracy   Score :  0.8076094276094276\n"
          ],
          "name": "stdout"
        }
      ]
    },
    {
      "cell_type": "markdown",
      "metadata": {
        "id": "evmtrWPYfqwP",
        "colab_type": "text"
      },
      "source": [
        "## <a id='2.5'>2.5. BalancedBaggingClassifier</a>\n"
      ]
    },
    {
      "cell_type": "code",
      "metadata": {
        "id": "l3svoBTOfqwQ",
        "colab_type": "code",
        "outputId": "7fbda312-4d9e-4a08-e59c-c6b1d0df2fef",
        "colab": {
          "base_uri": "https://localhost:8080/",
          "height": 554
        }
      },
      "source": [
        "# BalancedBaggingClassifier\n",
        "\n",
        "# Se importan las librerias requeridas\n",
        "from sklearn.tree import DecisionTreeClassifier\n",
        "from sklearn import tree\n",
        "from imblearn.ensemble import BalancedBaggingClassifier\n",
        "\n",
        "# Se instancia el modelo\n",
        "bbc = BalancedBaggingClassifier(base_estimator=DecisionTreeClassifier(),\n",
        "                                sampling_strategy='auto',\n",
        "                                replacement=False,\n",
        "                                random_state=0)\n",
        "\n",
        "# Modelo\n",
        "bbc.fit(os_smote_X,os_smote_Y)\n",
        "predictions   = bbc.predict(test_X)\n",
        "probabilities = bbc.predict_proba(test_X)\n",
        "    \n",
        "print (bbc)\n",
        "print (\"\\n Classification report : \\n\",classification_report(test_Y,predictions))\n",
        "print (\"Accuracy   Score : \",accuracy_score(test_Y,predictions))\n",
        "\n"
      ],
      "execution_count": 0,
      "outputs": [
        {
          "output_type": "stream",
          "text": [
            "BalancedBaggingClassifier(base_estimator=DecisionTreeClassifier(ccp_alpha=0.0,\n",
            "                                                                class_weight=None,\n",
            "                                                                criterion='gini',\n",
            "                                                                max_depth=None,\n",
            "                                                                max_features=None,\n",
            "                                                                max_leaf_nodes=None,\n",
            "                                                                min_impurity_decrease=0.0,\n",
            "                                                                min_impurity_split=None,\n",
            "                                                                min_samples_leaf=1,\n",
            "                                                                min_samples_split=2,\n",
            "                                                                min_weight_fraction_leaf=0.0,\n",
            "                                                                presort='deprecated',\n",
            "                                                                random_state=None,\n",
            "                                                                splitter='best'),\n",
            "                          bootstrap=True, bootstrap_features=False,\n",
            "                          max_features=1.0, max_samples=1.0, n_estimators=10,\n",
            "                          n_jobs=1, oob_score=False, random_state=0, ratio=None,\n",
            "                          replacement=False, sampling_strategy='auto',\n",
            "                          verbose=0, warm_start=False)\n",
            "\n",
            " Classification report : \n",
            "                          precision    recall  f1-score   support\n",
            "\n",
            "             functional       0.88      0.86      0.87      7963\n",
            "functional needs repair       0.45      0.70      0.55      1076\n",
            "         non functional       0.89      0.83      0.86      5811\n",
            "\n",
            "               accuracy                           0.84     14850\n",
            "              macro avg       0.74      0.80      0.76     14850\n",
            "           weighted avg       0.85      0.84      0.84     14850\n",
            "\n",
            "Accuracy   Score :  0.8361616161616162\n"
          ],
          "name": "stdout"
        }
      ]
    },
    {
      "cell_type": "markdown",
      "metadata": {
        "id": "yCcmRkeoFk_o",
        "colab_type": "text"
      },
      "source": [
        "## <a id='2.6'>2.6. Red Neuronal usando Keras.</a>\n",
        "\n",
        "A continuación se usa Keras para modelar una Red Neuronal, predictiva de los estados de las Bombas de agua.\n"
      ]
    },
    {
      "cell_type": "code",
      "metadata": {
        "id": "MJK_TP7NZKtg",
        "colab_type": "code",
        "outputId": "495e0846-3c9a-41f8-ccda-a05fa3402722",
        "colab": {
          "base_uri": "https://localhost:8080/",
          "height": 34
        }
      },
      "source": [
        "# Se importan las librerias requeridas.\n",
        "import tensorflow\n",
        "import keras.utils\n",
        "from   keras.models import Sequential\n",
        "from   keras.layers import Dense, Dropout, Activation\n",
        "# Se incorporan diferentes optimizadores que serán probados en la Red Neuronal,\n",
        "# en la búsqueda de mejorar su rendimiento.\n",
        "from   keras.optimizers import Adadelta, Adagrad, Adam, Adamax, Nadam, SGD, RMSprop\n",
        "\n"
      ],
      "execution_count": 0,
      "outputs": [
        {
          "output_type": "stream",
          "text": [
            "Using TensorFlow backend.\n"
          ],
          "name": "stderr"
        }
      ]
    },
    {
      "cell_type": "code",
      "metadata": {
        "id": "YZ_m4Y0GAIqq",
        "colab_type": "code",
        "outputId": "bde62019-8b77-4daf-ac40-ec5014f1d34e",
        "colab": {
          "base_uri": "https://localhost:8080/",
          "height": 371
        }
      },
      "source": [
        "# Es necesario normalizar algunas de las variables a ser usadas. De tal forma\n",
        "# que los modelos predictivos a ser implementados operen correctamente.\n",
        "\n",
        "# Se import la libreria requerida.\n",
        "from sklearn.preprocessing import MinMaxScaler, StandardScaler\n",
        "\n",
        "# Se define la función normaliza_df()\n",
        "def normaliza_df(scaler, df):\n",
        "  scaled_df = scaler.fit_transform(df)\n",
        "  scaled_df = pd.DataFrame(scaled_df, columns=df.columns.values)\n",
        "  return scaled_df\n",
        "\n",
        "# Se eligen las variables a ser normalizadas.\n",
        "lvar_norm = ['amount_tsh','funder','construction_year']\n",
        "lvar_otra = [var for var in df_03.columns if var not in lvar_norm]\n",
        "\n",
        "df_03_norm            = normaliza_df(StandardScaler(),df_03[lvar_norm])\n",
        "df_03_norm[lvar_otra] = df_03[lvar_otra]\n",
        "# El df_03_norm tiene las muestras de las variables predictoras a ser usadas. \n",
        "df_03_norm.describe()\n"
      ],
      "execution_count": 0,
      "outputs": [
        {
          "output_type": "execute_result",
          "data": {
            "text/html": [
              "<div>\n",
              "<style scoped>\n",
              "    .dataframe tbody tr th:only-of-type {\n",
              "        vertical-align: middle;\n",
              "    }\n",
              "\n",
              "    .dataframe tbody tr th {\n",
              "        vertical-align: top;\n",
              "    }\n",
              "\n",
              "    .dataframe thead th {\n",
              "        text-align: right;\n",
              "    }\n",
              "</style>\n",
              "<table border=\"1\" class=\"dataframe\">\n",
              "  <thead>\n",
              "    <tr style=\"text-align: right;\">\n",
              "      <th></th>\n",
              "      <th>amount_tsh</th>\n",
              "      <th>funder</th>\n",
              "      <th>construction_year</th>\n",
              "      <th>region_code</th>\n",
              "      <th>district_code</th>\n",
              "      <th>public_meeting</th>\n",
              "      <th>scheme_management</th>\n",
              "      <th>extraction_type</th>\n",
              "      <th>extraction_type_group</th>\n",
              "      <th>extraction_type_class</th>\n",
              "      <th>management_group</th>\n",
              "      <th>water_quality</th>\n",
              "      <th>quality_group</th>\n",
              "      <th>quantity</th>\n",
              "      <th>source_class</th>\n",
              "      <th>waterpoint_type</th>\n",
              "    </tr>\n",
              "  </thead>\n",
              "  <tbody>\n",
              "    <tr>\n",
              "      <th>count</th>\n",
              "      <td>5.940000e+04</td>\n",
              "      <td>5.940000e+04</td>\n",
              "      <td>5.940000e+04</td>\n",
              "      <td>59400.000000</td>\n",
              "      <td>59400.000000</td>\n",
              "      <td>59400.000000</td>\n",
              "      <td>59400.000000</td>\n",
              "      <td>59400.000000</td>\n",
              "      <td>59400.000000</td>\n",
              "      <td>59400.000000</td>\n",
              "      <td>59400.000000</td>\n",
              "      <td>59400.000000</td>\n",
              "      <td>59400.000000</td>\n",
              "      <td>59400.000000</td>\n",
              "      <td>59400.000000</td>\n",
              "      <td>59400.000000</td>\n",
              "    </tr>\n",
              "    <tr>\n",
              "      <th>mean</th>\n",
              "      <td>5.364466e-16</td>\n",
              "      <td>1.817140e-16</td>\n",
              "      <td>3.053039e-16</td>\n",
              "      <td>15.297003</td>\n",
              "      <td>5.629747</td>\n",
              "      <td>0.971027</td>\n",
              "      <td>7.739276</td>\n",
              "      <td>6.331279</td>\n",
              "      <td>3.936549</td>\n",
              "      <td>1.264663</td>\n",
              "      <td>3.638418</td>\n",
              "      <td>5.754293</td>\n",
              "      <td>2.263047</td>\n",
              "      <td>1.325758</td>\n",
              "      <td>0.233737</td>\n",
              "      <td>2.574091</td>\n",
              "    </tr>\n",
              "    <tr>\n",
              "      <th>std</th>\n",
              "      <td>1.000008e+00</td>\n",
              "      <td>1.000008e+00</td>\n",
              "      <td>1.000008e+00</td>\n",
              "      <td>17.587406</td>\n",
              "      <td>9.633649</td>\n",
              "      <td>0.374689</td>\n",
              "      <td>2.623470</td>\n",
              "      <td>4.213948</td>\n",
              "      <td>3.527073</td>\n",
              "      <td>1.626676</td>\n",
              "      <td>1.058579</td>\n",
              "      <td>0.900820</td>\n",
              "      <td>0.784268</td>\n",
              "      <td>0.803750</td>\n",
              "      <td>0.434129</td>\n",
              "      <td>1.781438</td>\n",
              "    </tr>\n",
              "    <tr>\n",
              "      <th>min</th>\n",
              "      <td>-1.059700e-01</td>\n",
              "      <td>-1.519209e+00</td>\n",
              "      <td>-1.366788e+00</td>\n",
              "      <td>1.000000</td>\n",
              "      <td>0.000000</td>\n",
              "      <td>0.000000</td>\n",
              "      <td>0.000000</td>\n",
              "      <td>0.000000</td>\n",
              "      <td>0.000000</td>\n",
              "      <td>0.000000</td>\n",
              "      <td>0.000000</td>\n",
              "      <td>0.000000</td>\n",
              "      <td>0.000000</td>\n",
              "      <td>0.000000</td>\n",
              "      <td>0.000000</td>\n",
              "      <td>0.000000</td>\n",
              "    </tr>\n",
              "    <tr>\n",
              "      <th>25%</th>\n",
              "      <td>-1.059700e-01</td>\n",
              "      <td>-7.254378e-01</td>\n",
              "      <td>-1.366788e+00</td>\n",
              "      <td>5.000000</td>\n",
              "      <td>2.000000</td>\n",
              "      <td>1.000000</td>\n",
              "      <td>8.000000</td>\n",
              "      <td>3.000000</td>\n",
              "      <td>1.000000</td>\n",
              "      <td>0.000000</td>\n",
              "      <td>4.000000</td>\n",
              "      <td>6.000000</td>\n",
              "      <td>2.000000</td>\n",
              "      <td>1.000000</td>\n",
              "      <td>0.000000</td>\n",
              "      <td>1.000000</td>\n",
              "    </tr>\n",
              "    <tr>\n",
              "      <th>50%</th>\n",
              "      <td>-1.059700e-01</td>\n",
              "      <td>-3.490192e-01</td>\n",
              "      <td>7.201960e-01</td>\n",
              "      <td>12.000000</td>\n",
              "      <td>3.000000</td>\n",
              "      <td>1.000000</td>\n",
              "      <td>8.000000</td>\n",
              "      <td>4.000000</td>\n",
              "      <td>2.000000</td>\n",
              "      <td>1.000000</td>\n",
              "      <td>4.000000</td>\n",
              "      <td>6.000000</td>\n",
              "      <td>2.000000</td>\n",
              "      <td>1.000000</td>\n",
              "      <td>0.000000</td>\n",
              "      <td>2.000000</td>\n",
              "    </tr>\n",
              "    <tr>\n",
              "      <th>75%</th>\n",
              "      <td>-9.929791e-02</td>\n",
              "      <td>8.282901e-01</td>\n",
              "      <td>7.391112e-01</td>\n",
              "      <td>17.000000</td>\n",
              "      <td>5.000000</td>\n",
              "      <td>1.000000</td>\n",
              "      <td>8.000000</td>\n",
              "      <td>9.000000</td>\n",
              "      <td>6.000000</td>\n",
              "      <td>2.000000</td>\n",
              "      <td>4.000000</td>\n",
              "      <td>6.000000</td>\n",
              "      <td>2.000000</td>\n",
              "      <td>2.000000</td>\n",
              "      <td>0.000000</td>\n",
              "      <td>4.000000</td>\n",
              "    </tr>\n",
              "    <tr>\n",
              "      <th>max</th>\n",
              "      <td>1.166561e+02</td>\n",
              "      <td>1.856990e+00</td>\n",
              "      <td>7.485689e-01</td>\n",
              "      <td>99.000000</td>\n",
              "      <td>80.000000</td>\n",
              "      <td>2.000000</td>\n",
              "      <td>12.000000</td>\n",
              "      <td>17.000000</td>\n",
              "      <td>12.000000</td>\n",
              "      <td>6.000000</td>\n",
              "      <td>4.000000</td>\n",
              "      <td>7.000000</td>\n",
              "      <td>5.000000</td>\n",
              "      <td>4.000000</td>\n",
              "      <td>2.000000</td>\n",
              "      <td>6.000000</td>\n",
              "    </tr>\n",
              "  </tbody>\n",
              "</table>\n",
              "</div>"
            ],
            "text/plain": [
              "         amount_tsh        funder  ...  source_class  waterpoint_type\n",
              "count  5.940000e+04  5.940000e+04  ...  59400.000000     59400.000000\n",
              "mean   5.364466e-16  1.817140e-16  ...      0.233737         2.574091\n",
              "std    1.000008e+00  1.000008e+00  ...      0.434129         1.781438\n",
              "min   -1.059700e-01 -1.519209e+00  ...      0.000000         0.000000\n",
              "25%   -1.059700e-01 -7.254378e-01  ...      0.000000         1.000000\n",
              "50%   -1.059700e-01 -3.490192e-01  ...      0.000000         2.000000\n",
              "75%   -9.929791e-02  8.282901e-01  ...      0.000000         4.000000\n",
              "max    1.166561e+02  1.856990e+00  ...      2.000000         6.000000\n",
              "\n",
              "[8 rows x 16 columns]"
            ]
          },
          "metadata": {
            "tags": []
          },
          "execution_count": 15
        }
      ]
    },
    {
      "cell_type": "code",
      "metadata": {
        "id": "uIVugudJZXXz",
        "colab_type": "code",
        "colab": {}
      },
      "source": [
        "# Se realiza la partición de las muestras para aplicar el entrenamiento de la \n",
        "# Red Neuronal.\n",
        "from sklearn.preprocessing   import LabelEncoder\n",
        "from sklearn.model_selection import train_test_split\n",
        "\n",
        "X = df_03_norm.copy()\n",
        "y = df_04.apply(LabelEncoder().fit_transform).values.ravel()\n",
        "y_cat = keras.utils.to_categorical(y, num_classes=3)\n",
        "\n",
        "X_train_, X_test_, y_train_, y_test_ = train_test_split(X, y_cat, test_size=0.25, stratify=y)"
      ],
      "execution_count": 0,
      "outputs": []
    },
    {
      "cell_type": "code",
      "metadata": {
        "id": "D3eX5iUQxeDQ",
        "colab_type": "code",
        "outputId": "41e99e0d-315d-433e-87eb-37374b76fc25",
        "colab": {
          "base_uri": "https://localhost:8080/",
          "height": 1000
        }
      },
      "source": [
        "# Se define el modelo para la Red Neuronal. Esta Red Neuronal tiene una capa de \n",
        "# entrada con 64 neuronas, una capa oculta con 32 neuronas y una capa de salida\n",
        "# con 3 neuronas.\n",
        "model = Sequential()\n",
        "# La primera capa tiene 64 'neuronas', función de activación relu y 16 variables\n",
        "# de entrada.\n",
        "model.add(Dense(64, activation='relu', input_dim=16))\n",
        "# La segunda capa tiene 32 'neuronas' y función de activación relu.\n",
        "model.add(Dense(32, activation='relu'))\n",
        "# La capa de salida, considera las 3 clases y función de activación softmax.\n",
        "model.add(Dense(3, activation='softmax'))\n",
        "\n",
        "# Se usa el optimizador RMSprop, con valores de hiperparámetros tomados desde\n",
        "# la documentación de Keras.\n",
        "rmsprop = RMSprop(learning_rate=0.001, rho=0.9)\n",
        "# Se instancia el modelo, usando optimizador rmsprop, función de pérdida \n",
        "# categorical_crossentropy y métrica accuracy.\n",
        "model.compile(optimizer=rmsprop,\n",
        "              loss='categorical_crossentropy',\n",
        "              metrics=['accuracy'])\n",
        "# Se mira el modelo y sus parámetros\n",
        "model.summary()\n",
        "# Se entrena la Red Neuronal, con epochs = 100 y batch_size = 32\n",
        "model.fit(X_train_, y_train_, epochs=100, batch_size=32)\n"
      ],
      "execution_count": 0,
      "outputs": [
        {
          "output_type": "stream",
          "text": [
            "Model: \"sequential_1\"\n",
            "_________________________________________________________________\n",
            "Layer (type)                 Output Shape              Param #   \n",
            "=================================================================\n",
            "dense_1 (Dense)              (None, 64)                1088      \n",
            "_________________________________________________________________\n",
            "dense_2 (Dense)              (None, 32)                2080      \n",
            "_________________________________________________________________\n",
            "dense_3 (Dense)              (None, 3)                 99        \n",
            "=================================================================\n",
            "Total params: 3,267\n",
            "Trainable params: 3,267\n",
            "Non-trainable params: 0\n",
            "_________________________________________________________________\n",
            "Epoch 1/100\n",
            "44550/44550 [==============================] - 2s 36us/step - loss: 0.8195 - accuracy: 0.6310\n",
            "Epoch 2/100\n",
            "44550/44550 [==============================] - 2s 34us/step - loss: 0.7426 - accuracy: 0.6835\n",
            "Epoch 3/100\n",
            "44550/44550 [==============================] - 2s 34us/step - loss: 0.7022 - accuracy: 0.7069\n",
            "Epoch 4/100\n",
            "44550/44550 [==============================] - 2s 34us/step - loss: 0.6882 - accuracy: 0.7122\n",
            "Epoch 5/100\n",
            "44550/44550 [==============================] - 1s 33us/step - loss: 0.6786 - accuracy: 0.7196\n",
            "Epoch 6/100\n",
            "44550/44550 [==============================] - 1s 33us/step - loss: 0.6734 - accuracy: 0.7202\n",
            "Epoch 7/100\n",
            "44550/44550 [==============================] - 2s 34us/step - loss: 0.6693 - accuracy: 0.7235\n",
            "Epoch 8/100\n",
            "44550/44550 [==============================] - 1s 34us/step - loss: 0.6677 - accuracy: 0.7230\n",
            "Epoch 9/100\n",
            "44550/44550 [==============================] - 2s 34us/step - loss: 0.6637 - accuracy: 0.7239\n",
            "Epoch 10/100\n",
            "44550/44550 [==============================] - 2s 34us/step - loss: 0.6657 - accuracy: 0.7263\n",
            "Epoch 11/100\n",
            "44550/44550 [==============================] - 1s 33us/step - loss: 0.6667 - accuracy: 0.7278\n",
            "Epoch 12/100\n",
            "44550/44550 [==============================] - 2s 34us/step - loss: 0.6674 - accuracy: 0.7270\n",
            "Epoch 13/100\n",
            "44550/44550 [==============================] - 2s 34us/step - loss: 0.6716 - accuracy: 0.7261\n",
            "Epoch 14/100\n",
            "44550/44550 [==============================] - 1s 33us/step - loss: 0.6702 - accuracy: 0.7288\n",
            "Epoch 15/100\n",
            "44550/44550 [==============================] - 1s 33us/step - loss: 0.6710 - accuracy: 0.7285\n",
            "Epoch 16/100\n",
            "44550/44550 [==============================] - 1s 33us/step - loss: 0.6715 - accuracy: 0.7305\n",
            "Epoch 17/100\n",
            "44550/44550 [==============================] - 1s 33us/step - loss: 0.6732 - accuracy: 0.7301\n",
            "Epoch 18/100\n",
            "44550/44550 [==============================] - 1s 33us/step - loss: 0.6730 - accuracy: 0.7305\n",
            "Epoch 19/100\n",
            "44550/44550 [==============================] - 1s 32us/step - loss: 0.6774 - accuracy: 0.7288\n",
            "Epoch 20/100\n",
            "44550/44550 [==============================] - 1s 32us/step - loss: 0.6821 - accuracy: 0.7307\n",
            "Epoch 21/100\n",
            "44550/44550 [==============================] - 2s 34us/step - loss: 0.6814 - accuracy: 0.7307\n",
            "Epoch 22/100\n",
            "44550/44550 [==============================] - 1s 33us/step - loss: 0.6862 - accuracy: 0.7295\n",
            "Epoch 23/100\n",
            "44550/44550 [==============================] - 1s 33us/step - loss: 0.6877 - accuracy: 0.7308\n",
            "Epoch 24/100\n",
            "44550/44550 [==============================] - 1s 34us/step - loss: 0.6891 - accuracy: 0.7307\n",
            "Epoch 25/100\n",
            "44550/44550 [==============================] - 2s 34us/step - loss: 0.6881 - accuracy: 0.7316\n",
            "Epoch 26/100\n",
            "44550/44550 [==============================] - 1s 33us/step - loss: 0.7026 - accuracy: 0.7316\n",
            "Epoch 27/100\n",
            "44550/44550 [==============================] - 1s 33us/step - loss: 0.7059 - accuracy: 0.7342\n",
            "Epoch 28/100\n",
            "44550/44550 [==============================] - 2s 34us/step - loss: 0.7094 - accuracy: 0.7332\n",
            "Epoch 29/100\n",
            "44550/44550 [==============================] - 1s 34us/step - loss: 0.7121 - accuracy: 0.7331\n",
            "Epoch 30/100\n",
            "44550/44550 [==============================] - 1s 33us/step - loss: 0.7165 - accuracy: 0.7336\n",
            "Epoch 31/100\n",
            "44550/44550 [==============================] - 1s 33us/step - loss: 0.7059 - accuracy: 0.7344\n",
            "Epoch 32/100\n",
            "44550/44550 [==============================] - 2s 34us/step - loss: 0.7163 - accuracy: 0.7320\n",
            "Epoch 33/100\n",
            "44550/44550 [==============================] - 1s 33us/step - loss: 0.7149 - accuracy: 0.7325\n",
            "Epoch 34/100\n",
            "44550/44550 [==============================] - 1s 33us/step - loss: 0.7192 - accuracy: 0.7353\n",
            "Epoch 35/100\n",
            "44550/44550 [==============================] - 1s 33us/step - loss: 0.7191 - accuracy: 0.7323\n",
            "Epoch 36/100\n",
            "44550/44550 [==============================] - 2s 34us/step - loss: 0.7186 - accuracy: 0.7332\n",
            "Epoch 37/100\n",
            "44550/44550 [==============================] - 1s 33us/step - loss: 0.7211 - accuracy: 0.7353\n",
            "Epoch 38/100\n",
            "44550/44550 [==============================] - 2s 34us/step - loss: 0.7287 - accuracy: 0.7342\n",
            "Epoch 39/100\n",
            "44550/44550 [==============================] - 1s 34us/step - loss: 0.7184 - accuracy: 0.7341\n",
            "Epoch 40/100\n",
            "44550/44550 [==============================] - 2s 34us/step - loss: 0.7272 - accuracy: 0.7338\n",
            "Epoch 41/100\n",
            "44550/44550 [==============================] - 1s 33us/step - loss: 0.7317 - accuracy: 0.7358\n",
            "Epoch 42/100\n",
            "44550/44550 [==============================] - 2s 35us/step - loss: 0.7308 - accuracy: 0.7365\n",
            "Epoch 43/100\n",
            "44550/44550 [==============================] - 1s 33us/step - loss: 0.7362 - accuracy: 0.7357\n",
            "Epoch 44/100\n",
            "44550/44550 [==============================] - 1s 33us/step - loss: 0.7399 - accuracy: 0.7363\n",
            "Epoch 45/100\n",
            "44550/44550 [==============================] - 1s 33us/step - loss: 0.7344 - accuracy: 0.7358\n",
            "Epoch 46/100\n",
            "44550/44550 [==============================] - 2s 34us/step - loss: 0.7469 - accuracy: 0.7374\n",
            "Epoch 47/100\n",
            "44550/44550 [==============================] - 1s 33us/step - loss: 0.7411 - accuracy: 0.7372\n",
            "Epoch 48/100\n",
            "44550/44550 [==============================] - 1s 32us/step - loss: 0.7453 - accuracy: 0.7376\n",
            "Epoch 49/100\n",
            "44550/44550 [==============================] - 1s 33us/step - loss: 0.7427 - accuracy: 0.7362\n",
            "Epoch 50/100\n",
            "44550/44550 [==============================] - 1s 33us/step - loss: 0.7542 - accuracy: 0.7382\n",
            "Epoch 51/100\n",
            "44550/44550 [==============================] - 1s 33us/step - loss: 0.7505 - accuracy: 0.7388\n",
            "Epoch 52/100\n",
            "44550/44550 [==============================] - 1s 32us/step - loss: 0.7522 - accuracy: 0.7390\n",
            "Epoch 53/100\n",
            "44550/44550 [==============================] - 1s 33us/step - loss: 0.7480 - accuracy: 0.7399\n",
            "Epoch 54/100\n",
            "44550/44550 [==============================] - 1s 33us/step - loss: 0.7542 - accuracy: 0.7393\n",
            "Epoch 55/100\n",
            "44550/44550 [==============================] - 1s 33us/step - loss: 0.7524 - accuracy: 0.7385\n",
            "Epoch 56/100\n",
            "44550/44550 [==============================] - 1s 34us/step - loss: 0.7472 - accuracy: 0.7405\n",
            "Epoch 57/100\n",
            "44550/44550 [==============================] - 1s 33us/step - loss: 0.7518 - accuracy: 0.7411\n",
            "Epoch 58/100\n",
            "44550/44550 [==============================] - 1s 33us/step - loss: 0.7477 - accuracy: 0.7390\n",
            "Epoch 59/100\n",
            "44550/44550 [==============================] - 2s 34us/step - loss: 0.7614 - accuracy: 0.7393\n",
            "Epoch 60/100\n",
            "44550/44550 [==============================] - 2s 34us/step - loss: 0.7652 - accuracy: 0.7407\n",
            "Epoch 61/100\n",
            "44550/44550 [==============================] - 1s 34us/step - loss: 0.7604 - accuracy: 0.7428\n",
            "Epoch 62/100\n",
            "44550/44550 [==============================] - 2s 35us/step - loss: 0.7671 - accuracy: 0.7433\n",
            "Epoch 63/100\n",
            "44550/44550 [==============================] - 1s 34us/step - loss: 0.7775 - accuracy: 0.7400\n",
            "Epoch 64/100\n",
            "44550/44550 [==============================] - 2s 34us/step - loss: 0.7680 - accuracy: 0.7402\n",
            "Epoch 65/100\n",
            "44550/44550 [==============================] - 2s 35us/step - loss: 0.7810 - accuracy: 0.7424\n",
            "Epoch 66/100\n",
            "44550/44550 [==============================] - 1s 33us/step - loss: 0.7853 - accuracy: 0.7406\n",
            "Epoch 67/100\n",
            "44550/44550 [==============================] - 1s 33us/step - loss: 0.7843 - accuracy: 0.7418\n",
            "Epoch 68/100\n",
            "44550/44550 [==============================] - 2s 34us/step - loss: 0.7968 - accuracy: 0.7442\n",
            "Epoch 69/100\n",
            "44550/44550 [==============================] - 1s 33us/step - loss: 0.7953 - accuracy: 0.7418\n",
            "Epoch 70/100\n",
            "44550/44550 [==============================] - 1s 33us/step - loss: 0.7958 - accuracy: 0.7420\n",
            "Epoch 71/100\n",
            "44550/44550 [==============================] - 1s 33us/step - loss: 0.8015 - accuracy: 0.7422\n",
            "Epoch 72/100\n",
            "44550/44550 [==============================] - 1s 33us/step - loss: 0.8038 - accuracy: 0.7409\n",
            "Epoch 73/100\n",
            "44550/44550 [==============================] - 1s 34us/step - loss: 0.8083 - accuracy: 0.7434\n",
            "Epoch 74/100\n",
            "44550/44550 [==============================] - 2s 35us/step - loss: 0.8007 - accuracy: 0.7419\n",
            "Epoch 75/100\n",
            "44550/44550 [==============================] - 1s 33us/step - loss: 0.8221 - accuracy: 0.7433\n",
            "Epoch 76/100\n",
            "44550/44550 [==============================] - 1s 33us/step - loss: 0.8304 - accuracy: 0.7430\n",
            "Epoch 77/100\n",
            "44550/44550 [==============================] - 2s 34us/step - loss: 0.8308 - accuracy: 0.7428\n",
            "Epoch 78/100\n",
            "44550/44550 [==============================] - 1s 33us/step - loss: 0.8354 - accuracy: 0.7414\n",
            "Epoch 79/100\n",
            "44550/44550 [==============================] - 2s 35us/step - loss: 0.8332 - accuracy: 0.7418\n",
            "Epoch 80/100\n",
            "44550/44550 [==============================] - 2s 36us/step - loss: 0.8366 - accuracy: 0.7427\n",
            "Epoch 81/100\n",
            "44550/44550 [==============================] - 2s 36us/step - loss: 0.8330 - accuracy: 0.7425\n",
            "Epoch 82/100\n",
            "44550/44550 [==============================] - 2s 37us/step - loss: 0.8403 - accuracy: 0.7426\n",
            "Epoch 83/100\n",
            "44550/44550 [==============================] - 2s 37us/step - loss: 0.8326 - accuracy: 0.7430\n",
            "Epoch 84/100\n",
            "44550/44550 [==============================] - 2s 36us/step - loss: 0.8581 - accuracy: 0.7420\n",
            "Epoch 85/100\n",
            "44550/44550 [==============================] - 2s 37us/step - loss: 0.8576 - accuracy: 0.7431\n",
            "Epoch 86/100\n",
            "44550/44550 [==============================] - 2s 34us/step - loss: 0.8458 - accuracy: 0.7448\n",
            "Epoch 87/100\n",
            "44550/44550 [==============================] - 1s 33us/step - loss: 0.8450 - accuracy: 0.7420\n",
            "Epoch 88/100\n",
            "44550/44550 [==============================] - 1s 33us/step - loss: 0.8598 - accuracy: 0.7421\n",
            "Epoch 89/100\n",
            "44550/44550 [==============================] - 1s 33us/step - loss: 0.8618 - accuracy: 0.7422\n",
            "Epoch 90/100\n",
            "44550/44550 [==============================] - 1s 33us/step - loss: 0.8651 - accuracy: 0.7416\n",
            "Epoch 91/100\n",
            "44550/44550 [==============================] - 1s 34us/step - loss: 0.8563 - accuracy: 0.7446\n",
            "Epoch 92/100\n",
            "44550/44550 [==============================] - 1s 33us/step - loss: 0.8581 - accuracy: 0.7445\n",
            "Epoch 93/100\n",
            "44550/44550 [==============================] - 2s 34us/step - loss: 0.8600 - accuracy: 0.7441\n",
            "Epoch 94/100\n",
            "44550/44550 [==============================] - 1s 33us/step - loss: 0.8503 - accuracy: 0.7439\n",
            "Epoch 95/100\n",
            "44550/44550 [==============================] - 1s 33us/step - loss: 0.8530 - accuracy: 0.7429\n",
            "Epoch 96/100\n",
            "44550/44550 [==============================] - 1s 33us/step - loss: 0.8627 - accuracy: 0.7442\n",
            "Epoch 97/100\n",
            "44550/44550 [==============================] - 2s 34us/step - loss: 0.8815 - accuracy: 0.7424\n",
            "Epoch 98/100\n",
            "44550/44550 [==============================] - 1s 34us/step - loss: 0.8737 - accuracy: 0.7435\n",
            "Epoch 99/100\n",
            "44550/44550 [==============================] - 1s 34us/step - loss: 0.8655 - accuracy: 0.7433\n",
            "Epoch 100/100\n",
            "44550/44550 [==============================] - 1s 33us/step - loss: 0.8614 - accuracy: 0.7441\n"
          ],
          "name": "stdout"
        },
        {
          "output_type": "execute_result",
          "data": {
            "text/plain": [
              "<keras.callbacks.callbacks.History at 0x7faa7b0341d0>"
            ]
          },
          "metadata": {
            "tags": []
          },
          "execution_count": 17
        }
      ]
    },
    {
      "cell_type": "markdown",
      "metadata": {
        "id": "T6J4znscDxb1",
        "colab_type": "text"
      },
      "source": [
        "En este primer intento se logra un accuracy del 0.74, un valor que se puede considerar aceptable.\n",
        "Evaluemos ahora la red entrenada con las muestras de test."
      ]
    },
    {
      "cell_type": "code",
      "metadata": {
        "id": "v8kj0I6_FUwi",
        "colab_type": "code",
        "outputId": "17dba4a9-18c5-475d-b388-e3b8dd63cc39",
        "colab": {
          "base_uri": "https://localhost:8080/",
          "height": 50
        }
      },
      "source": [
        "import pandas as pd\n",
        "# Se evalua la Red Neuronal ya entrenada, con las muestras de prueba.\n",
        "score = model.evaluate(X_test_, y_test_, verbose=0)\n",
        "print('Test loss:', score[0])\n",
        "print('Test accuracy:', score[1])\n",
        "\n",
        "df_NN_01 = pd.DataFrame({\"Model\"           : ['nn_keras_rmsprop_01'],\n",
        "                         \"Accuracy_score\"  : [score[1]]\n",
        "                        })"
      ],
      "execution_count": 0,
      "outputs": [
        {
          "output_type": "stream",
          "text": [
            "Test loss: 0.8567942201308529\n",
            "Test accuracy: 0.7342087626457214\n"
          ],
          "name": "stdout"
        }
      ]
    },
    {
      "cell_type": "markdown",
      "metadata": {
        "id": "OO4SBP2AOLFe",
        "colab_type": "text"
      },
      "source": [
        "La evaluación con la data de test, entrega un accuracy del 0.74.\n",
        "\n",
        "Ahora probemos la Red Neuronal variando los optimizadores que aparecen en la documentación de Keras. La idea es buscar cual optimizador genera un mejor resultado. Para ir diferenciando cada Red Neuronal, la llamaremos nn_keras_optimizador[_XX].\n",
        "\n"
      ]
    },
    {
      "cell_type": "code",
      "metadata": {
        "id": "Fmge0yvKNr1O",
        "colab_type": "code",
        "outputId": "b06368d2-9b59-4e53-b6c6-bd489a82ac54",
        "colab": {
          "base_uri": "https://localhost:8080/",
          "height": 50
        }
      },
      "source": [
        "# A continuación son declarado los diferentes optimizadores con hiperparámetros\n",
        "# que aparecen en la documentación de Keras.\n",
        "\n",
        "adadelta = Adadelta(learning_rate=1.0, rho=0.95)\n",
        "adagrad  = Adagrad(learning_rate=0.01)\n",
        "adam     = Adam(learning_rate=0.001, beta_1=0.9, beta_2=0.999, amsgrad=False)\n",
        "adamax   = Adamax(learning_rate=0.002, beta_1=0.9, beta_2=0.999)\n",
        "nadam    = Nadam(learning_rate=0.002, beta_1=0.9, beta_2=0.999)\n",
        "rmsprop  = RMSprop(learning_rate=0.001, rho=0.9)\n",
        "sgd_01   = SGD(learning_rate=0.01, momentum=0.0, nesterov=False)\n",
        "sgd_02   = SGD(lr=0.03, decay=1e-6, momentum=0.9, nesterov=True)\n",
        "\n",
        "# Se define la funcion mod_red_neuronal(), para el modelo para la Red Neuronal.\n",
        "def mod_red_neuronal(optimizador):\n",
        "  model = Sequential()\n",
        "# La primera capa tiene 64 'neuronas', función de activación relu y 16 variables\n",
        "# de entrada.\n",
        "  model.add(Dense(64, activation='relu', input_dim=16))\n",
        "# La segunda capa tiene 32 'neuronas' y función de activación relu.\n",
        "  model.add(Dense(32, activation='relu'))\n",
        "# La capa de salida, considera las 3 clases y función de activación softmax.\n",
        "  model.add(Dense(3, activation='softmax'))\n",
        "\n",
        "# Se instancia el modelo, usando optimizador que será un parámetro de entrada\n",
        "#, función de pérdida categorical_crossentropy y métrica accuracy.\n",
        "  model.compile(optimizer=optimizador,\n",
        "                loss='categorical_crossentropy',\n",
        "                metrics=['accuracy'])\n",
        "# Se mira el modelo y sus parámetros\n",
        "  return model\n",
        "\n",
        "# Son entrenados las Redes Neuronales, cada una con un optimizador diferente.\n",
        "# Esto toma tiempo, y es el motivo por el cual se trabajó usando Google Colab.\n",
        "print('Inicio de entrenamiento de Redes Neuronales, diferentes optimizadores.')\n",
        "modelo_adadelta = mod_red_neuronal(adadelta)\n",
        "modelo_adadelta.fit(X_train_, y_train_, epochs=100, batch_size=32,verbose=0)\n",
        "modelo_adagrad  = mod_red_neuronal(adagrad)\n",
        "modelo_adagrad.fit(X_train_, y_train_, epochs=100, batch_size=32,verbose=0)\n",
        "modelo_adam     = mod_red_neuronal(adam)\n",
        "modelo_adam.fit(X_train_, y_train_, epochs=100, batch_size=32,verbose=0)\n",
        "modelo_adamax     = mod_red_neuronal(adamax)\n",
        "modelo_adamax.fit(X_train_, y_train_, epochs=100, batch_size=32,verbose=0)\n",
        "modelo_nadam     = mod_red_neuronal(nadam)\n",
        "modelo_nadam.fit(X_train_, y_train_, epochs=100, batch_size=32,verbose=0)\n",
        "modelo_rmsprop   = mod_red_neuronal(rmsprop)\n",
        "modelo_rmsprop.fit(X_train_, y_train_, epochs=100, batch_size=32,verbose=0)\n",
        "modelo_sgd_01   = mod_red_neuronal(sgd_01)\n",
        "modelo_sgd_01.fit(X_train_, y_train_, epochs=100, batch_size=32,verbose=0)\n",
        "modelo_sgd_02   = mod_red_neuronal(sgd_02)\n",
        "modelo_sgd_02.fit(X_train_, y_train_, epochs=100, batch_size=32,verbose=0)\n",
        "print('Fin de entrenamiento de Redes Neuronales, diferentes optimizadores.')"
      ],
      "execution_count": 0,
      "outputs": [
        {
          "output_type": "stream",
          "text": [
            "Inicio de entrenamiento de Redes Neuronales, diferentes optimizadores.\n",
            "Fin de entrenamiento de Redes Neuronales, diferentes optimizadores.\n"
          ],
          "name": "stdout"
        }
      ]
    },
    {
      "cell_type": "code",
      "metadata": {
        "id": "e5PC4pE0avIa",
        "colab_type": "code",
        "outputId": "bb4a5b8a-1bcd-470f-d4d4-56f972397ae6",
        "colab": {
          "base_uri": "https://localhost:8080/",
          "height": 420
        }
      },
      "source": [
        "# Una vez entrenadas las Redes Neuronales, se evalúa cada una de ellas.\n",
        "# Los resultado se almacenan para su uso posterior.\n",
        "score = modelo_adadelta.evaluate(X_test_, y_test_, verbose=0)\n",
        "print('Adadelta')\n",
        "print('Test loss:', score[0])\n",
        "print('Test accuracy:', score[1])\n",
        "df_NN_02 = pd.DataFrame({\"Model\"           : ['nn_keras_adadelta'],\n",
        "                         \"Accuracy_score\"  : [score[1]]\n",
        "                        })\n",
        "\n",
        "score = modelo_adagrad.evaluate(X_test_, y_test_, verbose=0)\n",
        "print('Adagrad')\n",
        "print('Test loss:', score[0])\n",
        "print('Test accuracy:', score[1])\n",
        "df_NN_03 = pd.DataFrame({\"Model\"           : ['nn_keras_adagrad'],\n",
        "                         \"Accuracy_score\"  : [score[1]]\n",
        "                        })\n",
        "\n",
        "score = modelo_adam.evaluate(X_test_, y_test_, verbose=0)\n",
        "print('Adam')\n",
        "print('Test loss:', score[0])\n",
        "print('Test accuracy:', score[1])\n",
        "df_NN_04 = pd.DataFrame({\"Model\"           : ['nn_keras_adam'],\n",
        "                         \"Accuracy_score\"  : [score[1]]\n",
        "                        })\n",
        "\n",
        "score = modelo_adamax.evaluate(X_test_, y_test_, verbose=0)\n",
        "print('Adamax')\n",
        "print('Test loss:', score[0])\n",
        "print('Test accuracy:', score[1])\n",
        "df_NN_05 = pd.DataFrame({\"Model\"           : ['nn_keras_adamax'],\n",
        "                         \"Accuracy_score\"  : [score[1]]\n",
        "                        })\n",
        "\n",
        "score = modelo_nadam.evaluate(X_test_, y_test_, verbose=0)\n",
        "print('Nadam')\n",
        "print('Test loss:', score[0])\n",
        "print('Test accuracy:', score[1])\n",
        "df_NN_11 = pd.DataFrame({\"Model\"           : ['nn_keras_nadam'],\n",
        "                         \"Accuracy_score\"  : [score[1]]\n",
        "                        })\n",
        "\n",
        "score = modelo_rmsprop.evaluate(X_test_, y_test_, verbose=0)\n",
        "print('RMSprop')\n",
        "print('Test loss:', score[0])\n",
        "print('Test accuracy:', score[1])\n",
        "df_NN_06 = pd.DataFrame({\"Model\"           : ['nn_keras_rmsprop'],\n",
        "                         \"Accuracy_score\"  : [score[1]]\n",
        "                        })\n",
        "\n",
        "score = modelo_sgd_01.evaluate(X_test_, y_test_, verbose=0)\n",
        "print('SGD_01')\n",
        "print('Test loss:', score[0])\n",
        "print('Test accuracy:', score[1])\n",
        "df_NN_07 = pd.DataFrame({\"Model\"           : ['nn_keras_sgd_01'],\n",
        "                         \"Accuracy_score\"  : [score[1]]\n",
        "                        })\n",
        "\n",
        "score = modelo_sgd_02.evaluate(X_test_, y_test_, verbose=0)\n",
        "print('SGD_02')\n",
        "print('Test loss:', score[0])\n",
        "print('Test accuracy:', score[1])\n",
        "df_NN_08 = pd.DataFrame({\"Model\"           : ['nn_keras_sgd_02'],\n",
        "                         \"Accuracy_score\"  : [score[1]]\n",
        "                        })"
      ],
      "execution_count": 0,
      "outputs": [
        {
          "output_type": "stream",
          "text": [
            "Adadelta\n",
            "Test loss: 0.6408960512170085\n",
            "Test accuracy: 0.7400673627853394\n",
            "Adagrad\n",
            "Test loss: 0.6450373225099711\n",
            "Test accuracy: 0.7272727489471436\n",
            "Adam\n",
            "Test loss: 0.605077773164017\n",
            "Test accuracy: 0.755622923374176\n",
            "Adamax\n",
            "Test loss: 0.6118839818740934\n",
            "Test accuracy: 0.7487542033195496\n",
            "Nadam\n",
            "Test loss: 0.6178497506532605\n",
            "Test accuracy: 0.7569023370742798\n",
            "RMSprop\n",
            "Test loss: 0.774167248676923\n",
            "Test accuracy: 0.7329292893409729\n",
            "SGD_01\n",
            "Test loss: 0.6319273515662762\n",
            "Test accuracy: 0.7382491827011108\n",
            "SGD_02\n",
            "Test loss: 0.7183542198936145\n",
            "Test accuracy: 0.6928619742393494\n"
          ],
          "name": "stdout"
        }
      ]
    },
    {
      "cell_type": "markdown",
      "metadata": {
        "id": "xY-t85u2ROY1",
        "colab_type": "text"
      },
      "source": [
        "Se ve que el rango de accuracy logrado es cercano, con un accuracy más bajo del 0.69 usando el optimizador SGD_02 y un accuracy más alto del 0.74 usando el optimizador Adamax y también el Nadam.\n",
        "\n",
        "Veamos ahora que pasa al realizar algunas modificaciones sobre la Red Neuronal, aumentando el número de \"neuronas\" y agregando Dropout entre sus capas."
      ]
    },
    {
      "cell_type": "code",
      "metadata": {
        "id": "cQSsTWItUAFx",
        "colab_type": "code",
        "outputId": "24e11d5f-e88d-47a9-806b-2ce5ba715b01",
        "colab": {
          "base_uri": "https://localhost:8080/",
          "height": 67
        }
      },
      "source": [
        "# Se define una nueva versión del modelo para la Red Neuronal, en donde se \n",
        "# agregan Dropout, y junto con ello se aumentan las neuronas de las capas, \n",
        "# esto buscando mejorar el modelo.\n",
        "def mod_red_neuronal_v2(optimizador):\n",
        "  model = Sequential()\n",
        "# La primera capa tiene 128 'neuronas', función de activación relu y 16 variables\n",
        "# de entrada.\n",
        "  model.add(Dense(128, activation='relu', input_dim=16))\n",
        "# Se agrega Dropout de un 0.1\n",
        "  model.add(Dropout(0.1))\n",
        "# La segunda capa tiene 64 'neuronas' y función de activación relu.\n",
        "  model.add(Dense(64, activation='relu'))\n",
        "  # Se agrega Dropout de un 0.1\n",
        "  model.add(Dropout(0.1))\n",
        "# La capa de salida, considera las 3 clases y función de activación softmax.\n",
        "  model.add(Dense(3, activation='softmax'))\n",
        "\n",
        "# Se instancia el modelo, usando optimizador rmsprop, función de pérdida \n",
        "# categorical_crossentropy y métrica accuracy.\n",
        "  model.compile(optimizer=optimizador,\n",
        "                loss='categorical_crossentropy',\n",
        "                metrics=['accuracy'])\n",
        "# Se mira el modelo y sus parámetros\n",
        "  return model\n",
        "\n",
        "# Se instancia la Red Neronal.  \n",
        "modelo_adamax_02     = mod_red_neuronal_v2(adamax)\n",
        "# Se entrena la Red Neuronal.\n",
        "modelo_adamax_02.fit(X_train_, y_train_, epochs=100, batch_size=64,verbose=0)\n",
        "# Se evalúa la Red Neuronal.\n",
        "score = modelo_adamax_02.evaluate(X_test_, y_test_, verbose=0)\n",
        "print('Adamax')\n",
        "print('Test loss:', score[0])\n",
        "print('Test accuracy:', score[1])\n",
        "df_NN_09 = pd.DataFrame({\"Model\"           : ['nn_adamax_02'],\n",
        "                         \"Accuracy_score\"  : [score[1]]\n",
        "                        })"
      ],
      "execution_count": 0,
      "outputs": [
        {
          "output_type": "stream",
          "text": [
            "Adamax\n",
            "Test loss: 0.5882333355560045\n",
            "Test accuracy: 0.7577104568481445\n"
          ],
          "name": "stdout"
        }
      ]
    },
    {
      "cell_type": "markdown",
      "metadata": {
        "id": "tOI5PdZBYsD9",
        "colab_type": "text"
      },
      "source": [
        "Se mejora un poco el accuracy subiendo de 0.74 a 0.75."
      ]
    },
    {
      "cell_type": "markdown",
      "metadata": {
        "id": "G9sqcqqAGB1J",
        "colab_type": "text"
      },
      "source": [
        "## <a id='2.7'>2.7. Red Neuronal MLPClassifier de sklearn.</a>\n",
        "Ahora usaremos MLPClassifier de sklearn para implementar un modelo de Red Neuronal, para predecir el estado funcional de las Bombas de agua."
      ]
    },
    {
      "cell_type": "code",
      "metadata": {
        "id": "DaiG7evxHdH4",
        "colab_type": "code",
        "outputId": "50322876-8ae0-4416-ec1c-ca1fae50286a",
        "colab": {
          "base_uri": "https://localhost:8080/",
          "height": 67
        }
      },
      "source": [
        "# Son importadas las librerias requeridas.\n",
        "from sklearn.neural_network  import MLPClassifier\n",
        "from sklearn.metrics         import accuracy_score\n",
        "from sklearn.metrics         import confusion_matrix\n",
        "from  warnings               import simplefilter\n",
        "from sklearn.exceptions      import ConvergenceWarning\n",
        "\n",
        "# Son ocultadsos los mensajes de warning asociados a ConvergenceWarning.\n",
        "simplefilter(\"ignore\", category=ConvergenceWarning)\n",
        "\n",
        "# Es instanciada la Red Neuronal.\n",
        "# Este modelo tiene 3 capas, la primera con 128 nueronas, la segunda con 64 y \n",
        "# la tercera con 32 neuronas.\n",
        "# Se definen 1000 iteraciones como máximo a realizar para el entrenamiento.\n",
        "# Se usa como solver SGD Stochastic gradient descent optimizer.\n",
        "# La tasa de aprendizaje de inicio es 0.001\n",
        "# Se usa batch_size = 32.\n",
        "clf = MLPClassifier(hidden_layer_sizes=(128,64,32), max_iter=1000, alpha=0.0001,\n",
        "                    solver='sgd', verbose=False, random_state=21, tol=0.0001,\n",
        "                    learning_rate_init = 0.001, batch_size=32)\n",
        "print('Inicio de entrenamiento de la Red Neuronal usando MLPClassifier')\n",
        "# Se realiza el entrenamiento.\n",
        "clf.fit(X_train_, y_train_)\n",
        "print('Entrenamiento realizado.')\n",
        "# Se realiza la predicción.\n",
        "y_pred = clf.predict(X_test_)\n",
        "# Se indica el accuracy logrado.\n",
        "print('El accuracy logrado es:', round(accuracy_score(y_test_, y_pred),4) )\n",
        "df_NN_10 = pd.DataFrame({\"Model\"           : ['nn_MLPClassifier'],\n",
        "                         \"Accuracy_score\"  : [round(accuracy_score(y_test_, y_pred),4)]\n",
        "                         })\n"
      ],
      "execution_count": 0,
      "outputs": [
        {
          "output_type": "stream",
          "text": [
            "Inicio de entrenamiento de la Red Neuronal usando MLPClassifier\n",
            "Entrenamiento realizado.\n",
            "El accuracy logrado es: 0.7261\n"
          ],
          "name": "stdout"
        }
      ]
    },
    {
      "cell_type": "markdown",
      "metadata": {
        "id": "Sag3CO-ffqwb",
        "colab_type": "text"
      },
      "source": [
        "# <a id='3'>3. Rendimiento de los modelos</a>\n",
        "\n",
        "En este punto se realiza la revisión del rendimiento de los modelos predictivos del estado de las Bombas de agua implementados. \n",
        "Los modelos son presentados en orden, según su accuracy alcanzado."
      ]
    },
    {
      "cell_type": "code",
      "metadata": {
        "id": "evqj4wcufqwf",
        "colab_type": "code",
        "outputId": "84d204fd-a5a5-4660-eadd-bfbe542027bb",
        "colab": {
          "base_uri": "https://localhost:8080/",
          "height": 577
        }
      },
      "source": [
        "# Rendimiento de los  modelos\n",
        "\n",
        "# Se importan las librerias requeridas\n",
        "from sklearn.metrics import accuracy_score, recall_score, precision_score, roc_auc_score, f1_score\n",
        "from sklearn.metrics import cohen_kappa_score\n",
        "\n",
        "\n",
        "# Lleva el reporte de los modelos a un dataframe\n",
        "def model_report(model,training_x,testing_x,training_y,testing_y,name) :\n",
        "    model.fit(training_x,training_y)\n",
        "    predictions  = model.predict(testing_x)\n",
        "    accuracy     = accuracy_score(testing_y,predictions)\n",
        "#    recallscore  = recall_score(testing_y,predictions)\n",
        "#    precision    = precision_score(testing_y,predictions)\n",
        "#    roc_auc      = roc_auc_score(testing_y,predictions)\n",
        "#    f1score      = f1_score(testing_y,predictions) \n",
        "#    kappa_metric = cohen_kappa_score(testing_y,predictions)\n",
        "    \n",
        "    df = pd.DataFrame({\"Model\"           : [name],\n",
        "                       \"Accuracy_score\"  : [accuracy]\n",
        "#                       \"Recall_score\"    : [recallscore],\n",
        "#                       \"Precision\"       : [precision],\n",
        "#                       \"f1_score\"        : [f1score],\n",
        "#                       \"Area_under_curve\": [roc_auc],\n",
        "#                       \"Kappa_metric\"    : [kappa_metric],\n",
        "                      })\n",
        "    return df\n",
        "\n",
        "# Salidas para cada uno de los modelos\n",
        "model1 = model_report(logit,train_X,test_X,train_Y,test_Y,\n",
        "                      \"Logistic Regression\")\n",
        "model2 = model_report(logit_smote,os_smote_X,test_X,os_smote_Y,test_Y,\n",
        "                      \"Logistic Regression(SMOTE)\")\n",
        "model3 = model_report(xgc,os_smote_X,test_X,os_smote_Y,test_Y,\n",
        "                      \"XGBoost Classifier\")\n",
        "model4 = model_report(lgbm_c,os_smote_X,test_X,os_smote_Y,test_Y,\n",
        "                      \"LGBM Classifier\")\n",
        "model5 = model_report(bbc,os_smote_X,test_X,os_smote_Y,test_Y,\n",
        "                      \"Balanced Bagging Classifier\")\n",
        "\n",
        "\n",
        "\n",
        "# Junta todos los modelos\n",
        "model_performances = pd.concat([model1,model2,model3,\n",
        "                                model4,model5,\n",
        "                                df_NN_01,df_NN_02,df_NN_03,\n",
        "                                df_NN_04,df_NN_05,df_NN_06,\n",
        "                                df_NN_07,df_NN_08,df_NN_09,\n",
        "                                df_NN_10,df_NN_11],axis = 0).reset_index()\n",
        "\n",
        "model_performances      = model_performances.drop(columns = \"index\",axis =1)\n",
        "model_performances_sort = model_performances.sort_values(by='Accuracy_score',\n",
        "                                                         ascending=False)\n",
        "\n",
        "table  = ff.create_table(np.round(model_performances_sort,4))\n",
        "\n",
        "py.iplot(table)\n"
      ],
      "execution_count": 0,
      "outputs": [
        {
          "output_type": "display_data",
          "data": {
            "text/html": [
              "<html>\n",
              "<head><meta charset=\"utf-8\" /></head>\n",
              "<body>\n",
              "    <div>\n",
              "            <script src=\"https://cdnjs.cloudflare.com/ajax/libs/mathjax/2.7.5/MathJax.js?config=TeX-AMS-MML_SVG\"></script><script type=\"text/javascript\">if (window.MathJax) {MathJax.Hub.Config({SVG: {font: \"STIX-Web\"}});}</script>\n",
              "                <script type=\"text/javascript\">window.PlotlyConfig = {MathJaxConfig: 'local'};</script>\n",
              "        <script src=\"https://cdn.plot.ly/plotly-latest.min.js\"></script>    \n",
              "            <div id=\"7f1e41f6-68e3-4935-abc2-9246e3ec1604\" class=\"plotly-graph-div\" style=\"height:560px; width:100%;\"></div>\n",
              "            <script type=\"text/javascript\">\n",
              "                \n",
              "                    window.PLOTLYENV=window.PLOTLYENV || {};\n",
              "                    \n",
              "                if (document.getElementById(\"7f1e41f6-68e3-4935-abc2-9246e3ec1604\")) {\n",
              "                    Plotly.newPlot(\n",
              "                        '7f1e41f6-68e3-4935-abc2-9246e3ec1604',\n",
              "                        [{\"colorscale\": [[0, \"#00083e\"], [0.5, \"#ededee\"], [1, \"#ffffff\"]], \"hoverinfo\": \"none\", \"opacity\": 0.75, \"showscale\": false, \"type\": \"heatmap\", \"z\": [[0, 0], [0.5, 0.5], [1, 1], [0.5, 0.5], [1, 1], [0.5, 0.5], [1, 1], [0.5, 0.5], [1, 1], [0.5, 0.5], [1, 1], [0.5, 0.5], [1, 1], [0.5, 0.5], [1, 1], [0.5, 0.5], [1, 1]]}],\n",
              "                        {\"annotations\": [{\"align\": \"left\", \"font\": {\"color\": \"#ffffff\"}, \"showarrow\": false, \"text\": \"<b>Model</b>\", \"x\": -0.45, \"xanchor\": \"left\", \"xref\": \"x\", \"y\": 0, \"yref\": \"y\"}, {\"align\": \"left\", \"font\": {\"color\": \"#ffffff\"}, \"showarrow\": false, \"text\": \"<b>Accuracy_score</b>\", \"x\": 0.55, \"xanchor\": \"left\", \"xref\": \"x\", \"y\": 0, \"yref\": \"y\"}, {\"align\": \"left\", \"font\": {\"color\": \"#000000\"}, \"showarrow\": false, \"text\": \"Balanced Bagging Classifier\", \"x\": -0.45, \"xanchor\": \"left\", \"xref\": \"x\", \"y\": 1, \"yref\": \"y\"}, {\"align\": \"left\", \"font\": {\"color\": \"#000000\"}, \"showarrow\": false, \"text\": \"0.8362\", \"x\": 0.55, \"xanchor\": \"left\", \"xref\": \"x\", \"y\": 1, \"yref\": \"y\"}, {\"align\": \"left\", \"font\": {\"color\": \"#000000\"}, \"showarrow\": false, \"text\": \"XGBoost Classifier\", \"x\": -0.45, \"xanchor\": \"left\", \"xref\": \"x\", \"y\": 2, \"yref\": \"y\"}, {\"align\": \"left\", \"font\": {\"color\": \"#000000\"}, \"showarrow\": false, \"text\": \"0.8221\", \"x\": 0.55, \"xanchor\": \"left\", \"xref\": \"x\", \"y\": 2, \"yref\": \"y\"}, {\"align\": \"left\", \"font\": {\"color\": \"#000000\"}, \"showarrow\": false, \"text\": \"LGBM Classifier\", \"x\": -0.45, \"xanchor\": \"left\", \"xref\": \"x\", \"y\": 3, \"yref\": \"y\"}, {\"align\": \"left\", \"font\": {\"color\": \"#000000\"}, \"showarrow\": false, \"text\": \"0.8076\", \"x\": 0.55, \"xanchor\": \"left\", \"xref\": \"x\", \"y\": 3, \"yref\": \"y\"}, {\"align\": \"left\", \"font\": {\"color\": \"#000000\"}, \"showarrow\": false, \"text\": \"nn_adamax_02\", \"x\": -0.45, \"xanchor\": \"left\", \"xref\": \"x\", \"y\": 4, \"yref\": \"y\"}, {\"align\": \"left\", \"font\": {\"color\": \"#000000\"}, \"showarrow\": false, \"text\": \"0.7577\", \"x\": 0.55, \"xanchor\": \"left\", \"xref\": \"x\", \"y\": 4, \"yref\": \"y\"}, {\"align\": \"left\", \"font\": {\"color\": \"#000000\"}, \"showarrow\": false, \"text\": \"nn_keras_nadam\", \"x\": -0.45, \"xanchor\": \"left\", \"xref\": \"x\", \"y\": 5, \"yref\": \"y\"}, {\"align\": \"left\", \"font\": {\"color\": \"#000000\"}, \"showarrow\": false, \"text\": \"0.7569\", \"x\": 0.55, \"xanchor\": \"left\", \"xref\": \"x\", \"y\": 5, \"yref\": \"y\"}, {\"align\": \"left\", \"font\": {\"color\": \"#000000\"}, \"showarrow\": false, \"text\": \"nn_keras_adam\", \"x\": -0.45, \"xanchor\": \"left\", \"xref\": \"x\", \"y\": 6, \"yref\": \"y\"}, {\"align\": \"left\", \"font\": {\"color\": \"#000000\"}, \"showarrow\": false, \"text\": \"0.7556\", \"x\": 0.55, \"xanchor\": \"left\", \"xref\": \"x\", \"y\": 6, \"yref\": \"y\"}, {\"align\": \"left\", \"font\": {\"color\": \"#000000\"}, \"showarrow\": false, \"text\": \"nn_keras_adamax\", \"x\": -0.45, \"xanchor\": \"left\", \"xref\": \"x\", \"y\": 7, \"yref\": \"y\"}, {\"align\": \"left\", \"font\": {\"color\": \"#000000\"}, \"showarrow\": false, \"text\": \"0.7488\", \"x\": 0.55, \"xanchor\": \"left\", \"xref\": \"x\", \"y\": 7, \"yref\": \"y\"}, {\"align\": \"left\", \"font\": {\"color\": \"#000000\"}, \"showarrow\": false, \"text\": \"nn_keras_adadelta\", \"x\": -0.45, \"xanchor\": \"left\", \"xref\": \"x\", \"y\": 8, \"yref\": \"y\"}, {\"align\": \"left\", \"font\": {\"color\": \"#000000\"}, \"showarrow\": false, \"text\": \"0.7401\", \"x\": 0.55, \"xanchor\": \"left\", \"xref\": \"x\", \"y\": 8, \"yref\": \"y\"}, {\"align\": \"left\", \"font\": {\"color\": \"#000000\"}, \"showarrow\": false, \"text\": \"nn_keras_sgd_01\", \"x\": -0.45, \"xanchor\": \"left\", \"xref\": \"x\", \"y\": 9, \"yref\": \"y\"}, {\"align\": \"left\", \"font\": {\"color\": \"#000000\"}, \"showarrow\": false, \"text\": \"0.7382\", \"x\": 0.55, \"xanchor\": \"left\", \"xref\": \"x\", \"y\": 9, \"yref\": \"y\"}, {\"align\": \"left\", \"font\": {\"color\": \"#000000\"}, \"showarrow\": false, \"text\": \"nn_keras_rmsprop_01\", \"x\": -0.45, \"xanchor\": \"left\", \"xref\": \"x\", \"y\": 10, \"yref\": \"y\"}, {\"align\": \"left\", \"font\": {\"color\": \"#000000\"}, \"showarrow\": false, \"text\": \"0.7342\", \"x\": 0.55, \"xanchor\": \"left\", \"xref\": \"x\", \"y\": 10, \"yref\": \"y\"}, {\"align\": \"left\", \"font\": {\"color\": \"#000000\"}, \"showarrow\": false, \"text\": \"nn_keras_rmsprop\", \"x\": -0.45, \"xanchor\": \"left\", \"xref\": \"x\", \"y\": 11, \"yref\": \"y\"}, {\"align\": \"left\", \"font\": {\"color\": \"#000000\"}, \"showarrow\": false, \"text\": \"0.7329\", \"x\": 0.55, \"xanchor\": \"left\", \"xref\": \"x\", \"y\": 11, \"yref\": \"y\"}, {\"align\": \"left\", \"font\": {\"color\": \"#000000\"}, \"showarrow\": false, \"text\": \"nn_keras_adagrad\", \"x\": -0.45, \"xanchor\": \"left\", \"xref\": \"x\", \"y\": 12, \"yref\": \"y\"}, {\"align\": \"left\", \"font\": {\"color\": \"#000000\"}, \"showarrow\": false, \"text\": \"0.7273\", \"x\": 0.55, \"xanchor\": \"left\", \"xref\": \"x\", \"y\": 12, \"yref\": \"y\"}, {\"align\": \"left\", \"font\": {\"color\": \"#000000\"}, \"showarrow\": false, \"text\": \"nn_MLPClassifier\", \"x\": -0.45, \"xanchor\": \"left\", \"xref\": \"x\", \"y\": 13, \"yref\": \"y\"}, {\"align\": \"left\", \"font\": {\"color\": \"#000000\"}, \"showarrow\": false, \"text\": \"0.7261\", \"x\": 0.55, \"xanchor\": \"left\", \"xref\": \"x\", \"y\": 13, \"yref\": \"y\"}, {\"align\": \"left\", \"font\": {\"color\": \"#000000\"}, \"showarrow\": false, \"text\": \"nn_keras_sgd_02\", \"x\": -0.45, \"xanchor\": \"left\", \"xref\": \"x\", \"y\": 14, \"yref\": \"y\"}, {\"align\": \"left\", \"font\": {\"color\": \"#000000\"}, \"showarrow\": false, \"text\": \"0.6929\", \"x\": 0.55, \"xanchor\": \"left\", \"xref\": \"x\", \"y\": 14, \"yref\": \"y\"}, {\"align\": \"left\", \"font\": {\"color\": \"#000000\"}, \"showarrow\": false, \"text\": \"Logistic Regression\", \"x\": -0.45, \"xanchor\": \"left\", \"xref\": \"x\", \"y\": 15, \"yref\": \"y\"}, {\"align\": \"left\", \"font\": {\"color\": \"#000000\"}, \"showarrow\": false, \"text\": \"0.5974\", \"x\": 0.55, \"xanchor\": \"left\", \"xref\": \"x\", \"y\": 15, \"yref\": \"y\"}, {\"align\": \"left\", \"font\": {\"color\": \"#000000\"}, \"showarrow\": false, \"text\": \"Logistic Regression(SMOTE)\", \"x\": -0.45, \"xanchor\": \"left\", \"xref\": \"x\", \"y\": 16, \"yref\": \"y\"}, {\"align\": \"left\", \"font\": {\"color\": \"#000000\"}, \"showarrow\": false, \"text\": \"0.4634\", \"x\": 0.55, \"xanchor\": \"left\", \"xref\": \"x\", \"y\": 16, \"yref\": \"y\"}], \"height\": 560, \"margin\": {\"b\": 0, \"l\": 0, \"r\": 0, \"t\": 0}, \"template\": {\"data\": {\"bar\": [{\"error_x\": {\"color\": \"#2a3f5f\"}, \"error_y\": {\"color\": \"#2a3f5f\"}, \"marker\": {\"line\": {\"color\": \"#E5ECF6\", \"width\": 0.5}}, \"type\": \"bar\"}], \"barpolar\": [{\"marker\": {\"line\": {\"color\": \"#E5ECF6\", \"width\": 0.5}}, \"type\": \"barpolar\"}], \"carpet\": [{\"aaxis\": {\"endlinecolor\": \"#2a3f5f\", \"gridcolor\": \"white\", \"linecolor\": \"white\", \"minorgridcolor\": \"white\", \"startlinecolor\": \"#2a3f5f\"}, \"baxis\": {\"endlinecolor\": \"#2a3f5f\", \"gridcolor\": \"white\", \"linecolor\": \"white\", \"minorgridcolor\": \"white\", \"startlinecolor\": \"#2a3f5f\"}, \"type\": \"carpet\"}], \"choropleth\": [{\"colorbar\": {\"outlinewidth\": 0, \"ticks\": \"\"}, \"type\": \"choropleth\"}], \"contour\": [{\"colorbar\": {\"outlinewidth\": 0, \"ticks\": \"\"}, \"colorscale\": [[0.0, \"#0d0887\"], [0.1111111111111111, \"#46039f\"], [0.2222222222222222, \"#7201a8\"], [0.3333333333333333, \"#9c179e\"], [0.4444444444444444, \"#bd3786\"], [0.5555555555555556, \"#d8576b\"], [0.6666666666666666, \"#ed7953\"], [0.7777777777777778, \"#fb9f3a\"], [0.8888888888888888, \"#fdca26\"], [1.0, \"#f0f921\"]], \"type\": \"contour\"}], \"contourcarpet\": [{\"colorbar\": {\"outlinewidth\": 0, \"ticks\": \"\"}, \"type\": \"contourcarpet\"}], \"heatmap\": [{\"colorbar\": {\"outlinewidth\": 0, \"ticks\": \"\"}, \"colorscale\": [[0.0, \"#0d0887\"], [0.1111111111111111, \"#46039f\"], [0.2222222222222222, \"#7201a8\"], [0.3333333333333333, \"#9c179e\"], [0.4444444444444444, \"#bd3786\"], [0.5555555555555556, \"#d8576b\"], [0.6666666666666666, \"#ed7953\"], [0.7777777777777778, \"#fb9f3a\"], [0.8888888888888888, \"#fdca26\"], [1.0, \"#f0f921\"]], \"type\": \"heatmap\"}], \"heatmapgl\": [{\"colorbar\": {\"outlinewidth\": 0, \"ticks\": \"\"}, \"colorscale\": [[0.0, \"#0d0887\"], [0.1111111111111111, \"#46039f\"], [0.2222222222222222, \"#7201a8\"], [0.3333333333333333, \"#9c179e\"], [0.4444444444444444, \"#bd3786\"], [0.5555555555555556, \"#d8576b\"], [0.6666666666666666, \"#ed7953\"], [0.7777777777777778, \"#fb9f3a\"], [0.8888888888888888, \"#fdca26\"], [1.0, \"#f0f921\"]], \"type\": \"heatmapgl\"}], \"histogram\": [{\"marker\": {\"colorbar\": {\"outlinewidth\": 0, \"ticks\": \"\"}}, \"type\": \"histogram\"}], \"histogram2d\": [{\"colorbar\": {\"outlinewidth\": 0, \"ticks\": \"\"}, \"colorscale\": [[0.0, \"#0d0887\"], [0.1111111111111111, \"#46039f\"], [0.2222222222222222, \"#7201a8\"], [0.3333333333333333, \"#9c179e\"], [0.4444444444444444, \"#bd3786\"], [0.5555555555555556, \"#d8576b\"], [0.6666666666666666, \"#ed7953\"], [0.7777777777777778, \"#fb9f3a\"], [0.8888888888888888, \"#fdca26\"], [1.0, \"#f0f921\"]], \"type\": \"histogram2d\"}], \"histogram2dcontour\": [{\"colorbar\": {\"outlinewidth\": 0, \"ticks\": \"\"}, \"colorscale\": [[0.0, \"#0d0887\"], [0.1111111111111111, \"#46039f\"], [0.2222222222222222, \"#7201a8\"], [0.3333333333333333, \"#9c179e\"], [0.4444444444444444, \"#bd3786\"], [0.5555555555555556, \"#d8576b\"], [0.6666666666666666, \"#ed7953\"], [0.7777777777777778, \"#fb9f3a\"], [0.8888888888888888, \"#fdca26\"], [1.0, \"#f0f921\"]], \"type\": \"histogram2dcontour\"}], \"mesh3d\": [{\"colorbar\": {\"outlinewidth\": 0, \"ticks\": \"\"}, \"type\": \"mesh3d\"}], \"parcoords\": [{\"line\": {\"colorbar\": {\"outlinewidth\": 0, \"ticks\": \"\"}}, \"type\": \"parcoords\"}], \"pie\": [{\"automargin\": true, \"type\": \"pie\"}], \"scatter\": [{\"marker\": {\"colorbar\": {\"outlinewidth\": 0, \"ticks\": \"\"}}, \"type\": \"scatter\"}], \"scatter3d\": [{\"line\": {\"colorbar\": {\"outlinewidth\": 0, \"ticks\": \"\"}}, \"marker\": {\"colorbar\": {\"outlinewidth\": 0, \"ticks\": \"\"}}, \"type\": \"scatter3d\"}], \"scattercarpet\": [{\"marker\": {\"colorbar\": {\"outlinewidth\": 0, \"ticks\": \"\"}}, \"type\": \"scattercarpet\"}], \"scattergeo\": [{\"marker\": {\"colorbar\": {\"outlinewidth\": 0, \"ticks\": \"\"}}, \"type\": \"scattergeo\"}], \"scattergl\": [{\"marker\": {\"colorbar\": {\"outlinewidth\": 0, \"ticks\": \"\"}}, \"type\": \"scattergl\"}], \"scattermapbox\": [{\"marker\": {\"colorbar\": {\"outlinewidth\": 0, \"ticks\": \"\"}}, \"type\": \"scattermapbox\"}], \"scatterpolar\": [{\"marker\": {\"colorbar\": {\"outlinewidth\": 0, \"ticks\": \"\"}}, \"type\": \"scatterpolar\"}], \"scatterpolargl\": [{\"marker\": {\"colorbar\": {\"outlinewidth\": 0, \"ticks\": \"\"}}, \"type\": \"scatterpolargl\"}], \"scatterternary\": [{\"marker\": {\"colorbar\": {\"outlinewidth\": 0, \"ticks\": \"\"}}, \"type\": \"scatterternary\"}], \"surface\": [{\"colorbar\": {\"outlinewidth\": 0, \"ticks\": \"\"}, \"colorscale\": [[0.0, \"#0d0887\"], [0.1111111111111111, \"#46039f\"], [0.2222222222222222, \"#7201a8\"], [0.3333333333333333, \"#9c179e\"], [0.4444444444444444, \"#bd3786\"], [0.5555555555555556, \"#d8576b\"], [0.6666666666666666, \"#ed7953\"], [0.7777777777777778, \"#fb9f3a\"], [0.8888888888888888, \"#fdca26\"], [1.0, \"#f0f921\"]], \"type\": \"surface\"}], \"table\": [{\"cells\": {\"fill\": {\"color\": \"#EBF0F8\"}, \"line\": {\"color\": \"white\"}}, \"header\": {\"fill\": {\"color\": \"#C8D4E3\"}, \"line\": {\"color\": \"white\"}}, \"type\": \"table\"}]}, \"layout\": {\"annotationdefaults\": {\"arrowcolor\": \"#2a3f5f\", \"arrowhead\": 0, \"arrowwidth\": 1}, \"coloraxis\": {\"colorbar\": {\"outlinewidth\": 0, \"ticks\": \"\"}}, \"colorscale\": {\"diverging\": [[0, \"#8e0152\"], [0.1, \"#c51b7d\"], [0.2, \"#de77ae\"], [0.3, \"#f1b6da\"], [0.4, \"#fde0ef\"], [0.5, \"#f7f7f7\"], [0.6, \"#e6f5d0\"], [0.7, \"#b8e186\"], [0.8, \"#7fbc41\"], [0.9, \"#4d9221\"], [1, \"#276419\"]], \"sequential\": [[0.0, \"#0d0887\"], [0.1111111111111111, \"#46039f\"], [0.2222222222222222, \"#7201a8\"], [0.3333333333333333, \"#9c179e\"], [0.4444444444444444, \"#bd3786\"], [0.5555555555555556, \"#d8576b\"], [0.6666666666666666, \"#ed7953\"], [0.7777777777777778, \"#fb9f3a\"], [0.8888888888888888, \"#fdca26\"], [1.0, \"#f0f921\"]], \"sequentialminus\": [[0.0, \"#0d0887\"], [0.1111111111111111, \"#46039f\"], [0.2222222222222222, \"#7201a8\"], [0.3333333333333333, \"#9c179e\"], [0.4444444444444444, \"#bd3786\"], [0.5555555555555556, \"#d8576b\"], [0.6666666666666666, \"#ed7953\"], [0.7777777777777778, \"#fb9f3a\"], [0.8888888888888888, \"#fdca26\"], [1.0, \"#f0f921\"]]}, \"colorway\": [\"#636efa\", \"#EF553B\", \"#00cc96\", \"#ab63fa\", \"#FFA15A\", \"#19d3f3\", \"#FF6692\", \"#B6E880\", \"#FF97FF\", \"#FECB52\"], \"font\": {\"color\": \"#2a3f5f\"}, \"geo\": {\"bgcolor\": \"white\", \"lakecolor\": \"white\", \"landcolor\": \"#E5ECF6\", \"showlakes\": true, \"showland\": true, \"subunitcolor\": \"white\"}, \"hoverlabel\": {\"align\": \"left\"}, \"hovermode\": \"closest\", \"mapbox\": {\"style\": \"light\"}, \"paper_bgcolor\": \"white\", \"plot_bgcolor\": \"#E5ECF6\", \"polar\": {\"angularaxis\": {\"gridcolor\": \"white\", \"linecolor\": \"white\", \"ticks\": \"\"}, \"bgcolor\": \"#E5ECF6\", \"radialaxis\": {\"gridcolor\": \"white\", \"linecolor\": \"white\", \"ticks\": \"\"}}, \"scene\": {\"xaxis\": {\"backgroundcolor\": \"#E5ECF6\", \"gridcolor\": \"white\", \"gridwidth\": 2, \"linecolor\": \"white\", \"showbackground\": true, \"ticks\": \"\", \"zerolinecolor\": \"white\"}, \"yaxis\": {\"backgroundcolor\": \"#E5ECF6\", \"gridcolor\": \"white\", \"gridwidth\": 2, \"linecolor\": \"white\", \"showbackground\": true, \"ticks\": \"\", \"zerolinecolor\": \"white\"}, \"zaxis\": {\"backgroundcolor\": \"#E5ECF6\", \"gridcolor\": \"white\", \"gridwidth\": 2, \"linecolor\": \"white\", \"showbackground\": true, \"ticks\": \"\", \"zerolinecolor\": \"white\"}}, \"shapedefaults\": {\"line\": {\"color\": \"#2a3f5f\"}}, \"ternary\": {\"aaxis\": {\"gridcolor\": \"white\", \"linecolor\": \"white\", \"ticks\": \"\"}, \"baxis\": {\"gridcolor\": \"white\", \"linecolor\": \"white\", \"ticks\": \"\"}, \"bgcolor\": \"#E5ECF6\", \"caxis\": {\"gridcolor\": \"white\", \"linecolor\": \"white\", \"ticks\": \"\"}}, \"title\": {\"x\": 0.05}, \"xaxis\": {\"automargin\": true, \"gridcolor\": \"white\", \"linecolor\": \"white\", \"ticks\": \"\", \"title\": {\"standoff\": 15}, \"zerolinecolor\": \"white\", \"zerolinewidth\": 2}, \"yaxis\": {\"automargin\": true, \"gridcolor\": \"white\", \"linecolor\": \"white\", \"ticks\": \"\", \"title\": {\"standoff\": 15}, \"zerolinecolor\": \"white\", \"zerolinewidth\": 2}}}, \"xaxis\": {\"dtick\": 1, \"gridwidth\": 2, \"showticklabels\": false, \"tick0\": -0.5, \"ticks\": \"\", \"zeroline\": false}, \"yaxis\": {\"autorange\": \"reversed\", \"dtick\": 1, \"gridwidth\": 2, \"showticklabels\": false, \"tick0\": 0.5, \"ticks\": \"\", \"zeroline\": false}},\n",
              "                        {\"responsive\": true}\n",
              "                    ).then(function(){\n",
              "                            \n",
              "var gd = document.getElementById('7f1e41f6-68e3-4935-abc2-9246e3ec1604');\n",
              "var x = new MutationObserver(function (mutations, observer) {{\n",
              "        var display = window.getComputedStyle(gd).display;\n",
              "        if (!display || display === 'none') {{\n",
              "            console.log([gd, 'removed!']);\n",
              "            Plotly.purge(gd);\n",
              "            observer.disconnect();\n",
              "        }}\n",
              "}});\n",
              "\n",
              "// Listen for the removal of the full notebook cells\n",
              "var notebookContainer = gd.closest('#notebook-container');\n",
              "if (notebookContainer) {{\n",
              "    x.observe(notebookContainer, {childList: true});\n",
              "}}\n",
              "\n",
              "// Listen for the clearing of the current output cell\n",
              "var outputEl = gd.closest('.output');\n",
              "if (outputEl) {{\n",
              "    x.observe(outputEl, {childList: true});\n",
              "}}\n",
              "\n",
              "                        })\n",
              "                };\n",
              "                \n",
              "            </script>\n",
              "        </div>\n",
              "</body>\n",
              "</html>"
            ]
          },
          "metadata": {
            "tags": []
          }
        }
      ]
    },
    {
      "cell_type": "code",
      "metadata": {
        "id": "fif3Pd8Pfqwx",
        "colab_type": "code",
        "outputId": "cbe9d69f-683a-42ac-9c9b-07323c2665b7",
        "colab": {
          "base_uri": "https://localhost:8080/",
          "height": 521
        }
      },
      "source": [
        "# Se mira directamente Dataframe que contiene el rendimiento de los modelos entrenados.\n",
        "model_performances_sort.reset_index(drop=True,inplace=True)\n",
        "model_performances_sort"
      ],
      "execution_count": 0,
      "outputs": [
        {
          "output_type": "execute_result",
          "data": {
            "text/html": [
              "<div>\n",
              "<style scoped>\n",
              "    .dataframe tbody tr th:only-of-type {\n",
              "        vertical-align: middle;\n",
              "    }\n",
              "\n",
              "    .dataframe tbody tr th {\n",
              "        vertical-align: top;\n",
              "    }\n",
              "\n",
              "    .dataframe thead th {\n",
              "        text-align: right;\n",
              "    }\n",
              "</style>\n",
              "<table border=\"1\" class=\"dataframe\">\n",
              "  <thead>\n",
              "    <tr style=\"text-align: right;\">\n",
              "      <th></th>\n",
              "      <th>Model</th>\n",
              "      <th>Accuracy_score</th>\n",
              "    </tr>\n",
              "  </thead>\n",
              "  <tbody>\n",
              "    <tr>\n",
              "      <th>0</th>\n",
              "      <td>Balanced Bagging Classifier</td>\n",
              "      <td>0.836162</td>\n",
              "    </tr>\n",
              "    <tr>\n",
              "      <th>1</th>\n",
              "      <td>XGBoost Classifier</td>\n",
              "      <td>0.822088</td>\n",
              "    </tr>\n",
              "    <tr>\n",
              "      <th>2</th>\n",
              "      <td>LGBM Classifier</td>\n",
              "      <td>0.807609</td>\n",
              "    </tr>\n",
              "    <tr>\n",
              "      <th>3</th>\n",
              "      <td>nn_adamax_02</td>\n",
              "      <td>0.757710</td>\n",
              "    </tr>\n",
              "    <tr>\n",
              "      <th>4</th>\n",
              "      <td>nn_keras_nadam</td>\n",
              "      <td>0.756902</td>\n",
              "    </tr>\n",
              "    <tr>\n",
              "      <th>5</th>\n",
              "      <td>nn_keras_adam</td>\n",
              "      <td>0.755623</td>\n",
              "    </tr>\n",
              "    <tr>\n",
              "      <th>6</th>\n",
              "      <td>nn_keras_adamax</td>\n",
              "      <td>0.748754</td>\n",
              "    </tr>\n",
              "    <tr>\n",
              "      <th>7</th>\n",
              "      <td>nn_keras_adadelta</td>\n",
              "      <td>0.740067</td>\n",
              "    </tr>\n",
              "    <tr>\n",
              "      <th>8</th>\n",
              "      <td>nn_keras_sgd_01</td>\n",
              "      <td>0.738249</td>\n",
              "    </tr>\n",
              "    <tr>\n",
              "      <th>9</th>\n",
              "      <td>nn_keras_rmsprop_01</td>\n",
              "      <td>0.734209</td>\n",
              "    </tr>\n",
              "    <tr>\n",
              "      <th>10</th>\n",
              "      <td>nn_keras_rmsprop</td>\n",
              "      <td>0.732929</td>\n",
              "    </tr>\n",
              "    <tr>\n",
              "      <th>11</th>\n",
              "      <td>nn_keras_adagrad</td>\n",
              "      <td>0.727273</td>\n",
              "    </tr>\n",
              "    <tr>\n",
              "      <th>12</th>\n",
              "      <td>nn_MLPClassifier</td>\n",
              "      <td>0.726100</td>\n",
              "    </tr>\n",
              "    <tr>\n",
              "      <th>13</th>\n",
              "      <td>nn_keras_sgd_02</td>\n",
              "      <td>0.692862</td>\n",
              "    </tr>\n",
              "    <tr>\n",
              "      <th>14</th>\n",
              "      <td>Logistic Regression</td>\n",
              "      <td>0.597441</td>\n",
              "    </tr>\n",
              "    <tr>\n",
              "      <th>15</th>\n",
              "      <td>Logistic Regression(SMOTE)</td>\n",
              "      <td>0.463434</td>\n",
              "    </tr>\n",
              "  </tbody>\n",
              "</table>\n",
              "</div>"
            ],
            "text/plain": [
              "                          Model  Accuracy_score\n",
              "0   Balanced Bagging Classifier        0.836162\n",
              "1            XGBoost Classifier        0.822088\n",
              "2               LGBM Classifier        0.807609\n",
              "3                  nn_adamax_02        0.757710\n",
              "4                nn_keras_nadam        0.756902\n",
              "5                 nn_keras_adam        0.755623\n",
              "6               nn_keras_adamax        0.748754\n",
              "7             nn_keras_adadelta        0.740067\n",
              "8               nn_keras_sgd_01        0.738249\n",
              "9           nn_keras_rmsprop_01        0.734209\n",
              "10             nn_keras_rmsprop        0.732929\n",
              "11             nn_keras_adagrad        0.727273\n",
              "12             nn_MLPClassifier        0.726100\n",
              "13              nn_keras_sgd_02        0.692862\n",
              "14          Logistic Regression        0.597441\n",
              "15   Logistic Regression(SMOTE)        0.463434"
            ]
          },
          "metadata": {
            "tags": []
          },
          "execution_count": 24
        }
      ]
    },
    {
      "cell_type": "markdown",
      "metadata": {
        "id": "DWYsWMJgfqxF",
        "colab_type": "text"
      },
      "source": [
        "## <a id='3.1'>3.1. Comparación de Métricas</a>\n",
        "\n",
        "Se efectúa la comparación de las métricas alcanzadas."
      ]
    },
    {
      "cell_type": "code",
      "metadata": {
        "id": "8Y0yRodnfqxK",
        "colab_type": "code",
        "outputId": "4d77ce64-f035-4639-c5e8-cc47a84cfc23",
        "colab": {
          "base_uri": "https://localhost:8080/",
          "height": 567
        }
      },
      "source": [
        "def output_tracer(metric,color) :\n",
        "    tracer = go.Bar(y = model_performances_sort[\"Model\"],\n",
        "                    x = model_performances_sort[metric],\n",
        "                    orientation = \"h\",name = metric ,\n",
        "                    marker = dict(line = dict(width =.7),\n",
        "                                  color = color)\n",
        "                   )\n",
        "    return tracer\n",
        "\n",
        "layout = go.Layout(dict(title = \"Model performances\",\n",
        "                        plot_bgcolor  = \"rgb(243,243,243)\",\n",
        "                        paper_bgcolor = \"rgb(243,243,243)\",\n",
        "                        xaxis = dict(gridcolor = 'rgb(255, 255, 255)',\n",
        "                                     title = \"Accuracy_score\",\n",
        "                                     zerolinewidth=1,\n",
        "                                     ticklen=5,gridwidth=2),\n",
        "                        yaxis = dict(gridcolor = 'rgb(255, 255, 255)',\n",
        "                                     zerolinewidth=1,ticklen=5,gridwidth=2),\n",
        "                        margin = dict(l = 250),\n",
        "                        height = 550\n",
        "                       )\n",
        "                  )\n",
        "\n",
        "\n",
        "trace1  = output_tracer(\"Accuracy_score\",\"#6699FF\")\n",
        "#trace2  = output_tracer('Recall_score',\"red\")\n",
        "#trace3  = output_tracer('Precision',\"#33CC99\")\n",
        "#trace4  = output_tracer('f1_score',\"lightgrey\")\n",
        "#trace5  = output_tracer('Kappa_metric',\"#FFCC99\")\n",
        "\n",
        "#data = [trace1,trace2,trace3,trace4,trace5]\n",
        "data = [trace1]\n",
        "fig = go.Figure(data=data,layout=layout)\n",
        "py.iplot(fig)\n"
      ],
      "execution_count": 0,
      "outputs": [
        {
          "output_type": "display_data",
          "data": {
            "text/html": [
              "<html>\n",
              "<head><meta charset=\"utf-8\" /></head>\n",
              "<body>\n",
              "    <div>\n",
              "            <script src=\"https://cdnjs.cloudflare.com/ajax/libs/mathjax/2.7.5/MathJax.js?config=TeX-AMS-MML_SVG\"></script><script type=\"text/javascript\">if (window.MathJax) {MathJax.Hub.Config({SVG: {font: \"STIX-Web\"}});}</script>\n",
              "                <script type=\"text/javascript\">window.PlotlyConfig = {MathJaxConfig: 'local'};</script>\n",
              "        <script src=\"https://cdn.plot.ly/plotly-latest.min.js\"></script>    \n",
              "            <div id=\"ff6b91fd-ab8d-438b-a15d-e2694405284f\" class=\"plotly-graph-div\" style=\"height:550px; width:100%;\"></div>\n",
              "            <script type=\"text/javascript\">\n",
              "                \n",
              "                    window.PLOTLYENV=window.PLOTLYENV || {};\n",
              "                    \n",
              "                if (document.getElementById(\"ff6b91fd-ab8d-438b-a15d-e2694405284f\")) {\n",
              "                    Plotly.newPlot(\n",
              "                        'ff6b91fd-ab8d-438b-a15d-e2694405284f',\n",
              "                        [{\"marker\": {\"color\": \"#6699FF\", \"line\": {\"width\": 0.7}}, \"name\": \"Accuracy_score\", \"orientation\": \"h\", \"type\": \"bar\", \"x\": [0.8361616161616162, 0.8220875420875421, 0.8076094276094276, 0.7577104568481445, 0.7569023370742798, 0.755622923374176, 0.7487542033195496, 0.7400673627853394, 0.7382491827011108, 0.7342087626457214, 0.7329292893409729, 0.7272727489471436, 0.7261, 0.6928619742393494, 0.5974410774410774, 0.4634343434343434], \"y\": [\"Balanced Bagging Classifier\", \"XGBoost Classifier\", \"LGBM Classifier\", \"nn_adamax_02\", \"nn_keras_nadam\", \"nn_keras_adam\", \"nn_keras_adamax\", \"nn_keras_adadelta\", \"nn_keras_sgd_01\", \"nn_keras_rmsprop_01\", \"nn_keras_rmsprop\", \"nn_keras_adagrad\", \"nn_MLPClassifier\", \"nn_keras_sgd_02\", \"Logistic Regression\", \"Logistic Regression(SMOTE)\"]}],\n",
              "                        {\"height\": 550, \"margin\": {\"l\": 250}, \"paper_bgcolor\": \"rgb(243,243,243)\", \"plot_bgcolor\": \"rgb(243,243,243)\", \"template\": {\"data\": {\"bar\": [{\"error_x\": {\"color\": \"#2a3f5f\"}, \"error_y\": {\"color\": \"#2a3f5f\"}, \"marker\": {\"line\": {\"color\": \"#E5ECF6\", \"width\": 0.5}}, \"type\": \"bar\"}], \"barpolar\": [{\"marker\": {\"line\": {\"color\": \"#E5ECF6\", \"width\": 0.5}}, \"type\": \"barpolar\"}], \"carpet\": [{\"aaxis\": {\"endlinecolor\": \"#2a3f5f\", \"gridcolor\": \"white\", \"linecolor\": \"white\", \"minorgridcolor\": \"white\", \"startlinecolor\": \"#2a3f5f\"}, \"baxis\": {\"endlinecolor\": \"#2a3f5f\", \"gridcolor\": \"white\", \"linecolor\": \"white\", \"minorgridcolor\": \"white\", \"startlinecolor\": \"#2a3f5f\"}, \"type\": \"carpet\"}], \"choropleth\": [{\"colorbar\": {\"outlinewidth\": 0, \"ticks\": \"\"}, \"type\": \"choropleth\"}], \"contour\": [{\"colorbar\": {\"outlinewidth\": 0, \"ticks\": \"\"}, \"colorscale\": [[0.0, \"#0d0887\"], [0.1111111111111111, \"#46039f\"], [0.2222222222222222, \"#7201a8\"], [0.3333333333333333, \"#9c179e\"], [0.4444444444444444, \"#bd3786\"], [0.5555555555555556, \"#d8576b\"], [0.6666666666666666, \"#ed7953\"], [0.7777777777777778, \"#fb9f3a\"], [0.8888888888888888, \"#fdca26\"], [1.0, \"#f0f921\"]], \"type\": \"contour\"}], \"contourcarpet\": [{\"colorbar\": {\"outlinewidth\": 0, \"ticks\": \"\"}, \"type\": \"contourcarpet\"}], \"heatmap\": [{\"colorbar\": {\"outlinewidth\": 0, \"ticks\": \"\"}, \"colorscale\": [[0.0, \"#0d0887\"], [0.1111111111111111, \"#46039f\"], [0.2222222222222222, \"#7201a8\"], [0.3333333333333333, \"#9c179e\"], [0.4444444444444444, \"#bd3786\"], [0.5555555555555556, \"#d8576b\"], [0.6666666666666666, \"#ed7953\"], [0.7777777777777778, \"#fb9f3a\"], [0.8888888888888888, \"#fdca26\"], [1.0, \"#f0f921\"]], \"type\": \"heatmap\"}], \"heatmapgl\": [{\"colorbar\": {\"outlinewidth\": 0, \"ticks\": \"\"}, \"colorscale\": [[0.0, \"#0d0887\"], [0.1111111111111111, \"#46039f\"], [0.2222222222222222, \"#7201a8\"], [0.3333333333333333, \"#9c179e\"], [0.4444444444444444, \"#bd3786\"], [0.5555555555555556, \"#d8576b\"], [0.6666666666666666, \"#ed7953\"], [0.7777777777777778, \"#fb9f3a\"], [0.8888888888888888, \"#fdca26\"], [1.0, \"#f0f921\"]], \"type\": \"heatmapgl\"}], \"histogram\": [{\"marker\": {\"colorbar\": {\"outlinewidth\": 0, \"ticks\": \"\"}}, \"type\": \"histogram\"}], \"histogram2d\": [{\"colorbar\": {\"outlinewidth\": 0, \"ticks\": \"\"}, \"colorscale\": [[0.0, \"#0d0887\"], [0.1111111111111111, \"#46039f\"], [0.2222222222222222, \"#7201a8\"], [0.3333333333333333, \"#9c179e\"], [0.4444444444444444, \"#bd3786\"], [0.5555555555555556, \"#d8576b\"], [0.6666666666666666, \"#ed7953\"], [0.7777777777777778, \"#fb9f3a\"], [0.8888888888888888, \"#fdca26\"], [1.0, \"#f0f921\"]], \"type\": \"histogram2d\"}], \"histogram2dcontour\": [{\"colorbar\": {\"outlinewidth\": 0, \"ticks\": \"\"}, \"colorscale\": [[0.0, \"#0d0887\"], [0.1111111111111111, \"#46039f\"], [0.2222222222222222, \"#7201a8\"], [0.3333333333333333, \"#9c179e\"], [0.4444444444444444, \"#bd3786\"], [0.5555555555555556, \"#d8576b\"], [0.6666666666666666, \"#ed7953\"], [0.7777777777777778, \"#fb9f3a\"], [0.8888888888888888, \"#fdca26\"], [1.0, \"#f0f921\"]], \"type\": \"histogram2dcontour\"}], \"mesh3d\": [{\"colorbar\": {\"outlinewidth\": 0, \"ticks\": \"\"}, \"type\": \"mesh3d\"}], \"parcoords\": [{\"line\": {\"colorbar\": {\"outlinewidth\": 0, \"ticks\": \"\"}}, \"type\": \"parcoords\"}], \"pie\": [{\"automargin\": true, \"type\": \"pie\"}], \"scatter\": [{\"marker\": {\"colorbar\": {\"outlinewidth\": 0, \"ticks\": \"\"}}, \"type\": \"scatter\"}], \"scatter3d\": [{\"line\": {\"colorbar\": {\"outlinewidth\": 0, \"ticks\": \"\"}}, \"marker\": {\"colorbar\": {\"outlinewidth\": 0, \"ticks\": \"\"}}, \"type\": \"scatter3d\"}], \"scattercarpet\": [{\"marker\": {\"colorbar\": {\"outlinewidth\": 0, \"ticks\": \"\"}}, \"type\": \"scattercarpet\"}], \"scattergeo\": [{\"marker\": {\"colorbar\": {\"outlinewidth\": 0, \"ticks\": \"\"}}, \"type\": \"scattergeo\"}], \"scattergl\": [{\"marker\": {\"colorbar\": {\"outlinewidth\": 0, \"ticks\": \"\"}}, \"type\": \"scattergl\"}], \"scattermapbox\": [{\"marker\": {\"colorbar\": {\"outlinewidth\": 0, \"ticks\": \"\"}}, \"type\": \"scattermapbox\"}], \"scatterpolar\": [{\"marker\": {\"colorbar\": {\"outlinewidth\": 0, \"ticks\": \"\"}}, \"type\": \"scatterpolar\"}], \"scatterpolargl\": [{\"marker\": {\"colorbar\": {\"outlinewidth\": 0, \"ticks\": \"\"}}, \"type\": \"scatterpolargl\"}], \"scatterternary\": [{\"marker\": {\"colorbar\": {\"outlinewidth\": 0, \"ticks\": \"\"}}, \"type\": \"scatterternary\"}], \"surface\": [{\"colorbar\": {\"outlinewidth\": 0, \"ticks\": \"\"}, \"colorscale\": [[0.0, \"#0d0887\"], [0.1111111111111111, \"#46039f\"], [0.2222222222222222, \"#7201a8\"], [0.3333333333333333, \"#9c179e\"], [0.4444444444444444, \"#bd3786\"], [0.5555555555555556, \"#d8576b\"], [0.6666666666666666, \"#ed7953\"], [0.7777777777777778, \"#fb9f3a\"], [0.8888888888888888, \"#fdca26\"], [1.0, \"#f0f921\"]], \"type\": \"surface\"}], \"table\": [{\"cells\": {\"fill\": {\"color\": \"#EBF0F8\"}, \"line\": {\"color\": \"white\"}}, \"header\": {\"fill\": {\"color\": \"#C8D4E3\"}, \"line\": {\"color\": \"white\"}}, \"type\": \"table\"}]}, \"layout\": {\"annotationdefaults\": {\"arrowcolor\": \"#2a3f5f\", \"arrowhead\": 0, \"arrowwidth\": 1}, \"coloraxis\": {\"colorbar\": {\"outlinewidth\": 0, \"ticks\": \"\"}}, \"colorscale\": {\"diverging\": [[0, \"#8e0152\"], [0.1, \"#c51b7d\"], [0.2, \"#de77ae\"], [0.3, \"#f1b6da\"], [0.4, \"#fde0ef\"], [0.5, \"#f7f7f7\"], [0.6, \"#e6f5d0\"], [0.7, \"#b8e186\"], [0.8, \"#7fbc41\"], [0.9, \"#4d9221\"], [1, \"#276419\"]], \"sequential\": [[0.0, \"#0d0887\"], [0.1111111111111111, \"#46039f\"], [0.2222222222222222, \"#7201a8\"], [0.3333333333333333, \"#9c179e\"], [0.4444444444444444, \"#bd3786\"], [0.5555555555555556, \"#d8576b\"], [0.6666666666666666, \"#ed7953\"], [0.7777777777777778, \"#fb9f3a\"], [0.8888888888888888, \"#fdca26\"], [1.0, \"#f0f921\"]], \"sequentialminus\": [[0.0, \"#0d0887\"], [0.1111111111111111, \"#46039f\"], [0.2222222222222222, \"#7201a8\"], [0.3333333333333333, \"#9c179e\"], [0.4444444444444444, \"#bd3786\"], [0.5555555555555556, \"#d8576b\"], [0.6666666666666666, \"#ed7953\"], [0.7777777777777778, \"#fb9f3a\"], [0.8888888888888888, \"#fdca26\"], [1.0, \"#f0f921\"]]}, \"colorway\": [\"#636efa\", \"#EF553B\", \"#00cc96\", \"#ab63fa\", \"#FFA15A\", \"#19d3f3\", \"#FF6692\", \"#B6E880\", \"#FF97FF\", \"#FECB52\"], \"font\": {\"color\": \"#2a3f5f\"}, \"geo\": {\"bgcolor\": \"white\", \"lakecolor\": \"white\", \"landcolor\": \"#E5ECF6\", \"showlakes\": true, \"showland\": true, \"subunitcolor\": \"white\"}, \"hoverlabel\": {\"align\": \"left\"}, \"hovermode\": \"closest\", \"mapbox\": {\"style\": \"light\"}, \"paper_bgcolor\": \"white\", \"plot_bgcolor\": \"#E5ECF6\", \"polar\": {\"angularaxis\": {\"gridcolor\": \"white\", \"linecolor\": \"white\", \"ticks\": \"\"}, \"bgcolor\": \"#E5ECF6\", \"radialaxis\": {\"gridcolor\": \"white\", \"linecolor\": \"white\", \"ticks\": \"\"}}, \"scene\": {\"xaxis\": {\"backgroundcolor\": \"#E5ECF6\", \"gridcolor\": \"white\", \"gridwidth\": 2, \"linecolor\": \"white\", \"showbackground\": true, \"ticks\": \"\", \"zerolinecolor\": \"white\"}, \"yaxis\": {\"backgroundcolor\": \"#E5ECF6\", \"gridcolor\": \"white\", \"gridwidth\": 2, \"linecolor\": \"white\", \"showbackground\": true, \"ticks\": \"\", \"zerolinecolor\": \"white\"}, \"zaxis\": {\"backgroundcolor\": \"#E5ECF6\", \"gridcolor\": \"white\", \"gridwidth\": 2, \"linecolor\": \"white\", \"showbackground\": true, \"ticks\": \"\", \"zerolinecolor\": \"white\"}}, \"shapedefaults\": {\"line\": {\"color\": \"#2a3f5f\"}}, \"ternary\": {\"aaxis\": {\"gridcolor\": \"white\", \"linecolor\": \"white\", \"ticks\": \"\"}, \"baxis\": {\"gridcolor\": \"white\", \"linecolor\": \"white\", \"ticks\": \"\"}, \"bgcolor\": \"#E5ECF6\", \"caxis\": {\"gridcolor\": \"white\", \"linecolor\": \"white\", \"ticks\": \"\"}}, \"title\": {\"x\": 0.05}, \"xaxis\": {\"automargin\": true, \"gridcolor\": \"white\", \"linecolor\": \"white\", \"ticks\": \"\", \"title\": {\"standoff\": 15}, \"zerolinecolor\": \"white\", \"zerolinewidth\": 2}, \"yaxis\": {\"automargin\": true, \"gridcolor\": \"white\", \"linecolor\": \"white\", \"ticks\": \"\", \"title\": {\"standoff\": 15}, \"zerolinecolor\": \"white\", \"zerolinewidth\": 2}}}, \"title\": {\"text\": \"Model performances\"}, \"xaxis\": {\"gridcolor\": \"rgb(255, 255, 255)\", \"gridwidth\": 2, \"ticklen\": 5, \"title\": {\"text\": \"Accuracy_score\"}, \"zerolinewidth\": 1}, \"yaxis\": {\"gridcolor\": \"rgb(255, 255, 255)\", \"gridwidth\": 2, \"ticklen\": 5, \"zerolinewidth\": 1}},\n",
              "                        {\"responsive\": true}\n",
              "                    ).then(function(){\n",
              "                            \n",
              "var gd = document.getElementById('ff6b91fd-ab8d-438b-a15d-e2694405284f');\n",
              "var x = new MutationObserver(function (mutations, observer) {{\n",
              "        var display = window.getComputedStyle(gd).display;\n",
              "        if (!display || display === 'none') {{\n",
              "            console.log([gd, 'removed!']);\n",
              "            Plotly.purge(gd);\n",
              "            observer.disconnect();\n",
              "        }}\n",
              "}});\n",
              "\n",
              "// Listen for the removal of the full notebook cells\n",
              "var notebookContainer = gd.closest('#notebook-container');\n",
              "if (notebookContainer) {{\n",
              "    x.observe(notebookContainer, {childList: true});\n",
              "}}\n",
              "\n",
              "// Listen for the clearing of the current output cell\n",
              "var outputEl = gd.closest('.output');\n",
              "if (outputEl) {{\n",
              "    x.observe(outputEl, {childList: true});\n",
              "}}\n",
              "\n",
              "                        })\n",
              "                };\n",
              "                \n",
              "            </script>\n",
              "        </div>\n",
              "</body>\n",
              "</html>"
            ]
          },
          "metadata": {
            "tags": []
          }
        }
      ]
    },
    {
      "cell_type": "markdown",
      "metadata": {
        "id": "dIkELUf-fqxV",
        "colab_type": "text"
      },
      "source": [
        "## <a id='3.2'>3.2. Matrices de Confusión para los Modelos</a>\n",
        "\n",
        "Son visualizadas la Matrices de Confusión para los todos los modelos implementados."
      ]
    },
    {
      "cell_type": "code",
      "metadata": {
        "id": "-Yx5_iP3fqxW",
        "colab_type": "code",
        "outputId": "efa95c48-607f-42d6-bca2-529653b0610a",
        "colab": {
          "base_uri": "https://localhost:8080/",
          "height": 1000
        }
      },
      "source": [
        "l_modelos = ['adadelta','adagrad','adam','adamax','nadam','rmsprop',\n",
        "             'sgd_01','sgd_02']\n",
        "\n",
        "lst    = [logit,logit_smote,xgc,lgbm_c,bbc,\n",
        "          modelo_adadelta, modelo_adagrad, modelo_adam, modelo_adamax,\n",
        "          modelo_adamax_02,modelo_nadam, modelo_rmsprop,model,\n",
        "          modelo_sgd_01, modelo_sgd_02,clf]\n",
        "\n",
        "length = len(lst)\n",
        "\n",
        "mods   = ['Logistic Regression','Logistic Regression(SMOTE)',\n",
        "          'XGBoost Classifier','LGBM Classifier','Balanced Bagging Classifier',\n",
        "          'Keras_NN_Adadelta','Keras_NN_adagrad','Keras_NN_adam',\n",
        "          'Keras_NN_adamax','Keras_NN_adamax_02','Keras_NN_nadam','Keras_NN_rmsprop',\n",
        "          'Keras_NN_rmsprop_01','Keras_NN_sgd_01', 'Keras_NN_sgd_02','MLPClassifier']\n",
        "\n",
        "fig = plt.figure(figsize=(16,20))\n",
        "fig.set_facecolor(\"#F3F3F3\")\n",
        "for i,j,k in itertools.zip_longest(lst,range(length),mods) :\n",
        "    plt.subplot(6,3,j+1)\n",
        "    if   (j+1) <  6:\n",
        "      predictions = i.predict(test_X)\n",
        "      conf_matrix = confusion_matrix(predictions,test_Y)\n",
        "    elif (j+1) < 14:\n",
        "      predictions = i.predict_classes(X_test_,batch_size=32, verbose = 0)\n",
        "      conf_matrix = confusion_matrix(predictions,np.argmax(y_test_, axis=1))\n",
        "    else           :\n",
        "      predictions = clf.predict(X_test_)\n",
        "      conf_matrix = confusion_matrix(predictions.dot(clf.classes_),np.argmax(y_test_, axis=1))[:3,:3]\n",
        "    sns.heatmap(conf_matrix,annot=True,fmt = \"d\",square = True,\n",
        "                xticklabels=[\"Ok\",\"Ok, repairs\",\"Non Ok\"],\n",
        "                yticklabels=[\"Ok\",\"Ok, repairs\",\"Non Ok\"],\n",
        "                linewidths = 2,linecolor = \"w\",cmap = \"Set1\")\n",
        "    plt.title(k,color = \"b\")\n",
        "    plt.subplots_adjust(wspace = .3,hspace = .3)"
      ],
      "execution_count": 0,
      "outputs": [
        {
          "output_type": "display_data",
          "data": {
            "image/png": "[encoded data removed]",
            "text/plain": [
              "<Figure size 1152x1440 with 32 Axes>"
            ]
          },
          "metadata": {
            "tags": []
          }
        }
      ]
    },
    {
      "cell_type": "markdown",
      "metadata": {
        "id": "_7wKGmXcfqxj",
        "colab_type": "text"
      },
      "source": [
        "# <a id='4'>4. Conclusión</a>\n",
        "\n",
        "Tal como se comentó en un inicio, a los modelos predictivos del estado de funcionamiento de las Bombas de agua en Tanzania ya implementados, se agregaron modelos basados en Redes Neuronales.\n",
        "De tal manera que con relación a los modelos implementados se tiene que:\n",
        "\n",
        "1.   Originalmente se implementaron 5 modelos predictivos.\n",
        "2.   Se agregaron 10 modelos predictivos de Redes Neuronales, usando Keras. En donde se realizaron variaciones de los optimizadores usados(tomando hiperparámetos desde la documentacion de Keras), o variaciones en la cantidad de neuronas por capas, u otas variaciones.\n",
        "3.   Se agregó 1 modelo predictivo usando MLPClassifier de sklearn.\n",
        "\n",
        "Para todos los modelos de Redes Neuronales sus accuracy variaron entre 0.69 y 0.75. En tanto que para los otros modelos predictivos sus accuracy variaron entre 0.45 y 0.83.\n",
        "\n",
        "En general el tiempo de procesamiento para el entrenamiento de las Redes Neuronales fue significativamente mayor que el tiempo tomado por los otros modelos predictivos. Junto con ello la necesidad de recursos, tales como memoria o capacidad de procesamiento, requerido por los modelos predictivos basado en Redes Neuronales, son mayores que los recursos requeridos por los otros modelos predictivos. Esto fue el motivo por el cual, este desafío lo tuvimos que abordad usando Google-Colab y no los computadores personales, que disponen de recursos de memoria y procesamiento más limitados.\n",
        "\n",
        "Una parte importante del tiempo de modelamiento, lo consume el tunnig de la red neuronal. Ir cambiando cada uno de los distintos hiperparámetros, o incluso variar el optimizador, para luego realizar el entrenamiento y la evaluación, consume tiempo, al ir iterando y comparando los resultados de las métricas obtenidas. En particular, en nuestro caso usamos la métrica accuracy.\n",
        "\n",
        "Una de las ventajas que observamos de los modelos de Redes Neuronales que implementamos, es que a nivel de accuracy su menor valor es cercano al 0.70, en tanto que para los otros modelos el valor menor del accuracy es 0.40.\n",
        "\n",
        "Por complemento, una desventaja de los modelos de Redes Neuronales, fue que su mayor valor de accuracy fue cercano al 0.75, en tanto que para los otros modelos el valor mayor de accuracy fue 0.83.\n",
        "\n",
        "Lo anterior mencionado, pro y contra de los modelos de Redes Neuronales versus los otros modelos predictivos implementados, nos lleva a creer que las Redes Neuronales podrian ser más flexibles en terminos de aplicarse a distintos problemas predictivos que se requieren abordar. Pero lograr un mejor resultado de las métricas, requiere una mayor inversión de tiempo.\n",
        "\n",
        "\n",
        "De los 16 modelos predictivos experimentados para resolver esta problemática de conocer el estado funcional de las Bombas de agua, se tiene que los 3 primeros con mejores resultados no son Redes Neuronales(ver 3. Rendimiento de modelos)\n",
        "\n",
        "Creemos que invirtiendo un poco más de tiempo, para experimentar con las topologías de las Redes Neuronales y junto con ello, ir variando los valores de los distintos hiperparámetros usados, podemos lograr un mejor resultado de la métrica accuracy. \n",
        "\n",
        "Por último comentar que este deafío junto con permitirnos conocer, implementar y experimentar con Redes Neuronales, nos ha permitido también hacer comparativas con otros modelos predictivos, teniendo asi una visión más amplia."
      ]
    }
  ]
}