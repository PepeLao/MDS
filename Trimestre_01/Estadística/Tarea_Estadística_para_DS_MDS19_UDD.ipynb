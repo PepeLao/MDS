{
 "cells": [
  {
   "cell_type": "markdown",
   "metadata": {},
   "source": [
    "# Estadísticas para Data Science MDS'19 UDD\n",
    "\n",
    "# Recopilación de Tareas\n",
    "\n",
    "\n",
    "\n",
    "__Profesor__         :  Rafael Ascanio.\n",
    "\n",
    "__Alumnos__          :  Roy Barrera, José Pérez.\n",
    "\n",
    "\n",
    "__Plazo de entrega__ : Martes 20 de agosto, hasta las 23:59hrs.\n",
    "\n",
    "\n",
    "\n"
   ]
  },
  {
   "cell_type": "markdown",
   "metadata": {},
   "source": [
    "### Tarea n° 1: \n",
    "La primera tarea consiste en calcular el __rango__ de la variable para un set de datos cualquiera.\n",
    "\n",
    "- El __rango__ o recorrido de la variable estadística, es la diferencia que existe entre los valores extremos de la variable. Se emplea para tener una primera aproximación de la disperción de los datos.\n"
   ]
  },
  {
   "cell_type": "code",
   "execution_count": 1,
   "metadata": {
    "scrolled": true
   },
   "outputs": [
    {
     "name": "stdout",
     "output_type": "stream",
     "text": [
      "El set de datos 'data' es : [2, 2, 2, 2, 3, 4, 4, 6, 7, 8, 8, 9, 10, 11, 35]\n",
      "El valor extremo inicial o mínimo del set de datos es : 2\n",
      "El valor extremo final o máximo del set de datos es : 35\n",
      "El rango de la variable es : 33\n"
     ]
    }
   ],
   "source": [
    "# Tarea 1: Calcular el rango de la variable\n",
    "\n",
    "'''Se define un set de datos 'data' para calcular el rango de la variable.'''\n",
    "data = [2, 2, 2, 2, 3, 4, 4, 6, 7, 8, 8, 9, 10, 11, 35]\n",
    "print(\"El set de datos 'data' es :\", data)\n",
    "\n",
    "'''Se utiliza la función min(data), para obtener el valor mínimo de data.'''\n",
    "print(\"El valor extremo inicial o mínimo del set de datos es :\", min(data))\n",
    "\n",
    "'''Se utiliza la función max(data), para obtener el valor máximo de data.'''\n",
    "print(\"El valor extremo final o máximo del set de datos es :\", max(data))\n",
    "\n",
    "''' Se resta el valor máximo menos el valor mínimo, para obtener el rango de la variable.'''\n",
    "print(\"El rango de la variable es :\", str(max(data)- min(data)))"
   ]
  },
  {
   "cell_type": "markdown",
   "metadata": {},
   "source": [
    "---"
   ]
  },
  {
   "cell_type": "markdown",
   "metadata": {},
   "source": [
    "### Tarea n° 2: \n",
    "Realizar el cálculo de Coeficiente de Variación de la variable para un set datos cualquiera. \n",
    "\n",
    "-  El __Coeficiente de Variación__ es la razón entre la __desviación estándar__ y la __media aritmética__ de los datos.  \n",
    "- Si el C.V. es __menor o igual al 80%__, significa que la media aritmética es representativa del set de datos, en cuyo caso se dice que el set de datos es __\"Homogéneo\"__. \n",
    "- Si el C.V. es __mayor al 80%__, la media aritmética no será representativa del set de datos, en cuyo caso se dice que el set de datos es __\"Heterogéneo\"__\n"
   ]
  },
  {
   "cell_type": "code",
   "execution_count": 2,
   "metadata": {},
   "outputs": [
    {
     "name": "stdout",
     "output_type": "stream",
     "text": [
      "El set de datos 'data' es : [2, 2, 2, 2, 3, 4, 4, 6, 7, 8, 8, 9, 10, 11, 35]\n",
      "La Desviación Estándar de 'data' es : 8.219025547617003\n",
      "La Media Aritmética 'data' es : 7.533333333333333\n",
      "El C.V. de 'data' es : 1.0910210903916375\n",
      "El set de datos 'data' es Heterogéneo.\n"
     ]
    }
   ],
   "source": [
    "# Tarea 2: Calcular el coeficiente de variación de la variable para un set de datos.\n",
    "\n",
    "'''Se importa el módulo statistics que contiene las funciones estadísticas requeridas.'''\n",
    "import statistics\n",
    "\n",
    "'''Se define un set de datos 'data' para calcular el coeficiente de variación de la variable.'''\n",
    "data = [2, 2, 2, 2, 3, 4, 4, 6, 7, 8, 8, 9, 10, 11, 35]\n",
    "print(\"El set de datos 'data' es :\", data)\n",
    "\n",
    "'''Se utiliza la función statistics.stdev(data), para obtener la desviación estándar de data.'''\n",
    "print(\"La Desviación Estándar de 'data' es :\", str(statistics.stdev(data)))\n",
    "\n",
    "'''Se utiliza la función statistics.mean(data), para obtener la media aritmética de data.'''\n",
    "print(\"La Media Aritmética 'data' es :\", str(statistics.mean(data)) )\n",
    "\n",
    "'''Se calcula el C.V. como la razón entre la desviación estándar y la media aritmética.'''\n",
    "cv=statistics.stdev(data)/statistics.mean(data)\n",
    "print(\"El C.V. de 'data' es :\", cv )\n",
    "\n",
    "'''Se determina si el set de datos es Homogéneo o es Heterogéneo.'''\n",
    "if cv <= 0.8:\n",
    "    print(\"El set de datos 'data' es Homogéneo.\")\n",
    "else:\n",
    "    print(\"El set de datos 'data' es Heterogéneo.\")"
   ]
  },
  {
   "cell_type": "markdown",
   "metadata": {},
   "source": [
    "---"
   ]
  },
  {
   "cell_type": "markdown",
   "metadata": {},
   "source": [
    "### Tarea n° 3: \n",
    "Tomar un set de datos y probar con una variable __el ajuste a la distribución normal__, utilizando alguna de las siguientes pruebas analíticas: __Shapiro-Wilk__, __Jarque-Bera__, __Anderson-Darling__, entre otras.\n",
    "\n",
    "- Optamos por utilizar set de datos aleatorios y la prueba de normalidad de __Shapiro-Wilk__. \n",
    "- La prueba de Shapiro-Wilk considera como hipótesis nula __\"H0\"__ que los datos se obtuvieron de una distribución normal"
   ]
  },
  {
   "cell_type": "code",
   "execution_count": 3,
   "metadata": {},
   "outputs": [
    {
     "name": "stdout",
     "output_type": "stream",
     "text": [
      "Se tiene el set de datos 'data' :\n",
      " [46.37041755 30.7177051  31.30279773 27.48921964 41.05785341 18.88922912\n",
      " 47.21368235 29.67155169 37.23327367 33.25440737 45.23475556 20.57901503\n",
      " 32.74307957 32.31161952 42.9363861  27.30076113 33.79300255 28.85499107\n",
      " 35.29549623 39.0797065  27.29566576 43.01306597 41.31113504 38.51746037\n",
      " 41.30599164 30.21390499 34.13976842 28.44961396 33.12478344 38.71248827\n",
      " 30.15837474 32.22272531 30.1897911  29.08356051 30.30127708 34.91134781\n",
      " 27.17882756 36.64090988 46.61861524 40.19430912 33.65715113 28.78659725\n",
      " 29.76989194 46.84718221 35.35565428 30.54103047 36.33640839 49.70178596\n",
      " 35.84111267 39.32042177 37.10119224 32.53425107 27.00237261 32.55460094\n",
      " 33.53774037 39.10636234 40.8728839  41.51771457 36.99911128 41.19598815\n",
      " 29.71921441 43.77007709 38.59050874 32.91335015 38.41962703 34.47099801\n",
      " 42.92140571 45.63871771 50.29902785 25.22452565 24.89120336 31.46873896\n",
      " 36.12025949 41.13318245 37.20944463 20.84459149 32.85657191 40.7958225\n",
      " 36.61066315 40.33407826 33.443703   33.59469352 36.30592974 37.87036153\n",
      " 36.38809804 35.83306052 30.305364   37.6429465  35.8527489  42.90638736\n",
      " 43.39242516 36.29609492 32.37300535 30.52888715 37.96446048 35.54138048\n",
      " 32.59302427 35.305178   30.65999409 39.88622424]\n",
      " \n",
      "Hipótesis nula: el set de datos 'data' esta normalmente distribuido\n",
      "                con un nivel de significación del 5%.\n"
     ]
    }
   ],
   "source": [
    "# Prueba con una variable del ajuste a la distribución normal, usando Shapiro-Wilk.\n",
    "# Primera Parte : Set de Datos y Establecimiento de la hipotesis nula\n",
    "\n",
    "''' Se importan los paquetes para la generación del set de datos aleatorio.'''\n",
    "from numpy.random import seed\n",
    "from numpy.random import randn\n",
    "\n",
    "''' Se importa el módulo que contiene a la función shapiro() requrida para la prueba.'''\n",
    "from scipy.stats import shapiro\n",
    "\n",
    "'''Se genera el primer valor aleaterio.'''\n",
    "seed(1)\n",
    "\n",
    "'''Se genera un set de datos de una variable con 100 elementos aleatorios.'''\n",
    "# se podría reemplazar este set de datos por otro cualquiera, que sea de una variable.\n",
    "\n",
    "data = 7 * randn(100) + 35\n",
    "print(\"Se tiene el set de datos 'data' :\\n\", data)\n",
    "print(\" \")\n",
    "print(\"Hipótesis nula: el set de datos 'data' esta normalmente distribuido\")\n",
    "print(\"                con un nivel de significación del 5%.\")\n"
   ]
  },
  {
   "cell_type": "code",
   "execution_count": 4,
   "metadata": {},
   "outputs": [
    {
     "name": "stdout",
     "output_type": "stream",
     "text": [
      "Al realizar la prueba de Shapiro-Wilk sobre 'data' se tiene el resultado:\n",
      "Estadístico W=0.9920 y P_Value=0.8215\n"
     ]
    }
   ],
   "source": [
    "# Prueba con una variable del ajuste a la distribución normal, usando Shapiro-Wilk.\n",
    "# Segunda parte, aplicando la prueba  sobre la hipotesis nula\n",
    "\n",
    "'''Se realiza la prueba de Shapiro-Wilk, usando la función shapiro(), sobre data.'''\n",
    "# La función shapiro retorna el valor del Estadistico W y el P-Value\n",
    "\n",
    "estadistico_w, p_value = shapiro(data)\n",
    "\n",
    "print(\"Al realizar la prueba de Shapiro-Wilk sobre 'data' se tiene el resultado:\")\n",
    "print('Estadístico W=%.4f y P_Value=%.4f' % (estadistico_w, p_value))\n"
   ]
  },
  {
   "cell_type": "code",
   "execution_count": 5,
   "metadata": {},
   "outputs": [
    {
     "name": "stdout",
     "output_type": "stream",
     "text": [
      "A la luz de los resultados obtenidos,\n",
      "con un nivel de significancia del 5%\n",
      "no hay evidencia suficiente para rechazar la hipótesis nula.\n",
      "Por lo tanto, el set de datos 'data', esta normalmente distribuido.\n"
     ]
    }
   ],
   "source": [
    "# Prueba con una variable del ajuste a la distribución normal, usando Shapiro-Wilk.\n",
    "# Tercera parte, interpretando el resultado de la prueba realizada\n",
    "\n",
    "''' \n",
    "   Para interpretar el resultado de la prueba de Shapiro-Wilk, \n",
    "   se debe considerar que la hipotésis nula, \"H0\", se rechazará \n",
    "   si se cumple alguna de los siguientes condiciones :\n",
    "   \n",
    "   1.- Si el estadistico W es muy pequeño.   \n",
    "       ( El valor de W debería estar entre 0 y 1 )\n",
    "   \n",
    "   2.- Si el p-value es menor al nivel de significación (alfa)\n",
    "       ( valores aceptados para alfa = 0.05 , es decir 5% )\n",
    "\n",
    "   La forma mas común de verificarlo es validar p_value\n",
    "   \n",
    "'''\n",
    "\n",
    "estadistico_w, p_value = shapiro(data)\n",
    "\n",
    "alfa = 0.05             # por convención se acepta el 5%, como \"suficientemente bueno\"\n",
    "\n",
    "print(\"A la luz de los resultados obtenidos,\")\n",
    "print(\"con un nivel de significancia del 5%\")\n",
    "if p_value > alfa:\n",
    "    print(\"no hay evidencia suficiente para rechazar la hipótesis nula.\")\n",
    "    print(\"Por lo tanto, el set de datos 'data', esta normalmente distribuido.\")\n",
    "else:\n",
    "    print(\"se rechaza la hipótesis nula,\")\n",
    "    print(\"Por lo tanto, el set de datos 'data', NO ESTÁ normalmente distribuido.\")\n"
   ]
  },
  {
   "cell_type": "markdown",
   "metadata": {},
   "source": [
    "---"
   ]
  },
  {
   "cell_type": "markdown",
   "metadata": {},
   "source": [
    "### Tarea n° 4: \n",
    "Asociar el signo de los coeficientes de __Simetría__ y __Kurtosis__ a las condiciones descritas en clases; distribución asimétrica a la derecha, distribución asimétrica a la izquierda o distribución simétrica y distribución mesokúrtica, leptokúrtica y platikúrtica.\n",
    "\n",
    "Desde la teoría se tiene lo siguiente para los coeficientes de __Simetría__ y __Kurtosis__.\n",
    "\n",
    "- Coeficiente de __Simetría__\n",
    "  - Si la distribución es __simétrica__, el *coeficiente de simetría* __es igual a 0__.\n",
    "  - Si la distribución es __asimétrica a la derecha__, el *coeficiente de simetría* __es positivo__.\n",
    "  - Si la distribución es __asimétrica a la izquierda__, el *coeficiente de simetría* __es negativo__.\n",
    "\n",
    "\n",
    "- Coeficiente de __Kurtosis__\n",
    "  - Indica que tan apuntada o achatada se encuentra una distribución respecto a una distribución normal.\n",
    "  - La distribución es __mesocúrtica__, si los datos tienen un __comportamiento normal__. La *Kurtosis* __es igual a 0__.\n",
    "  - La distribución es __platicúrtica__, si los datos están __muy dispersos__. La *Kurtosis* __es menor a 0__.\n",
    "  - La distribución es __leptocúrtica__, si los datos están __muy concentrados hacia la media__. La *Kurtosis* __es mayor a 0__. "
   ]
  },
  {
   "cell_type": "code",
   "execution_count": 9,
   "metadata": {},
   "outputs": [
    {
     "name": "stdout",
     "output_type": "stream",
     "text": [
      "Antes de comenzar la demostración, definir set de datos ...\n"
     ]
    }
   ],
   "source": [
    "# Se crean funciones que permiten analizar la kurtosis y la asimetría\n",
    "\n",
    "'''Se define la función kurt() devuelve la clasificación de la Kurtosis según el\n",
    "   coeficiente de kurtosis. Se considera que el valor es 0 cuando -0.05 < valor < 0.05.\n",
    "'''\n",
    "def kurt(valor=0.0):\n",
    "    if valor>-0.05 and valor<0.05:\n",
    "        s='Mesocúrtica'\n",
    "    else:\n",
    "        if valor<=-0.05:\n",
    "            s='Platicúrtica'\n",
    "        else:\n",
    "            s='Leptocúrtica'\n",
    "    return s\n",
    "\n",
    "'''Se define la función asim() devuelve la clasificación de la Asimetría según el\n",
    "   coeficiente de asimetría. Se considera que el valor es 0 cuando -0.05 < valor < 0.05.\n",
    "'''\n",
    "def asim(valor=0.0):\n",
    "    if valor>-0.05 and valor<0.05:\n",
    "        s='Simétrica.'\n",
    "    else:\n",
    "        if valor<=-0.05:\n",
    "            s='Asimétrica a la izquierda.'\n",
    "        else:\n",
    "            s='Asimétrica a la derecha.'\n",
    "    return s\n",
    "\n",
    "print (\"Antes de comenzar la demostración, definir set de datos ...\")"
   ]
  },
  {
   "cell_type": "code",
   "execution_count": 11,
   "metadata": {},
   "outputs": [
    {
     "name": "stdout",
     "output_type": "stream",
     "text": [
      "Set de datos definidos, listo para la demostración ...\n"
     ]
    }
   ],
   "source": [
    "# Preparación de varios set de datos con características diferentes\n",
    "# Se importan las librerías necesarias para generar las pruebas de las funciones creadas\n",
    "\n",
    "''' Se importan los módulos os, numpy y pandas.'''\n",
    "import os\n",
    "import numpy as np\n",
    "import pandas as pd\n",
    "\n",
    "'''Se importan las funciones kurtosis() y skew()\n",
    "   kurtosis(), se usa para obtener la kurtosis de un set de datos cualquiera.\n",
    "   skew(), se usa para obtener la simetría de un set de datos cualquiera. '''\n",
    "from scipy.stats import kurtosis, skew, poisson\n",
    "\n",
    "''' Se importan los paquetes para la generación aleatoría del set de datos.'''\n",
    "from numpy.random import seed\n",
    "from numpy.random import randn\n",
    "\n",
    "# Generación del set de datos data1 ...................................\n",
    "\n",
    "'''Se genera el primer valor aleaterio.'''\n",
    "seed(1)\n",
    "\n",
    "'''Se generado el set de datos 'data1', aleatoriamente con 100 datos, de una variable.'''\n",
    "data1 = 3 * randn(100) + 15\n",
    "\n",
    "s1  ='Data1\\n'\n",
    "s1 +='Kurtosis :{0:.3f}'.format(kurtosis(data1))+'\\n'\n",
    "s1 +='Asimetría:{0:.3f}'.format(skew(data1))+'\\n'\n",
    "                   \n",
    "# Generación de los set de datos data2 y data3 ...................................\n",
    "\n",
    "seed(10)\n",
    "data2 = poisson.rvs(loc=18, mu=35, size=150000)\n",
    "data3 = poisson.rvs(loc=0, mu=10, size=100000)\n",
    "\n",
    "s2  ='Data2\\n'\n",
    "s2 +='Kurtosis :{0:.3f}'.format(kurtosis(data2))+'\\n'\n",
    "s2 +='Asimetría:{0:.3f}'.format(skew(data2))+'\\n'\n",
    "\n",
    "s3  ='Data3\\n'\n",
    "s3 +='Kurtosis :{0:.3f}'.format(kurtosis(data3))+'\\n'\n",
    "s3 +='Asimetría:{0:.3f}'.format(skew(data3))+'\\n' \n",
    "\n",
    "\n",
    "# Generación del set de datos data4 ...................................\n",
    "\n",
    "data4 = np.random.normal(0, 2, 10000)\n",
    "\n",
    "s4  ='Data4\\n'\n",
    "s4 +='Kurtosis :{0:.3f}'.format(kurtosis(data4))+'\\n'\n",
    "s4 +='Asimetría:{0:.3f}'.format(skew(data4))+'\\n'\n",
    "\n",
    "\n",
    "# Generación del set de datos data5 ...................................\n",
    "\n",
    "x = np.linspace( -5, 5, 10000 )\n",
    "data5= 1./(np.sqrt(2.*np.pi)) * np.exp( -.5*(x)**2  ) \n",
    "\n",
    "s5  ='Data5\\n'\n",
    "s5 +='Kurtosis :{0:.3f}'.format(kurtosis(data5))+'\\n'\n",
    "s5 +='Asimetría:{0:.3f}'.format(skew(data5))+'\\n'\n",
    "\n",
    "# Generación del set de datos data6 ...................................\n",
    "# 'El arhivo 'House_Price.csv' debe quedar en la misma carpeta de este Jupyter Notebook.'''\n",
    "\n",
    "ruta_archivo=os.path.join(os.getcwd(),'House_Price.csv')\n",
    "data6 = pd.read_csv(ruta_archivo)['SalePrice']\n",
    "\n",
    "s6  ='Data6\\n'\n",
    "s6 +='Kurtosis :{0:.3f}'.format(kurtosis(data6))+'\\n'\n",
    "s6 +='Asimetría:{0:.3f}'.format(skew(data6))+'\\n' \n",
    "\n",
    "print(\"Set de datos definidos, listo para la demostración ...\")"
   ]
  },
  {
   "cell_type": "code",
   "execution_count": 13,
   "metadata": {
    "scrolled": true
   },
   "outputs": [
    {
     "name": "stdout",
     "output_type": "stream",
     "text": [
      "Data1 es  Mesocúrtica y Simétrica.\n",
      "Data2 es  Leptocúrtica y Asimétrica a la derecha.\n"
     ]
    },
    {
     "data": {
      "image/png": "[encoded data removed]",
      "text/plain": [
       "<Figure size 432x288 with 2 Axes>"
      ]
     },
     "metadata": {
      "needs_background": "light"
     },
     "output_type": "display_data"
    }
   ],
   "source": [
    "# Demostraciones : Set de datos 1 y 2 \n",
    "\n",
    "'''Se importa el paquete matplotlib.pyplot'''\n",
    "import matplotlib.pyplot as plt\n",
    "\n",
    "f, (ax1, ax2) = plt.subplots(1, 2)\n",
    "ax1.hist(data1, bins='auto')\n",
    "ax1.set_title(s1)\n",
    "ax2.hist(data2, bins='auto')\n",
    "ax2.set_title(s2)\n",
    "plt.tight_layout()\n",
    "\n",
    "print(\"Data1 es \",kurt(kurtosis(data1)),\"y\",asim(skew(data1)))\n",
    "print(\"Data2 es \",kurt(kurtosis(data2)),\"y\",asim(skew(data2)))\n"
   ]
  },
  {
   "cell_type": "code",
   "execution_count": 14,
   "metadata": {},
   "outputs": [
    {
     "name": "stdout",
     "output_type": "stream",
     "text": [
      "Data3 es  Leptocúrtica y Asimétrica a la derecha.\n",
      "Data4 es  Mesocúrtica y Simétrica.\n"
     ]
    },
    {
     "data": {
      "image/png": "[encoded data removed]",
      "text/plain": [
       "<Figure size 432x288 with 2 Axes>"
      ]
     },
     "metadata": {
      "needs_background": "light"
     },
     "output_type": "display_data"
    }
   ],
   "source": [
    "# Demostraciones : Set de datos 3 y 4\n",
    "\n",
    "'''Se importa el paquete matplotlib.pyplot'''\n",
    "import matplotlib.pyplot as plt  # no es realmente necesario volver a incluirlo\n",
    "\n",
    "f, (ax3, ax4) = plt.subplots(1, 2)\n",
    "ax3.hist(data3, bins='auto')\n",
    "ax3.set_title(s3)\n",
    "ax4.hist(data4, bins='auto')\n",
    "ax4.set_title(s4)\n",
    "plt.tight_layout()\n",
    "print(\"Data3 es \",kurt(kurtosis(data3)),\"y\",asim(skew(data3)))\n",
    "print(\"Data4 es \",kurt(kurtosis(data4)),\"y\",asim(skew(data4)))\n"
   ]
  },
  {
   "cell_type": "code",
   "execution_count": 15,
   "metadata": {},
   "outputs": [
    {
     "name": "stdout",
     "output_type": "stream",
     "text": [
      "Data5 es  Platicúrtica y Asimétrica a la derecha.\n",
      "Data6 es  Leptocúrtica y Asimétrica a la derecha.\n"
     ]
    },
    {
     "data": {
      "image/png": "[encoded data removed]",
      "text/plain": [
       "<Figure size 432x288 with 2 Axes>"
      ]
     },
     "metadata": {
      "needs_background": "light"
     },
     "output_type": "display_data"
    }
   ],
   "source": [
    "# Demostraciones : Set de datos 5 y 6 \n",
    "\n",
    "'''Se importa el paquete matplotlib.pyplot'''\n",
    "import matplotlib.pyplot as plt  # no es realmente necesario volver a incluirlo\n",
    "\n",
    "f, (ax5, ax6) = plt.subplots(1, 2)\n",
    "ax5.hist(data5, bins='auto')\n",
    "ax5.set_title(s5)\n",
    "ax6.hist(data6, bins='auto')\n",
    "ax6.set_title(s6)\n",
    "plt.tight_layout()\n",
    "print(\"Data5 es \",kurt(kurtosis(data5)),\"y\",asim(skew(data5)))\n",
    "print(\"Data6 es \",kurt(kurtosis(data6)),\"y\",asim(skew(data6)))\n"
   ]
  },
  {
   "cell_type": "markdown",
   "metadata": {},
   "source": [
    "---"
   ]
  },
  {
   "cell_type": "markdown",
   "metadata": {},
   "source": [
    "### Tarea n° 5: \n",
    "Ajustar el ejercicio del Notebook \"Nivel de Confianza 1\", cambiando el valor del parámetro de centralidad a cero (loc=0); para generar dos muestras de datos con distribución de Poisson a partir de dos distribuciones independientes centradas. A partir de allí, arreglar el resto del script a fin de obtener el gráfico adecuado con los intervalos de confianza."
   ]
  },
  {
   "cell_type": "code",
   "execution_count": 11,
   "metadata": {},
   "outputs": [
    {
     "name": "stdout",
     "output_type": "stream",
     "text": [
      "1. Media aritmética de edades : 25.002372\n"
     ]
    }
   ],
   "source": [
    "import numpy as np\n",
    "import pandas as pd\n",
    "import scipy.stats as stats\n",
    "import matplotlib.pyplot as plt\n",
    "import random\n",
    "import math\n",
    "\n",
    "np.random.seed(10)\n",
    "#population_ages1 = stats.poisson.rvs(loc=18, mu=35, size=150000)\n",
    "#population_ages2 = stats.poisson.rvs(loc=18, mu=10, size=100000)\n",
    "\n",
    "''' Tal como se pide en la tarea se cambia loc=18 por loc=0.'''\n",
    "\n",
    "population_ages1 = stats.poisson.rvs(loc=0, mu=35, size=150000)\n",
    "population_ages2 = stats.poisson.rvs(loc=0, mu=10, size=100000)\n",
    "population_ages = np.concatenate((population_ages1, population_ages2))\n",
    "\n",
    "print(\"1. Media aritmética de edades :\",population_ages.mean())\n"
   ]
  },
  {
   "cell_type": "code",
   "execution_count": 12,
   "metadata": {},
   "outputs": [
    {
     "name": "stdout",
     "output_type": "stream",
     "text": [
      "2. Con el desplazamiento realizado ...\n"
     ]
    },
    {
     "data": {
      "image/png": "[encoded data removed]",
      "text/plain": [
       "<Figure size 648x648 with 1 Axes>"
      ]
     },
     "metadata": {
      "needs_background": "light"
     },
     "output_type": "display_data"
    }
   ],
   "source": [
    "''' Dado que el centroide se desplazó a 0, entonces también el rango debe desplazarse. '''      \n",
    "\n",
    "pd.DataFrame(population_ages).hist(bins=58,\n",
    "#                                   range=(17.5,75.5),\n",
    "                                  range=(0.5,58.5),  # corrección necesaria por haber ajustado el centroide de 18 a 0 \n",
    "                                  figsize=(9,9))\n",
    "\n",
    "print(\"2. Con el desplazamiento realizado ...\")"
   ]
  },
  {
   "cell_type": "code",
   "execution_count": 13,
   "metadata": {},
   "outputs": [],
   "source": [
    "np.random.seed(15)\n",
    "\n",
    "sample_size = 1000\n",
    "\n",
    "intervals = []\n",
    "sample_means = []\n",
    "\n",
    "''' Genera la muestra y los percentiles '''\n",
    "\n",
    "for sample in range(25):\n",
    "    sample = np.random.choice(a= population_ages, size = sample_size)\n",
    "    sample_mean = sample.mean()\n",
    "    sample_means.append(sample_mean)\n",
    "\n",
    "    z_critical = stats.norm.ppf(q = 0.975)         \n",
    "\n",
    "    pop_stdev = population_ages.std()\n",
    "\n",
    "    stats.norm.ppf(q = 0.025)\n",
    "\n",
    "    margin_of_error = z_critical * (pop_stdev/math.sqrt(sample_size))\n",
    "\n",
    "    confidence_interval = (sample_mean - margin_of_error,\n",
    "                           sample_mean + margin_of_error)  \n",
    "    \n",
    "    intervals.append(confidence_interval)"
   ]
  },
  {
   "cell_type": "code",
   "execution_count": 14,
   "metadata": {},
   "outputs": [
    {
     "name": "stdout",
     "output_type": "stream",
     "text": [
      "3. Con Y redefindo en la nueva media aritmética calculada ...\n"
     ]
    },
    {
     "data": {
      "image/png": "[encoded data removed]",
      "text/plain": [
       "<Figure size 648x648 with 1 Axes>"
      ]
     },
     "metadata": {
      "needs_background": "light"
     },
     "output_type": "display_data"
    }
   ],
   "source": [
    "plt.figure(figsize=(9,9))\n",
    "\n",
    "plt.errorbar(x=np.arange(0.1, 25, 1), \n",
    "             y=sample_means, \n",
    "             yerr=[(top-bot)/2 for top,bot in intervals],\n",
    "             fmt='o')\n",
    "\n",
    "'''Se debe considerar el nuevo valor population_ages.mean() obtenido.'''\n",
    "\n",
    "plt.hlines(xmin=0, xmax=25,\n",
    "#           y=43.005876,\n",
    "           y=25.002372,  # cambio realizado para terminar de ajustar.\n",
    "           linewidth=2.0,\n",
    "           color=\"red\")\n",
    "\n",
    "print(\"3. Con Y redefindo en la nueva media aritmética calculada ...\")\n"
   ]
  },
  {
   "cell_type": "markdown",
   "metadata": {},
   "source": [
    "---"
   ]
  },
  {
   "cell_type": "code",
   "execution_count": null,
   "metadata": {},
   "outputs": [],
   "source": []
  }
 ],
 "metadata": {
  "kernelspec": {
   "display_name": "Python 3",
   "language": "python",
   "name": "python3"
  },
  "language_info": {
   "codemirror_mode": {
    "name": "ipython",
    "version": 3
   },
   "file_extension": ".py",
   "mimetype": "text/x-python",
   "name": "python",
   "nbconvert_exporter": "python",
   "pygments_lexer": "ipython3",
   "version": "3.7.3"
  }
 },
 "nbformat": 4,
 "nbformat_minor": 2
}
