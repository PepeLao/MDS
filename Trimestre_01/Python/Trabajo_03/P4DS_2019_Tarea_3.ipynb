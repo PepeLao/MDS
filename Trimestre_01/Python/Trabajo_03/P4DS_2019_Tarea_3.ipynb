{
 "cells": [
  {
   "cell_type": "markdown",
   "metadata": {},
   "source": [
    "# Tarea 3 - Pyhon para Análisis de Datos\n",
    "\n",
    "__Entrega__: Viernes 06 de septiembre, hasta las 23:59hrs.\n",
    "\n",
    "__Formulario entrega:__ \n",
    "\n",
    "__Nombre y Apellido:__ \n",
    "\n",
    "__Diplomado o Magister:__\n",
    "\n",
    "---"
   ]
  },
  {
   "cell_type": "markdown",
   "metadata": {},
   "source": [
    "En este problema extraeremos información a partir de una imagen astronómica. El análisis de imágenes es aplicado en diversos campos como el de la medicina y la agronomía.\n",
    "\n",
    "La imágen que analizaremos está almacenada como un objeto `ndarray` de dos dimensiones (matriz) en el archivo `iras13224.npy`. Cada elemento `(i,j)` de la matriz corresponde a un pixel, cuyo valor corresponden a la intensidad del mismo.\n",
    "\n",
    "## Parte 1\n",
    "\n",
    "Para leer la imagen, esta debe ser cargada usando las función de Numpy `load()`"
   ]
  },
  {
   "cell_type": "code",
   "execution_count": 1,
   "metadata": {},
   "outputs": [
    {
     "name": "stdout",
     "output_type": "stream",
     "text": [
      "/home/pepeperez/Documentos/01 Python/03 Tarea 3/IRAS13224.npy\n"
     ]
    }
   ],
   "source": [
    "import numpy as np\n",
    "import os\n",
    "ruta_archivo=os.path.join(os.getcwd(),'IRAS13224.npy')\n",
    "print(ruta_archivo)"
   ]
  },
  {
   "cell_type": "code",
   "execution_count": 2,
   "metadata": {},
   "outputs": [
    {
     "name": "stdout",
     "output_type": "stream",
     "text": [
      "<class 'numpy.ndarray'> (2048, 2048)   C_CONTIGUOUS : True\n",
      "  F_CONTIGUOUS : False\n",
      "  OWNDATA : True\n",
      "  WRITEABLE : True\n",
      "  ALIGNED : True\n",
      "  WRITEBACKIFCOPY : False\n",
      "  UPDATEIFCOPY : False (8192, 4) 2 <memory at 0x7f7f61e4f708>\n",
      "None >f4\n",
      "3.6740181\n"
     ]
    }
   ],
   "source": [
    "#----------------------------------\n",
    "# Lectura de la imagen\n",
    "#----------------------------------\n",
    "imagen=np.load(ruta_archivo)\n",
    "print(type(imagen),imagen.shape,imagen.flags,imagen.strides,imagen.ndim,imagen.data)\n",
    "print(imagen.base,imagen.dtype)\n",
    "print(imagen[0,0])"
   ]
  },
  {
   "cell_type": "markdown",
   "metadata": {},
   "source": [
    "## Parte 2\n",
    "Una vez leída la imagen, determine estadísticas báscicas de la imágen, como \n",
    "- Tama~no de la imagen (en pixeles),\n",
    "- Intensidad promedio,\n",
    "- Intensidad mediana,\n",
    "- Intensidad máxima,\n",
    "- Intensidad mínima,\n",
    "- Desviación estándar de la intensidad en toda la imágen."
   ]
  },
  {
   "cell_type": "code",
   "execution_count": 3,
   "metadata": {},
   "outputs": [
    {
     "name": "stdout",
     "output_type": "stream",
     "text": [
      "Filas y columnas de imagen: (2048, 2048)\n",
      "Tamaño de la imagen en pixeles: 4194304\n",
      "Tamaño de la imagen en bytes: 16777216\n",
      "Intensidad promedio de la imagen: 251.30165\n",
      "Intensidad mediana de la imagen: 249.95157\n",
      "Varianza de la intensidad de la imagen: 16777216\n",
      "Desviación estándar de la intensidad en toda la imágen: 244.05922\n",
      "Rango de la intensidad de la imagen: 120775.805\n",
      "Intensidad mínima: -44.229523\n",
      "Intensidad máxima: 120731.58\n",
      "Matriz de pixeles de la imagen: [[   3.6740181   21.039776    20.891607  ...    2.4928524   17.284595\n",
      "    -2.4754956]\n",
      " [   3.5012362   -1.8514152   -3.438021  ...    6.3697834    8.385265\n",
      "    23.753904 ]\n",
      " [  12.036753     1.9408675   -2.9566324 ...   -2.7154722    1.7785867\n",
      "    20.206202 ]\n",
      " ...\n",
      " [ 245.4942     250.5953     213.79453   ...  242.91684    252.36899\n",
      "  1259.0333   ]\n",
      " [ 261.5977     238.3805     267.8022    ...  254.79723    240.20845\n",
      "  1244.037    ]\n",
      " [ 266.9368     235.14369    277.5806    ...  213.50867    263.64465\n",
      "  1323.5806   ]]\n",
      "Indice del valor máximo: 209188\n",
      "Indice del valor mínimo: 4127\n"
     ]
    }
   ],
   "source": [
    "#---------------------------------------------------\n",
    "# Ingrese su código aquí\n",
    "#---------------------------------------------------\n",
    "print('Filas y columnas de imagen:',imagen.shape)\n",
    "print('Tamaño de la imagen en pixeles:',imagen.size)\n",
    "#print(imagen.itemsize)\n",
    "print('Tamaño de la imagen en bytes:',imagen.nbytes)\n",
    "print('Intensidad promedio de la imagen:',imagen.mean())\n",
    "print('Intensidad mediana de la imagen:',np.median(imagen))\n",
    "print('Varianza de la intensidad de la imagen:',imagen.nbytes)\n",
    "print('Desviación estándar de la intensidad en toda la imágen:',imagen.std())\n",
    "print('Rango de la intensidad de la imagen:',imagen.ptp())\n",
    "print('Intensidad mínima:',imagen.min())\n",
    "print('Intensidad máxima:',imagen.max())\n",
    "\n",
    "print('Matriz de pixeles de la imagen:',imagen.view())\n",
    "print('Indice del valor máximo:',imagen.argmax())\n",
    "print('Indice del valor mínimo:',imagen.argmin())\n"
   ]
  },
  {
   "cell_type": "code",
   "execution_count": 33,
   "metadata": {},
   "outputs": [
    {
     "name": "stdout",
     "output_type": "stream",
     "text": [
      "2048 2048\n"
     ]
    }
   ],
   "source": [
    "#Mascara a imagen\n",
    "lx ,ly = imagen.shape\n",
    "print(lx,ly)"
   ]
  },
  {
   "cell_type": "markdown",
   "metadata": {},
   "source": [
    "## Parte 3\n",
    "Despliegue la imagen usando la función `imshow` de `matplotlib`."
   ]
  },
  {
   "cell_type": "code",
   "execution_count": 5,
   "metadata": {},
   "outputs": [
    {
     "data": {
      "text/plain": [
       "<matplotlib.image.AxesImage at 0x7f7f47d062e8>"
      ]
     },
     "execution_count": 5,
     "metadata": {},
     "output_type": "execute_result"
    },
    {
     "data": {
      "image/png": "[encoded data removed]",
      "text/plain": [
       "<Figure size 432x288 with 1 Axes>"
      ]
     },
     "metadata": {
      "needs_background": "light"
     },
     "output_type": "display_data"
    }
   ],
   "source": [
    "import matplotlib.pyplot as plt\n",
    "#---------------------------------------------------\n",
    "# Ingrese su código aquí\n",
    "#---------------------------------------------------\n",
    "plt.rcParams['image.cmap'] = 'gray'\n",
    "plt.imshow(imagen)\n",
    "\n"
   ]
  },
  {
   "cell_type": "markdown",
   "metadata": {},
   "source": [
    "Es muy probable que no se distinga nada en la imagen debido a que, en promedio, la intensidad de los pixeles es muy distinta a la intensidad máxima. Para resolver este problema, explore los argumentos por defecto `vmin` y `vmax` de `imshow`."
   ]
  },
  {
   "cell_type": "code",
   "execution_count": 6,
   "metadata": {},
   "outputs": [
    {
     "data": {
      "text/plain": [
       "<matplotlib.image.AxesImage at 0x7f7f47c79f28>"
      ]
     },
     "execution_count": 6,
     "metadata": {},
     "output_type": "execute_result"
    },
    {
     "data": {
      "image/png": "[encoded data removed]",
      "text/plain": [
       "<Figure size 432x288 with 1 Axes>"
      ]
     },
     "metadata": {
      "needs_background": "light"
     },
     "output_type": "display_data"
    }
   ],
   "source": [
    "#---------------------------------------------------\n",
    "# Ingrese su código aquí\n",
    "#---------------------------------------------------\n",
    "plt.figure()\n",
    "plt.imshow(imagen,vmin=0,vmax=1000)\n",
    "\n"
   ]
  },
  {
   "cell_type": "markdown",
   "metadata": {},
   "source": [
    "Ahora ya es posible ver estrellas dentro de la imagen. \n",
    "\n",
    "## Parte 4\n",
    "\n",
    "El próximo paso para la tarea es el de leer el archivo `estrellas.csv`. Dentro de este archivo se encuentran las posiciones de ciertas estrellas de interés.\n",
    "\n",
    "Despliegue la información de este archivo e identifique el número de estrellas en él."
   ]
  },
  {
   "cell_type": "code",
   "execution_count": 7,
   "metadata": {},
   "outputs": [
    {
     "name": "stdout",
     "output_type": "stream",
     "text": [
      "Index(['#nombre', 'y0', 'x0'], dtype='object')\n",
      "  #nombre    y0    x0\n",
      "0      E1   532  1453\n",
      "1      E2  1237  1352\n",
      "2      E3  1678   718\n",
      "3      E4   362   551\n",
      "4      E5  1802   274\n",
      "5      E6   670  1900\n",
      "6      E7  1774  1606\n",
      "7      E8   747  1041\n",
      "8      E9   777  1901\n",
      "  #nombre    y0    x0\n",
      "0      E1   532  1453\n",
      "1      E2  1237  1352\n",
      "2      E3  1678   718\n",
      "3      E4   362   551\n",
      "4      E5  1802   274\n",
      "5      E6   670  1900\n",
      "6      E7  1774  1606\n",
      "7      E8   747  1041\n",
      "8      E9   777  1901\n",
      "Cantidad de estrellas: 9\n"
     ]
    }
   ],
   "source": [
    "#---------------------------------------------------\n",
    "# Ingrese su código aquí\n",
    "#---------------------------------------------------\n",
    "import pandas as pd \n",
    "import warnings\n",
    "warnings.filterwarnings('ignore')\n",
    "\n",
    "estrellas = pd.read_csv('estrellas.csv')\n",
    "\n",
    "print(estrellas.columns)\n",
    "print(estrellas.head(10))\n",
    "print(estrellas.tail(10))\n",
    "print('Cantidad de estrellas:',len(estrellas))\n"
   ]
  },
  {
   "cell_type": "markdown",
   "metadata": {},
   "source": [
    "## Parte 5\n",
    "\n",
    "Escriba una función para sumar las intensidades de todos los pixeles que se encuentren a una distancia menor o igual a `r` de una posición `(x0,y0)`, donde estos últimos parámetros sean __argumentos__ de la función.\n",
    "\n",
    "La función debe retornar:\n",
    "- $S$: Suma de las intensidades para todos los pixeles dentro del círculo de radio $r$ y centrado en $(x_0,y_0)$, es decir, de todos los pixeles $(x,y)$ que cumplan con $(x-x_0)^2 + (y-y_0)^2 <= r^2$. \n",
    "- $M$: La mediana de la intensidad de los pixeles que estén dentro del círculo definido anteriormente.\n",
    "- $N$: Número de pixeles incluidos dentro del círculo.\n",
    "\n",
    "Para esto, considere realizar un filtro (masking) con booleans de la imágen para identifar aquellos pixeles dentro del círculo."
   ]
  },
  {
   "cell_type": "code",
   "execution_count": 8,
   "metadata": {},
   "outputs": [
    {
     "name": "stdout",
     "output_type": "stream",
     "text": [
      "50.64233589172363 4.661665 5\n"
     ]
    },
    {
     "data": {
      "text/plain": [
       "'\\ndef dentro_del_circulo(r,x0,y0):\\n    \\n    lxy=[(x, y) for x in range(x0-(r-1),x0+(r+1)) for y in [3,1,4] if x != y] \\n    \\n    return lxy\\nx0, y0, r = 10, 100, 4\\ntxy=[(x, y) for x in range(x0-r-1,x0+r+1) for y in range(y0-r-1,y0+r+1) if (x-x0)*(x-x0)+(y-y0)*(y-y0)<=r*r]\\nx1 , y1 = txy[0]\\nprint(txy[0],x1,y1, imagen[x1,y1], imagen[6,100])\\nimagen[txy[0]]\\n'"
      ]
     },
     "execution_count": 8,
     "metadata": {},
     "output_type": "execute_result"
    }
   ],
   "source": [
    "#---------------------------------------------------\n",
    "# Ingrese su código aquí\n",
    "\"\"\"\n",
    "Ejemplo:\n",
    "-------\n",
    "\n",
    "def suma_pixeles(r, x0, y0):\n",
    "    ...\n",
    "    return (S, M, N)\n",
    "\"\"\"\n",
    "#---------------------------------------------------\n",
    "\"\"\"\n",
    "def suma_pixeles(imagen, r, x0, y0):\n",
    " \n",
    "    for x in np.nditer(imagen[x0,y0]):\n",
    "        \n",
    "    imagen[x0,y0]\n",
    "    return (S,M,N)\n",
    "    \n",
    "\"\"\"\n",
    "import statistics as stats\n",
    "indices = lambda x0,y0,r:[(x, y) for x in range(x0-2*r,x0+2*r) for y in range(y0-2*r,y0+2*r) if (x-x0)*(x-x0)+(y-y0)*(y-y0)<=r*r]\n",
    "ixy=indices(0,0,10)\n",
    "#print(len(ixy),ixy)\n",
    "\n",
    "\n",
    "def suma_pixeles(r,x0,y0,imagen):\n",
    "    ind_xy=indices(x0,y0,r)\n",
    "    S, M, N = 0, 0, 0\n",
    "    l=[]\n",
    "    for indice in ind_xy:\n",
    "#        print(S,imagen[indice])\n",
    "#        S+=imagen[indice]\n",
    "        l.append(imagen[indice])\n",
    "#    print(sum(l),len(l), stats.median(l))\n",
    "#    N=len(ind_xy)\n",
    "#    print(l)\n",
    "    S=sum(l)\n",
    "    M=stats.median(l)\n",
    "    N=len(l)\n",
    "    return (S,M,N)\n",
    "Suma, Mediana, Número = suma_pixeles(1,10,10,imagen)\n",
    "print(Suma, Mediana, Número)\n",
    "\n",
    "#print(imagen[ixy[0]],len(ixy),ixy)\n",
    "\"\"\"\n",
    "def dentro_del_circulo(r,x0,y0):\n",
    "    \n",
    "    lxy=[(x, y) for x in range(x0-(r-1),x0+(r+1)) for y in [3,1,4] if x != y] \n",
    "    \n",
    "    return lxy\n",
    "x0, y0, r = 10, 100, 4\n",
    "txy=[(x, y) for x in range(x0-r-1,x0+r+1) for y in range(y0-r-1,y0+r+1) if (x-x0)*(x-x0)+(y-y0)*(y-y0)<=r*r]\n",
    "x1 , y1 = txy[0]\n",
    "print(txy[0],x1,y1, imagen[x1,y1], imagen[6,100])\n",
    "imagen[txy[0]]\n",
    "\"\"\"\n",
    "#Nada"
   ]
  },
  {
   "cell_type": "markdown",
   "metadata": {},
   "source": [
    "\n",
    "## Parte 6\n",
    "\n",
    "Para cada estrella del archivo encuentre la suma $S$ y mediana $M$ de las intensidades dentro de la imágen asi como el número de pixeles dentro de círculos de radio $r_1=15$ y $r_2=30$."
   ]
  },
  {
   "cell_type": "code",
   "execution_count": 10,
   "metadata": {},
   "outputs": [
    {
     "name": "stdout",
     "output_type": "stream",
     "text": [
      "[[6.96313263e+05 3.58078796e+02 7.09000000e+02]\n",
      " [3.41920930e+05 2.86486420e+02 7.09000000e+02]\n",
      " [3.64821714e+05 2.86164124e+02 7.09000000e+02]\n",
      " [3.66145092e+05 2.92204071e+02 7.09000000e+02]\n",
      " [5.93333464e+05 3.20979828e+02 7.09000000e+02]\n",
      " [1.05095269e+06 4.20828522e+02 7.09000000e+02]\n",
      " [4.47621840e+05 2.99541199e+02 7.09000000e+02]\n",
      " [3.29286069e+05 2.87157135e+02 7.09000000e+02]\n",
      " [3.28899552e+05 2.88904541e+02 7.09000000e+02]] (9, 3) [ 696313.26322937  341920.92959595  364821.7142334   366145.09197998\n",
      "  593333.46432495 1050952.68795776  447621.83988953  329286.06922913\n",
      "  328899.55210876]\n",
      "  #nombre    y0    x0  r1            S1          M1     N1  r2            S2  \\\n",
      "0      E1   532  1453  15  6.963133e+05  358.078796  709.0  30  1.242648e+06   \n",
      "1      E2  1237  1352  15  3.419209e+05  286.486420  709.0  30  8.747504e+05   \n",
      "2      E3  1678   718  15  3.648217e+05  286.164124  709.0  30  8.949347e+05   \n",
      "3      E4   362   551  15  3.661451e+05  292.204071  709.0  30  9.006571e+05   \n",
      "4      E5  1802   274  15  5.933335e+05  320.979828  709.0  30  1.121139e+06   \n",
      "5      E6   670  1900  15  1.050953e+06  420.828522  709.0  30  1.604760e+06   \n",
      "6      E7  1774  1606  15  4.476218e+05  299.541199  709.0  30  9.774180e+05   \n",
      "7      E8   747  1041  15  3.292861e+05  287.157135  709.0  30  8.659830e+05   \n",
      "8      E9   777  1901  15  3.288996e+05  288.904541  709.0  30  8.645638e+05   \n",
      "\n",
      "           M2      N2  \n",
      "0  265.065765  2821.0  \n",
      "1  256.695526  2821.0  \n",
      "2  255.877029  2821.0  \n",
      "3  258.506897  2821.0  \n",
      "4  257.030579  2821.0  \n",
      "5  269.170013  2821.0  \n",
      "6  256.381683  2821.0  \n",
      "7  258.444214  2821.0  \n",
      "8  258.311890  2821.0  \n"
     ]
    }
   ],
   "source": [
    "#---------------------------------------------------\n",
    "# Ingrese su código aquí\n",
    "#---------------------------------------------------\n",
    "import numpy as np\n",
    "\n",
    "#imagen\n",
    "#for elemento in estrellas:\n",
    "#    print(elemento)\n",
    "#type(estrellas)\n",
    "#estrellas.index\n",
    "#estrellas.describe\n",
    "#estrellas['x0']\n",
    "#lst = [estrellas[i].tolist() for i in estrellas.columns]\n",
    "#lst2 = [estrellas[i].values for i in estrellas.columns]\n",
    "#print(lst,lst2)\n",
    "#print(estrellas['y0'].values,estrellas['x0'].values )\n",
    "lx, ly = estrellas['x0'].values, estrellas['y0'].values\n",
    "#print(lx,ly, lx[0], ly[0])\n",
    "#new_estrellas=None\n",
    "new_estrellas=estrellas \n",
    "#new_estrellas['Suma','Mediana','N']=[suma_pixeles(15,lx[i],ly[i],imagen) for i in range(len(lx))] \n",
    "lsmnr1=[suma_pixeles(15,lx[i],ly[i],imagen) for i in range(len(lx))] \n",
    "lsmnr2=[suma_pixeles(30,lx[i],ly[i],imagen) for i in range(len(lx))] \n",
    "#suma_pixeles(15,lx[0],ly[0],imagen)\n",
    "#suma_pixeles(30,lx[0],ly[0],imagen)\n",
    "#print(lsmn, new_estrellas,new_estrellas.shape, estrellas )\n",
    "myarrayr1 = np.asarray(lsmnr1)\n",
    "print(myarrayr1, myarrayr1.shape, myarrayr1[:,0])\n",
    "\n",
    "new_estrellas['r1'] = 15\n",
    "new_estrellas['S1'] = myarrayr1[:,0]\n",
    "new_estrellas['M1'] = myarrayr1[:,1]\n",
    "new_estrellas['N1'] = myarrayr1[:,2]\n",
    "myarrayr2 = np.asarray(lsmnr2)\n",
    "\n",
    "new_estrellas['r2'] = 30\n",
    "new_estrellas['S2'] = myarrayr2[:,0]\n",
    "new_estrellas['M2'] = myarrayr2[:,1]\n",
    "new_estrellas['N2'] = myarrayr2[:,2]\n",
    "\n",
    "\n",
    "print(new_estrellas)\n",
    "#print(lsmn, len(lsmn))\n",
    "#estrellas['S_r10'], estrellas['M_r10'], estrellas['N_r10'] = suma_pixeles(10,estrellas['x0'],estrellas['y0'],imagen) \n",
    "#suma_pixeles(10,estrellas['x0'],estrellas['y0'],imagen) "
   ]
  },
  {
   "cell_type": "markdown",
   "metadata": {},
   "source": [
    "## Parte 7\n",
    "Una aproximación a la magnitud (brillo de una estrella) está dado por la relación $$ mag = -2.5*\\log_{10}\\left(S_1 - N_1* M_2\\right), $$\n",
    "donde $S_1$ y $N_1$ son la suma de intensidades y el número de pixeles dentro de círculo de radio $r_1$, y $M_2$ es la mediana de intensidades dentro del cículo de radio $r_2$.\n",
    "\n",
    "Encuentre la magnitud para cada una de las estrellas del archivo `estrellas.csv`"
   ]
  },
  {
   "cell_type": "code",
   "execution_count": 15,
   "metadata": {},
   "outputs": [
    {
     "name": "stdout",
     "output_type": "stream",
     "text": [
      "  #nombre    y0    x0  r1            S1          M1     N1  r2            S2  \\\n",
      "0      E1   532  1453  15  6.963133e+05  358.078796  709.0  30  1.242648e+06   \n",
      "1      E2  1237  1352  15  3.419209e+05  286.486420  709.0  30  8.747504e+05   \n",
      "2      E3  1678   718  15  3.648217e+05  286.164124  709.0  30  8.949347e+05   \n",
      "3      E4   362   551  15  3.661451e+05  292.204071  709.0  30  9.006571e+05   \n",
      "4      E5  1802   274  15  5.933335e+05  320.979828  709.0  30  1.121139e+06   \n",
      "5      E6   670  1900  15  1.050953e+06  420.828522  709.0  30  1.604760e+06   \n",
      "6      E7  1774  1606  15  4.476218e+05  299.541199  709.0  30  9.774180e+05   \n",
      "7      E8   747  1041  15  3.292861e+05  287.157135  709.0  30  8.659830e+05   \n",
      "8      E9   777  1901  15  3.288996e+05  288.904541  709.0  30  8.645638e+05   \n",
      "\n",
      "           M2      N2        mag  \n",
      "0  265.065765  2821.0 -14.265475  \n",
      "1  256.695526  2821.0 -13.009783  \n",
      "2  255.877029  2821.0 -13.158527  \n",
      "3  258.506897  2821.0 -13.155319  \n",
      "4  257.030579  2821.0 -14.034865  \n",
      "5  269.170013  2821.0 -14.836386  \n",
      "6  256.381683  2821.0 -13.561580  \n",
      "7  258.444214  2821.0 -12.911247  \n",
      "8  258.311890  2821.0 -12.909069  \n"
     ]
    }
   ],
   "source": [
    "#----------------------------------\n",
    "# Ingrese su solución en esta celda\n",
    "#----------------------------------\n",
    "new_estrellas['mag']=new_estrellas['S1']-new_estrellas['N1']*new_estrellas['M2']\n",
    "new_estrellas['mag']=-2.5*np.log10(new_estrellas['S1']-new_estrellas['N1']*new_estrellas['M2'])\n",
    "print(new_estrellas)\n"
   ]
  },
  {
   "cell_type": "markdown",
   "metadata": {},
   "source": [
    "## Parte 8\n",
    "Guarde un archivo `csv` con la información del brillo de cada estrella. El formato debe ser el siguiente (ejemplo):\n",
    "\n",
    "|`Nombre`|`x0`|`y0`|`mag`|`r1`|`S1`|`M1`|`N1`|`r2`|`S2`|`M2`|`N2`|\n",
    "|-|-|-|-|-|-|-|-|-|-|-|-|\n",
    "|E1|534|1384|-14.86|15|1060500|1500|707|30|1767250|250|2827|"
   ]
  },
  {
   "cell_type": "code",
   "execution_count": 22,
   "metadata": {},
   "outputs": [],
   "source": [
    "#----------------------------------\n",
    "# Ingrese su solución en esta celda\n",
    "#----------------------------------\n",
    "new_estrellas.to_csv('PruebaT3v3.csv', columns =['Nombre','x0','y0','mag','r1','S1','M1','N1','r2','S2','M2','N2'],index=False)"
   ]
  },
  {
   "cell_type": "code",
   "execution_count": 17,
   "metadata": {},
   "outputs": [
    {
     "name": "stdout",
     "output_type": "stream",
     "text": [
      "  #nombre    y0    x0  r1            S1          M1     N1  r2            S2  \\\n",
      "0      E1   532  1453  15  6.963133e+05  358.078796  709.0  30  1.242648e+06   \n",
      "1      E2  1237  1352  15  3.419209e+05  286.486420  709.0  30  8.747504e+05   \n",
      "2      E3  1678   718  15  3.648217e+05  286.164124  709.0  30  8.949347e+05   \n",
      "3      E4   362   551  15  3.661451e+05  292.204071  709.0  30  9.006571e+05   \n",
      "4      E5  1802   274  15  5.933335e+05  320.979828  709.0  30  1.121139e+06   \n",
      "5      E6   670  1900  15  1.050953e+06  420.828522  709.0  30  1.604760e+06   \n",
      "6      E7  1774  1606  15  4.476218e+05  299.541199  709.0  30  9.774180e+05   \n",
      "7      E8   747  1041  15  3.292861e+05  287.157135  709.0  30  8.659830e+05   \n",
      "8      E9   777  1901  15  3.288996e+05  288.904541  709.0  30  8.645638e+05   \n",
      "\n",
      "           M2      N2        mag  \n",
      "0  265.065765  2821.0 -14.265475  \n",
      "1  256.695526  2821.0 -13.009783  \n",
      "2  255.877029  2821.0 -13.158527  \n",
      "3  258.506897  2821.0 -13.155319  \n",
      "4  257.030579  2821.0 -14.034865  \n",
      "5  269.170013  2821.0 -14.836386  \n",
      "6  256.381683  2821.0 -13.561580  \n",
      "7  258.444214  2821.0 -12.911247  \n",
      "8  258.311890  2821.0 -12.909069  \n"
     ]
    }
   ],
   "source": [
    "print(new_estrellas)"
   ]
  },
  {
   "cell_type": "code",
   "execution_count": 18,
   "metadata": {},
   "outputs": [
    {
     "name": "stdout",
     "output_type": "stream",
     "text": [
      "Index(['#nombre', 'y0', 'x0', 'r1', 'S1', 'M1', 'N1', 'r2', 'S2', 'M2', 'N2',\n",
      "       'mag'],\n",
      "      dtype='object')\n"
     ]
    }
   ],
   "source": [
    "print(new_estrellas.columns)"
   ]
  },
  {
   "cell_type": "code",
   "execution_count": 19,
   "metadata": {},
   "outputs": [],
   "source": [
    "new_estrellas.rename(columns={'#nombre': 'Nombre'}, inplace=True)"
   ]
  },
  {
   "cell_type": "code",
   "execution_count": 20,
   "metadata": {},
   "outputs": [
    {
     "name": "stdout",
     "output_type": "stream",
     "text": [
      "Index(['Nombre', 'y0', 'x0', 'r1', 'S1', 'M1', 'N1', 'r2', 'S2', 'M2', 'N2',\n",
      "       'mag'],\n",
      "      dtype='object')\n"
     ]
    }
   ],
   "source": [
    "print(new_estrellas.columns)"
   ]
  },
  {
   "cell_type": "code",
   "execution_count": null,
   "metadata": {},
   "outputs": [],
   "source": []
  }
 ],
 "metadata": {
  "kernelspec": {
   "display_name": "Python 3",
   "language": "python",
   "name": "python3"
  },
  "language_info": {
   "codemirror_mode": {
    "name": "ipython",
    "version": 3
   },
   "file_extension": ".py",
   "mimetype": "text/x-python",
   "name": "python",
   "nbconvert_exporter": "python",
   "pygments_lexer": "ipython3",
   "version": "3.7.3"
  }
 },
 "nbformat": 4,
 "nbformat_minor": 2
}
